{
 "cells": [
  {
   "cell_type": "code",
   "execution_count": 1,
   "metadata": {},
   "outputs": [],
   "source": [
    "path_lwf = '/home/karokaro/research-repositories/FACIL/results/fashionmnist_lwf_final_fashionmnist'"
   ]
  },
  {
   "cell_type": "code",
   "execution_count": 2,
   "metadata": {},
   "outputs": [
    {
     "data": {
      "text/plain": [
       "['stderr-2025-01-23-02-05.txt',\n",
       " 'raw_log-2025-01-23-01-38.txt',\n",
       " 'raw_log-2025-01-23-01-54.txt',\n",
       " 'stdout-2025-01-23-01-38.txt',\n",
       " 'stderr-2025-01-23-01-54.txt',\n",
       " 'raw_log-2025-01-23-01-28.txt',\n",
       " 'stderr-2025-01-23-01-10.txt',\n",
       " 'stderr-2025-01-23-01-28.txt',\n",
       " 'raw_log-2025-01-23-01-10.txt',\n",
       " 'stdout-2025-01-23-02-05.txt',\n",
       " 'stdout-2025-01-23-01-18.txt',\n",
       " 'args-2025-01-23-01-18.txt',\n",
       " 'args-2025-01-23-01-10.txt',\n",
       " 'args-2025-01-23-02-17.txt',\n",
       " 'stderr-2025-01-23-01-46.txt',\n",
       " 'stdout-2025-01-23-01-54.txt',\n",
       " 'args-2025-01-23-01-38.txt',\n",
       " 'stdout-2025-01-23-01-28.txt',\n",
       " 'args-2025-01-23-02-05.txt',\n",
       " 'stdout-2025-01-23-01-46.txt',\n",
       " 'args-2025-01-23-00-58.txt',\n",
       " 'args-2025-01-23-01-28.txt',\n",
       " 'stdout-2025-01-23-01-10.txt',\n",
       " 'raw_log-2025-01-23-00-58.txt',\n",
       " 'raw_log-2025-01-23-01-18.txt',\n",
       " 'stderr-2025-01-23-01-18.txt',\n",
       " 'stdout-2025-01-23-02-17.txt',\n",
       " 'args-2025-01-23-01-46.txt',\n",
       " 'raw_log-2025-01-23-01-46.txt',\n",
       " 'args-2025-01-23-01-54.txt',\n",
       " 'stderr-2025-01-23-00-58.txt',\n",
       " 'raw_log-2025-01-23-02-17.txt',\n",
       " 'raw_log-2025-01-23-02-05.txt',\n",
       " 'stderr-2025-01-23-02-17.txt',\n",
       " 'stdout-2025-01-23-00-58.txt',\n",
       " 'stderr-2025-01-23-01-38.txt']"
      ]
     },
     "execution_count": 2,
     "metadata": {},
     "output_type": "execute_result"
    }
   ],
   "source": [
    "from os import listdir\n",
    "from os.path import isfile, join\n",
    "onlyfiles = [f for f in listdir(path_lwf) if isfile(join(path_lwf, f))]\n",
    "onlyfiles"
   ]
  },
  {
   "cell_type": "code",
   "execution_count": 3,
   "metadata": {},
   "outputs": [
    {
     "data": {
      "text/plain": [
       "9"
      ]
     },
     "execution_count": 3,
     "metadata": {},
     "output_type": "execute_result"
    }
   ],
   "source": [
    "args = [file for file in onlyfiles if 'args' in file ]\n",
    "len(args)"
   ]
  },
  {
   "cell_type": "code",
   "execution_count": 4,
   "metadata": {},
   "outputs": [],
   "source": [
    "import json\n",
    "arg_dict = {}\n",
    "for file in args:\n",
    "    with open(join(path_lwf, file), 'r') as f:\n",
    "        # regex time! we need only the timestamp of the file\n",
    "        name = file.split('args-')[1]\n",
    "        arg_dict[name] = json.loads(f.read())"
   ]
  },
  {
   "cell_type": "code",
   "execution_count": 5,
   "metadata": {},
   "outputs": [],
   "source": [
    "import json\n",
    "\n",
    "logs = [file for file in onlyfiles if 'raw_log' in file ]\n",
    "\n",
    "res_dict = {}\n",
    "for file in logs:\n",
    "    with open(join(path_lwf, file), 'r') as f:\n",
    "        name = file.split('raw_log-')[1]\n",
    "        res_dict[name] = []\n",
    "        for line in f:\n",
    "            res_dict[name].append(json.loads(line.strip()))"
   ]
  },
  {
   "cell_type": "code",
   "execution_count": 6,
   "metadata": {},
   "outputs": [],
   "source": [
    "import numpy as np\n",
    "seeds = [0, 1, 2]\n",
    "for seed in seeds:\n",
    "    small = [key for key in arg_dict if arg_dict[key][\"seed\"]==seed]\n",
    "    arg_means = {key:[np.mean([k[\"value\"] for k in res_dict[key] if k[\"name\"]==\"acc_tag\" and k[\"group\"]==\"test\" and k[\"task\"] == i]) for i in [4]] for key in small}\n",
    "    max_key = max(arg_means, key=arg_means.get)\n",
    "    small.remove(max_key)\n",
    "    for key in small:\n",
    "        res_dict.pop(key)\n",
    "        arg_dict.pop(key)"
   ]
  },
  {
   "cell_type": "code",
   "execution_count": 7,
   "metadata": {},
   "outputs": [
    {
     "name": "stderr",
     "output_type": "stream",
     "text": [
      "/home/karokaro/research-repositories/FACIL/venv/lib/python3.11/site-packages/numpy/_core/fromnumeric.py:3860: RuntimeWarning: Mean of empty slice.\n",
      "  return _methods._mean(a, axis=axis, dtype=dtype,\n",
      "/home/karokaro/research-repositories/FACIL/venv/lib/python3.11/site-packages/numpy/_core/_methods.py:145: RuntimeWarning: invalid value encountered in scalar divide\n",
      "  ret = ret.dtype.type(ret / rcount)\n"
     ]
    }
   ],
   "source": [
    "import pandas as pd\n",
    "import numpy as np\n",
    "from itertools import chain\n",
    "data = pd.DataFrame({'Approach': list(chain.from_iterable([['LWF' for i in range(5)] for key in res_dict.keys()])),\n",
    "                     'Task': list(chain.from_iterable([[i for i in range(5)] for key in res_dict.keys()])),\n",
    "                     'Average Accuracy': list(chain.from_iterable([[np.mean([k[\"value\"] for k in res_dict[key] if k[\"name\"]==\"acc_taw\" and k[\"group\"]==\"test\" and k[\"task\"] == i]) for i in range(5)] for key in res_dict.keys()])),\n",
    "                     'Average Forgetting': list(chain.from_iterable([[np.mean([k[\"value\"] for k in res_dict[key] if k[\"name\"]==\"forg_taw\" and k[\"group\"]==\"test\" and k[\"task\"] == i and k[\"iter\"] != k[\"task\"]]) for i in range(5)] for key in res_dict.keys()]))})"
   ]
  },
  {
   "cell_type": "code",
   "execution_count": 8,
   "metadata": {},
   "outputs": [
    {
     "name": "stderr",
     "output_type": "stream",
     "text": [
      "/tmp/ipykernel_39919/1207693049.py:2: FutureWarning: \n",
      "\n",
      "The `ci` parameter is deprecated. Use `errorbar=None` for the same effect.\n",
      "\n",
      "  sns.lineplot( data,  x='Task', y='Average Accuracy', ci=None)\n"
     ]
    },
    {
     "data": {
      "text/plain": [
       "<Axes: xlabel='Task', ylabel='Average Accuracy'>"
      ]
     },
     "execution_count": 8,
     "metadata": {},
     "output_type": "execute_result"
    },
    {
     "data": {
      "image/png": "[encoded data removed]",
      "text/plain": [
       "<Figure size 640x480 with 1 Axes>"
      ]
     },
     "metadata": {},
     "output_type": "display_data"
    }
   ],
   "source": [
    "import seaborn as sns\n",
    "sns.lineplot( data,  x='Task', y='Average Accuracy', ci=None)"
   ]
  },
  {
   "cell_type": "code",
   "execution_count": 9,
   "metadata": {},
   "outputs": [
    {
     "data": {
      "text/html": [
       "<div>\n",
       "<style scoped>\n",
       "    .dataframe tbody tr th:only-of-type {\n",
       "        vertical-align: middle;\n",
       "    }\n",
       "\n",
       "    .dataframe tbody tr th {\n",
       "        vertical-align: top;\n",
       "    }\n",
       "\n",
       "    .dataframe thead th {\n",
       "        text-align: right;\n",
       "    }\n",
       "</style>\n",
       "<table border=\"1\" class=\"dataframe\">\n",
       "  <thead>\n",
       "    <tr style=\"text-align: right;\">\n",
       "      <th></th>\n",
       "      <th></th>\n",
       "      <th>Average Accuracy</th>\n",
       "      <th>Average Forgetting</th>\n",
       "    </tr>\n",
       "    <tr>\n",
       "      <th>Approach</th>\n",
       "      <th>Task</th>\n",
       "      <th></th>\n",
       "      <th></th>\n",
       "    </tr>\n",
       "  </thead>\n",
       "  <tbody>\n",
       "    <tr>\n",
       "      <th rowspan=\"5\" valign=\"top\">LWF</th>\n",
       "      <th>0</th>\n",
       "      <td>98.23</td>\n",
       "      <td>NaN</td>\n",
       "    </tr>\n",
       "    <tr>\n",
       "      <th>1</th>\n",
       "      <td>96.95</td>\n",
       "      <td>0.13</td>\n",
       "    </tr>\n",
       "    <tr>\n",
       "      <th>2</th>\n",
       "      <td>97.45</td>\n",
       "      <td>0.73</td>\n",
       "    </tr>\n",
       "    <tr>\n",
       "      <th>3</th>\n",
       "      <td>97.49</td>\n",
       "      <td>1.28</td>\n",
       "    </tr>\n",
       "    <tr>\n",
       "      <th>4</th>\n",
       "      <td>97.93</td>\n",
       "      <td>0.97</td>\n",
       "    </tr>\n",
       "  </tbody>\n",
       "</table>\n",
       "</div>"
      ],
      "text/plain": [
       "               Average Accuracy  Average Forgetting\n",
       "Approach Task                                      \n",
       "LWF      0                98.23                 NaN\n",
       "         1                96.95                0.13\n",
       "         2                97.45                0.73\n",
       "         3                97.49                1.28\n",
       "         4                97.93                0.97"
      ]
     },
     "execution_count": 9,
     "metadata": {},
     "output_type": "execute_result"
    }
   ],
   "source": [
    "data.groupby(['Approach', 'Task']).mean().apply(lambda x: round(x, 2))"
   ]
  },
  {
   "cell_type": "code",
   "execution_count": 10,
   "metadata": {},
   "outputs": [],
   "source": [
    "path_ewc = '/home/karokaro/research-repositories/FACIL/results/fashionmnist_ewc_final_fashionmnist'"
   ]
  },
  {
   "cell_type": "code",
   "execution_count": null,
   "metadata": {},
   "outputs": [
    {
     "data": {
      "text/plain": [
       "9"
      ]
     },
     "execution_count": 11,
     "metadata": {},
     "output_type": "execute_result"
    }
   ],
   "source": [
    "onlyfiles = [f for f in listdir(path_ewc) if isfile(join(path_ewc, f))]\n",
    "args = [file for file in onlyfiles if 'args' in file ]\n",
    "len(args)"
   ]
  },
  {
   "cell_type": "code",
   "execution_count": 12,
   "metadata": {},
   "outputs": [],
   "source": [
    "import json\n",
    "arg_dict = {}\n",
    "for file in args:\n",
    "    with open(join(path_ewc, file), 'r') as f:\n",
    "        # regex time! we need only the timestamp of the file\n",
    "        name = file.split('args-')[1]\n",
    "        arg_dict[name] = json.loads(f.read())"
   ]
  },
  {
   "cell_type": "code",
   "execution_count": 13,
   "metadata": {},
   "outputs": [],
   "source": [
    "import json\n",
    "\n",
    "logs = [file for file in onlyfiles if 'raw_log' in file ]\n",
    "\n",
    "res_dict = {}\n",
    "for file in logs:\n",
    "    with open(join(path_ewc, file), 'r') as f:\n",
    "        name = file.split('raw_log-')[1]\n",
    "        res_dict[name] = []\n",
    "        for line in f:\n",
    "            res_dict[name].append(json.loads(line.strip()))"
   ]
  },
  {
   "cell_type": "code",
   "execution_count": 14,
   "metadata": {},
   "outputs": [],
   "source": [
    "import numpy as np\n",
    "seeds = [0, 1, 2]\n",
    "for seed in seeds:\n",
    "    small = [key for key in arg_dict if arg_dict[key][\"seed\"]==seed]\n",
    "    arg_means = {key:[np.mean([k[\"value\"] for k in res_dict[key] if k[\"name\"]==\"acc_tag\" and k[\"group\"]==\"test\" and k[\"task\"] == i]) for i in [4]] for key in small}\n",
    "    max_key = max(arg_means, key=arg_means.get)\n",
    "    small.remove(max_key)\n",
    "    for key in small:\n",
    "        res_dict.pop(key)\n",
    "        arg_dict.pop(key)"
   ]
  },
  {
   "cell_type": "code",
   "execution_count": null,
   "metadata": {},
   "outputs": [
    {
     "name": "stderr",
     "output_type": "stream",
     "text": [
      "/home/karokaro/research-repositories/FACIL/venv/lib/python3.11/site-packages/numpy/_core/fromnumeric.py:3860: RuntimeWarning: Mean of empty slice.\n",
      "  return _methods._mean(a, axis=axis, dtype=dtype,\n",
      "/home/karokaro/research-repositories/FACIL/venv/lib/python3.11/site-packages/numpy/_core/_methods.py:145: RuntimeWarning: invalid value encountered in scalar divide\n",
      "  ret = ret.dtype.type(ret / rcount)\n"
     ]
    }
   ],
   "source": [
    "data_ewc = pd.DataFrame({'Approach': list(chain.from_iterable([['EWC' for i in range(5)] for key in res_dict.keys()])),\n",
    "                     'Task': list(chain.from_iterable([[i for i in range(5)] for key in res_dict.keys()])),\n",
    "                     'Average Accuracy': list(chain.from_iterable([[np.mean([k[\"value\"] for k in res_dict[key] if k[\"name\"]==\"acc_taw\" and k[\"group\"]==\"test\" and k[\"task\"] == i]) for i in range(5)] for key in res_dict.keys()])),\n",
    "                     'Average Forgetting': list(chain.from_iterable([[np.mean([k[\"value\"] for k in res_dict[key] if k[\"name\"]==\"forg_taw\" and k[\"group\"]==\"test\" and k[\"task\"] == i and k[\"iter\"] != k[\"task\"]]) for i in range(5)] for key in res_dict.keys()]))})"
   ]
  },
  {
   "cell_type": "code",
   "execution_count": 16,
   "metadata": {},
   "outputs": [
    {
     "data": {
      "text/plain": [
       "<Axes: xlabel='Task', ylabel='Average Accuracy'>"
      ]
     },
     "execution_count": 16,
     "metadata": {},
     "output_type": "execute_result"
    },
    {
     "data": {
      "image/png": "[encoded data removed]",
      "text/plain": [
       "<Figure size 640x480 with 1 Axes>"
      ]
     },
     "metadata": {},
     "output_type": "display_data"
    }
   ],
   "source": [
    "sns.lineplot( data_ewc,  x='Task', y='Average Accuracy')"
   ]
  },
  {
   "cell_type": "code",
   "execution_count": 17,
   "metadata": {},
   "outputs": [
    {
     "data": {
      "text/html": [
       "<div>\n",
       "<style scoped>\n",
       "    .dataframe tbody tr th:only-of-type {\n",
       "        vertical-align: middle;\n",
       "    }\n",
       "\n",
       "    .dataframe tbody tr th {\n",
       "        vertical-align: top;\n",
       "    }\n",
       "\n",
       "    .dataframe thead th {\n",
       "        text-align: right;\n",
       "    }\n",
       "</style>\n",
       "<table border=\"1\" class=\"dataframe\">\n",
       "  <thead>\n",
       "    <tr style=\"text-align: right;\">\n",
       "      <th></th>\n",
       "      <th></th>\n",
       "      <th>Average Accuracy</th>\n",
       "      <th>Average Forgetting</th>\n",
       "    </tr>\n",
       "    <tr>\n",
       "      <th>Approach</th>\n",
       "      <th>Task</th>\n",
       "      <th></th>\n",
       "      <th></th>\n",
       "    </tr>\n",
       "  </thead>\n",
       "  <tbody>\n",
       "    <tr>\n",
       "      <th rowspan=\"5\" valign=\"top\">EWC</th>\n",
       "      <th>0</th>\n",
       "      <td>98.23</td>\n",
       "      <td>NaN</td>\n",
       "    </tr>\n",
       "    <tr>\n",
       "      <th>1</th>\n",
       "      <td>94.94</td>\n",
       "      <td>3.93</td>\n",
       "    </tr>\n",
       "    <tr>\n",
       "      <th>2</th>\n",
       "      <td>96.61</td>\n",
       "      <td>1.88</td>\n",
       "    </tr>\n",
       "    <tr>\n",
       "      <th>3</th>\n",
       "      <td>97.48</td>\n",
       "      <td>1.21</td>\n",
       "    </tr>\n",
       "    <tr>\n",
       "      <th>4</th>\n",
       "      <td>96.71</td>\n",
       "      <td>2.41</td>\n",
       "    </tr>\n",
       "  </tbody>\n",
       "</table>\n",
       "</div>"
      ],
      "text/plain": [
       "               Average Accuracy  Average Forgetting\n",
       "Approach Task                                      \n",
       "EWC      0                98.23                 NaN\n",
       "         1                94.94                3.93\n",
       "         2                96.61                1.88\n",
       "         3                97.48                1.21\n",
       "         4                96.71                2.41"
      ]
     },
     "execution_count": 17,
     "metadata": {},
     "output_type": "execute_result"
    }
   ],
   "source": [
    "data_ewc.groupby(['Approach', 'Task']).mean().apply(lambda x: round(x, 2))"
   ]
  },
  {
   "cell_type": "code",
   "execution_count": 18,
   "metadata": {},
   "outputs": [],
   "source": [
    "path_lwm = '/home/karokaro/research-repositories/FACIL/results/fashionmnist_lwm_final_fashionmnist'"
   ]
  },
  {
   "cell_type": "code",
   "execution_count": 19,
   "metadata": {},
   "outputs": [
    {
     "data": {
      "text/plain": [
       "['raw_log-2025-01-24-08-22.txt',\n",
       " 'stderr-2025-01-24-08-52.txt',\n",
       " 'stderr-2025-01-24-08-22.txt',\n",
       " 'stderr-2025-01-24-08-09.txt',\n",
       " 'stdout-2025-01-24-08-29.txt',\n",
       " 'raw_log-2025-01-24-08-29.txt',\n",
       " 'args-2025-01-24-08-02.txt',\n",
       " 'stdout-2025-01-24-08-22.txt',\n",
       " 'args-2025-01-24-08-39.txt',\n",
       " 'args-2025-01-24-08-09.txt',\n",
       " 'raw_log-2025-01-24-08-59.txt',\n",
       " 'stdout-2025-01-24-08-59.txt',\n",
       " 'raw_log-2025-01-24-08-09.txt',\n",
       " 'stderr-2025-01-24-08-45.txt',\n",
       " 'args-2025-01-24-08-15.txt',\n",
       " 'args-2025-01-24-08-52.txt',\n",
       " 'args-2025-01-24-08-29.txt',\n",
       " 'stderr-2025-01-24-08-59.txt',\n",
       " 'raw_log-2025-01-24-08-39.txt',\n",
       " 'stdout-2025-01-24-08-02.txt',\n",
       " 'stderr-2025-01-24-08-29.txt',\n",
       " 'args-2025-01-24-08-45.txt',\n",
       " 'stderr-2025-01-24-08-15.txt',\n",
       " 'stdout-2025-01-24-08-39.txt',\n",
       " 'args-2025-01-24-08-22.txt',\n",
       " 'stdout-2025-01-24-08-45.txt',\n",
       " 'args-2025-01-24-08-59.txt',\n",
       " 'raw_log-2025-01-24-08-15.txt',\n",
       " 'stderr-2025-01-24-08-39.txt',\n",
       " 'raw_log-2025-01-24-08-52.txt',\n",
       " 'raw_log-2025-01-24-08-45.txt',\n",
       " 'stdout-2025-01-24-08-09.txt',\n",
       " 'stderr-2025-01-24-08-02.txt',\n",
       " 'stdout-2025-01-24-08-52.txt',\n",
       " 'raw_log-2025-01-24-08-02.txt',\n",
       " 'stdout-2025-01-24-08-15.txt']"
      ]
     },
     "execution_count": 19,
     "metadata": {},
     "output_type": "execute_result"
    }
   ],
   "source": [
    "from os import listdir\n",
    "from os.path import isfile, join\n",
    "onlyfiles = [f for f in listdir(path_lwm) if isfile(join(path_lwm, f))]\n",
    "onlyfiles"
   ]
  },
  {
   "cell_type": "code",
   "execution_count": 20,
   "metadata": {},
   "outputs": [
    {
     "data": {
      "text/plain": [
       "9"
      ]
     },
     "execution_count": 20,
     "metadata": {},
     "output_type": "execute_result"
    }
   ],
   "source": [
    "args = [file for file in onlyfiles if 'args' in file ]\n",
    "len(args)"
   ]
  },
  {
   "cell_type": "code",
   "execution_count": 21,
   "metadata": {},
   "outputs": [],
   "source": [
    "import json\n",
    "arg_dict = {}\n",
    "for file in args:\n",
    "    with open(join(path_lwm, file), 'r') as f:\n",
    "        # regex time! we need only the timestamp of the file\n",
    "        name = file.split('args-')[1]\n",
    "        arg_dict[name] = json.loads(f.read())"
   ]
  },
  {
   "cell_type": "code",
   "execution_count": 22,
   "metadata": {},
   "outputs": [],
   "source": [
    "import json\n",
    "\n",
    "logs = [file for file in onlyfiles if 'raw_log' in file ]\n",
    "\n",
    "res_dict = {}\n",
    "for file in logs:\n",
    "    with open(join(path_lwm, file), 'r') as f:\n",
    "        name = file.split('raw_log-')[1]\n",
    "        res_dict[name] = []\n",
    "        for line in f:\n",
    "            res_dict[name].append(json.loads(line.strip()))"
   ]
  },
  {
   "cell_type": "code",
   "execution_count": 23,
   "metadata": {},
   "outputs": [],
   "source": [
    "import numpy as np\n",
    "seeds = [0, 1, 2]\n",
    "for seed in seeds:\n",
    "    small = [key for key in arg_dict if arg_dict[key][\"seed\"]==seed]\n",
    "    arg_means = {key:[np.mean([k[\"value\"] for k in res_dict[key] if k[\"name\"]==\"acc_tag\" and k[\"group\"]==\"test\" and k[\"task\"] == i]) for i in [4]] for key in small}\n",
    "    max_key = max(arg_means, key=arg_means.get)\n",
    "    small.remove(max_key)\n",
    "    for key in small:\n",
    "        res_dict.pop(key)\n",
    "        arg_dict.pop(key)"
   ]
  },
  {
   "cell_type": "code",
   "execution_count": null,
   "metadata": {},
   "outputs": [
    {
     "name": "stderr",
     "output_type": "stream",
     "text": [
      "/home/karokaro/research-repositories/FACIL/venv/lib/python3.11/site-packages/numpy/_core/fromnumeric.py:3860: RuntimeWarning: Mean of empty slice.\n",
      "  return _methods._mean(a, axis=axis, dtype=dtype,\n",
      "/home/karokaro/research-repositories/FACIL/venv/lib/python3.11/site-packages/numpy/_core/_methods.py:145: RuntimeWarning: invalid value encountered in scalar divide\n",
      "  ret = ret.dtype.type(ret / rcount)\n"
     ]
    }
   ],
   "source": [
    "import pandas as pd\n",
    "import numpy as np\n",
    "from itertools import chain\n",
    "data_lwm = pd.DataFrame({'Approach': list(chain.from_iterable([['LWM' for i in range(5)] for key in res_dict.keys()])),\n",
    "                     'Task': list(chain.from_iterable([[i for i in range(5)] for key in res_dict.keys()])),\n",
    "                     'Average Accuracy': list(chain.from_iterable([[np.mean([k[\"value\"] for k in res_dict[key] if k[\"name\"]==\"acc_taw\" and k[\"group\"]==\"test\" and k[\"task\"] == i]) for i in range(5)] for key in res_dict.keys()])),\n",
    "                     'Average Forgetting': list(chain.from_iterable([[np.mean([k[\"value\"] for k in res_dict[key] if k[\"name\"]==\"forg_taw\" and k[\"group\"]==\"test\" and k[\"task\"] == i and k[\"iter\"] != k[\"task\"]]) for i in range(5)] for key in res_dict.keys()]))})"
   ]
  },
  {
   "cell_type": "code",
   "execution_count": 25,
   "metadata": {},
   "outputs": [
    {
     "data": {
      "text/plain": [
       "<Axes: xlabel='Task', ylabel='Average Accuracy'>"
      ]
     },
     "execution_count": 25,
     "metadata": {},
     "output_type": "execute_result"
    },
    {
     "data": {
      "image/png": "[encoded data removed]",
      "text/plain": [
       "<Figure size 640x480 with 1 Axes>"
      ]
     },
     "metadata": {},
     "output_type": "display_data"
    }
   ],
   "source": [
    "sns.lineplot( data_lwm,  x='Task', y='Average Accuracy')"
   ]
  },
  {
   "cell_type": "code",
   "execution_count": 26,
   "metadata": {},
   "outputs": [
    {
     "data": {
      "text/html": [
       "<div>\n",
       "<style scoped>\n",
       "    .dataframe tbody tr th:only-of-type {\n",
       "        vertical-align: middle;\n",
       "    }\n",
       "\n",
       "    .dataframe tbody tr th {\n",
       "        vertical-align: top;\n",
       "    }\n",
       "\n",
       "    .dataframe thead th {\n",
       "        text-align: right;\n",
       "    }\n",
       "</style>\n",
       "<table border=\"1\" class=\"dataframe\">\n",
       "  <thead>\n",
       "    <tr style=\"text-align: right;\">\n",
       "      <th></th>\n",
       "      <th></th>\n",
       "      <th>Average Accuracy</th>\n",
       "      <th>Average Forgetting</th>\n",
       "    </tr>\n",
       "    <tr>\n",
       "      <th>Approach</th>\n",
       "      <th>Task</th>\n",
       "      <th></th>\n",
       "      <th></th>\n",
       "    </tr>\n",
       "  </thead>\n",
       "  <tbody>\n",
       "    <tr>\n",
       "      <th rowspan=\"5\" valign=\"top\">LWM</th>\n",
       "      <th>0</th>\n",
       "      <td>98.62</td>\n",
       "      <td>NaN</td>\n",
       "    </tr>\n",
       "    <tr>\n",
       "      <th>1</th>\n",
       "      <td>94.79</td>\n",
       "      <td>4.57</td>\n",
       "    </tr>\n",
       "    <tr>\n",
       "      <th>2</th>\n",
       "      <td>86.19</td>\n",
       "      <td>17.58</td>\n",
       "    </tr>\n",
       "    <tr>\n",
       "      <th>3</th>\n",
       "      <td>91.05</td>\n",
       "      <td>9.83</td>\n",
       "    </tr>\n",
       "    <tr>\n",
       "      <th>4</th>\n",
       "      <td>92.35</td>\n",
       "      <td>7.85</td>\n",
       "    </tr>\n",
       "  </tbody>\n",
       "</table>\n",
       "</div>"
      ],
      "text/plain": [
       "               Average Accuracy  Average Forgetting\n",
       "Approach Task                                      \n",
       "LWM      0                98.62                 NaN\n",
       "         1                94.79                4.57\n",
       "         2                86.19               17.58\n",
       "         3                91.05                9.83\n",
       "         4                92.35                7.85"
      ]
     },
     "execution_count": 26,
     "metadata": {},
     "output_type": "execute_result"
    }
   ],
   "source": [
    "data_lwm.groupby(['Approach', 'Task']).mean().apply(lambda x: round(x, 2))"
   ]
  },
  {
   "cell_type": "code",
   "execution_count": 27,
   "metadata": {},
   "outputs": [],
   "source": [
    "path_icarl = '/home/karokaro/research-repositories/FACIL/results/fashionmnist_icarl_final_fashionmnist'"
   ]
  },
  {
   "cell_type": "code",
   "execution_count": 28,
   "metadata": {},
   "outputs": [
    {
     "data": {
      "text/plain": [
       "['args-2025-01-22-08-12.txt',\n",
       " 'raw_log-2025-01-22-08-40.txt',\n",
       " 'args-2025-01-22-08-40.txt',\n",
       " 'args-2025-01-22-07-16.txt',\n",
       " 'raw_log-2025-01-22-07-16.txt',\n",
       " 'raw_log-2025-01-22-08-26.txt',\n",
       " 'stderr-2025-01-22-08-56.txt',\n",
       " 'stdout-2025-01-22-07-43.txt',\n",
       " 'args-2025-01-22-07-29.txt',\n",
       " 'args-2025-01-22-09-11.txt',\n",
       " 'args-2025-01-22-08-26.txt',\n",
       " 'args-2025-01-22-07-43.txt',\n",
       " 'stdout-2025-01-22-07-57.txt',\n",
       " 'raw_log-2025-01-22-08-12.txt',\n",
       " 'stderr-2025-01-22-08-40.txt',\n",
       " 'stdout-2025-01-22-08-56.txt',\n",
       " 'stdout-2025-01-22-08-12.txt',\n",
       " 'args-2025-01-22-08-56.txt',\n",
       " 'raw_log-2025-01-22-07-57.txt',\n",
       " 'raw_log-2025-01-22-07-43.txt',\n",
       " 'stdout-2025-01-22-07-29.txt',\n",
       " 'stderr-2025-01-22-08-12.txt',\n",
       " 'raw_log-2025-01-22-07-29.txt',\n",
       " 'stderr-2025-01-22-07-57.txt',\n",
       " 'stderr-2025-01-22-07-43.txt',\n",
       " 'stderr-2025-01-22-08-26.txt',\n",
       " 'stdout-2025-01-22-08-26.txt',\n",
       " 'stdout-2025-01-22-09-11.txt',\n",
       " 'stderr-2025-01-22-07-16.txt',\n",
       " 'stderr-2025-01-22-09-11.txt',\n",
       " 'stdout-2025-01-22-07-16.txt',\n",
       " 'args-2025-01-22-07-57.txt',\n",
       " 'raw_log-2025-01-22-09-11.txt',\n",
       " 'stderr-2025-01-22-07-29.txt',\n",
       " 'raw_log-2025-01-22-08-56.txt',\n",
       " 'stdout-2025-01-22-08-40.txt']"
      ]
     },
     "execution_count": 28,
     "metadata": {},
     "output_type": "execute_result"
    }
   ],
   "source": [
    "from os import listdir\n",
    "from os.path import isfile, join\n",
    "onlyfiles = [f for f in listdir(path_icarl) if isfile(join(path_icarl, f))]\n",
    "onlyfiles"
   ]
  },
  {
   "cell_type": "code",
   "execution_count": 29,
   "metadata": {},
   "outputs": [
    {
     "data": {
      "text/plain": [
       "9"
      ]
     },
     "execution_count": 29,
     "metadata": {},
     "output_type": "execute_result"
    }
   ],
   "source": [
    "args = [file for file in onlyfiles if 'args' in file ]\n",
    "len(args)"
   ]
  },
  {
   "cell_type": "code",
   "execution_count": 30,
   "metadata": {},
   "outputs": [],
   "source": [
    "import json\n",
    "arg_dict = {}\n",
    "for file in args:\n",
    "    with open(join(path_icarl, file), 'r') as f:\n",
    "        # regex time! we need only the timestamp of the file\n",
    "        name = file.split('args-')[1]\n",
    "        arg_dict[name] = json.loads(f.read())"
   ]
  },
  {
   "cell_type": "code",
   "execution_count": 31,
   "metadata": {},
   "outputs": [],
   "source": [
    "import json\n",
    "\n",
    "logs = [file for file in onlyfiles if 'raw_log' in file ]\n",
    "\n",
    "res_dict = {}\n",
    "for file in logs:\n",
    "    with open(join(path_icarl, file), 'r') as f:\n",
    "        name = file.split('raw_log-')[1]\n",
    "        res_dict[name] = []\n",
    "        for line in f:\n",
    "            res_dict[name].append(json.loads(line.strip()))"
   ]
  },
  {
   "cell_type": "code",
   "execution_count": 32,
   "metadata": {},
   "outputs": [],
   "source": [
    "import numpy as np\n",
    "seeds = [0, 1, 2]\n",
    "for seed in seeds:\n",
    "    small = [key for key in arg_dict if arg_dict[key][\"seed\"]==seed]\n",
    "    arg_means = {key:[np.mean([k[\"value\"] for k in res_dict[key] if k[\"name\"]==\"acc_tag\" and k[\"group\"]==\"test\" and k[\"task\"] == i]) for i in [4]] for key in small}\n",
    "    max_key = max(arg_means, key=arg_means.get)\n",
    "    small.remove(max_key)\n",
    "    for key in small:\n",
    "        res_dict.pop(key)\n",
    "        arg_dict.pop(key)"
   ]
  },
  {
   "cell_type": "code",
   "execution_count": 33,
   "metadata": {},
   "outputs": [
    {
     "name": "stderr",
     "output_type": "stream",
     "text": [
      "/home/karokaro/research-repositories/FACIL/venv/lib/python3.11/site-packages/numpy/_core/fromnumeric.py:3860: RuntimeWarning: Mean of empty slice.\n",
      "  return _methods._mean(a, axis=axis, dtype=dtype,\n",
      "/home/karokaro/research-repositories/FACIL/venv/lib/python3.11/site-packages/numpy/_core/_methods.py:145: RuntimeWarning: invalid value encountered in scalar divide\n",
      "  ret = ret.dtype.type(ret / rcount)\n"
     ]
    }
   ],
   "source": [
    "import pandas as pd\n",
    "import numpy as np\n",
    "from itertools import chain\n",
    "data_icarl = pd.DataFrame({'Approach': list(chain.from_iterable([['iCaRL' for i in range(5)] for key in res_dict.keys()])),\n",
    "                     'Task': list(chain.from_iterable([[i for i in range(5)] for key in res_dict.keys()])),\n",
    "                     'Average Accuracy': list(chain.from_iterable([[np.mean([k[\"value\"] for k in res_dict[key] if k[\"name\"]==\"acc_taw\" and k[\"group\"]==\"test\" and k[\"task\"] == i]) for i in range(5)] for key in res_dict.keys()])),\n",
    "                     'Average Forgetting': list(chain.from_iterable([[np.mean([k[\"value\"] for k in res_dict[key] if k[\"name\"]==\"forg_taw\" and k[\"group\"]==\"test\" and k[\"task\"] == i and k[\"iter\"] != k[\"task\"]]) for i in range(5)] for key in res_dict.keys()]))})"
   ]
  },
  {
   "cell_type": "code",
   "execution_count": null,
   "metadata": {},
   "outputs": [
    {
     "data": {
      "text/html": [
       "<div>\n",
       "<style scoped>\n",
       "    .dataframe tbody tr th:only-of-type {\n",
       "        vertical-align: middle;\n",
       "    }\n",
       "\n",
       "    .dataframe tbody tr th {\n",
       "        vertical-align: top;\n",
       "    }\n",
       "\n",
       "    .dataframe thead th {\n",
       "        text-align: right;\n",
       "    }\n",
       "</style>\n",
       "<table border=\"1\" class=\"dataframe\">\n",
       "  <thead>\n",
       "    <tr style=\"text-align: right;\">\n",
       "      <th></th>\n",
       "      <th></th>\n",
       "      <th>Average Accuracy</th>\n",
       "      <th>Average Forgetting</th>\n",
       "    </tr>\n",
       "    <tr>\n",
       "      <th>Approach</th>\n",
       "      <th>Task</th>\n",
       "      <th></th>\n",
       "      <th></th>\n",
       "    </tr>\n",
       "  </thead>\n",
       "  <tbody>\n",
       "    <tr>\n",
       "      <th rowspan=\"5\" valign=\"top\">iCaRL</th>\n",
       "      <th>0</th>\n",
       "      <td>98.77</td>\n",
       "      <td>NaN</td>\n",
       "    </tr>\n",
       "    <tr>\n",
       "      <th>1</th>\n",
       "      <td>96.85</td>\n",
       "      <td>0.97</td>\n",
       "    </tr>\n",
       "    <tr>\n",
       "      <th>2</th>\n",
       "      <td>96.26</td>\n",
       "      <td>2.87</td>\n",
       "    </tr>\n",
       "    <tr>\n",
       "      <th>3</th>\n",
       "      <td>96.48</td>\n",
       "      <td>2.84</td>\n",
       "    </tr>\n",
       "    <tr>\n",
       "      <th>4</th>\n",
       "      <td>97.39</td>\n",
       "      <td>1.80</td>\n",
       "    </tr>\n",
       "  </tbody>\n",
       "</table>\n",
       "</div>"
      ],
      "text/plain": [
       "               Average Accuracy  Average Forgetting\n",
       "Approach Task                                      \n",
       "iCaRL    0                98.77                 NaN\n",
       "         1                96.85                0.97\n",
       "         2                96.26                2.87\n",
       "         3                96.48                2.84\n",
       "         4                97.39                1.80"
      ]
     },
     "execution_count": 34,
     "metadata": {},
     "output_type": "execute_result"
    }
   ],
   "source": [
    "data_icarl.groupby(['Approach', 'Task']).mean().apply(lambda x: round(x, 2))"
   ]
  },
  {
   "cell_type": "code",
   "execution_count": 35,
   "metadata": {},
   "outputs": [],
   "source": [
    "path_rere = '/home/karokaro/research-repositories/FACIL/results/fashionmnist_rere_lrp_final_fashionmnist'"
   ]
  },
  {
   "cell_type": "code",
   "execution_count": 36,
   "metadata": {},
   "outputs": [
    {
     "data": {
      "text/plain": [
       "['raw_log-2025-01-22-18-29.txt',\n",
       " 'raw_log-2025-01-22-09-27.txt',\n",
       " 'stdout-2025-01-22-20-13.txt',\n",
       " 'args-2025-01-22-21-59.txt',\n",
       " 'stderr-2025-01-22-17-06.txt',\n",
       " 'stdout-2025-01-22-12-27.txt',\n",
       " 'stderr-2025-01-22-21-59.txt',\n",
       " 'stdout-2025-01-22-21-59.txt',\n",
       " 'stdout-2025-01-22-11-01.txt',\n",
       " 'raw_log-2025-01-22-11-01.txt',\n",
       " 'stdout-2025-01-22-18-29.txt',\n",
       " 'stderr-2025-01-22-11-01.txt',\n",
       " 'raw_log-2025-01-22-15-33.txt',\n",
       " 'args-2025-01-22-17-06.txt',\n",
       " 'stderr-2025-01-22-13-58.txt',\n",
       " 'stderr-2025-01-22-20-13.txt',\n",
       " 'raw_log-2025-01-22-13-58.txt',\n",
       " 'stdout-2025-01-22-17-06.txt',\n",
       " 'stdout-2025-01-22-09-27.txt',\n",
       " 'args-2025-01-22-15-33.txt',\n",
       " 'stderr-2025-01-22-15-33.txt',\n",
       " 'args-2025-01-22-11-01.txt',\n",
       " 'args-2025-01-22-09-27.txt',\n",
       " 'stdout-2025-01-22-15-33.txt',\n",
       " 'raw_log-2025-01-22-12-27.txt',\n",
       " 'stderr-2025-01-22-09-27.txt',\n",
       " 'args-2025-01-22-12-27.txt',\n",
       " 'raw_log-2025-01-22-21-59.txt',\n",
       " 'args-2025-01-22-20-13.txt',\n",
       " 'args-2025-01-22-18-29.txt',\n",
       " 'stderr-2025-01-22-18-29.txt',\n",
       " 'raw_log-2025-01-22-17-06.txt',\n",
       " 'stderr-2025-01-22-12-27.txt',\n",
       " 'stdout-2025-01-22-13-58.txt',\n",
       " 'args-2025-01-22-13-58.txt',\n",
       " 'raw_log-2025-01-22-20-13.txt']"
      ]
     },
     "execution_count": 36,
     "metadata": {},
     "output_type": "execute_result"
    }
   ],
   "source": [
    "from os import listdir\n",
    "from os.path import isfile, join\n",
    "onlyfiles = [f for f in listdir(path_rere) if isfile(join(path_rere, f))]\n",
    "onlyfiles"
   ]
  },
  {
   "cell_type": "code",
   "execution_count": 37,
   "metadata": {},
   "outputs": [
    {
     "data": {
      "text/plain": [
       "9"
      ]
     },
     "execution_count": 37,
     "metadata": {},
     "output_type": "execute_result"
    }
   ],
   "source": [
    "args = [file for file in onlyfiles if 'args' in file ]\n",
    "len(args)"
   ]
  },
  {
   "cell_type": "code",
   "execution_count": 38,
   "metadata": {},
   "outputs": [],
   "source": [
    "import json\n",
    "arg_dict = {}\n",
    "for file in args:\n",
    "    with open(join(path_rere, file), 'r') as f:\n",
    "        # regex time! we need only the timestamp of the file\n",
    "        name = file.split('args-')[1]\n",
    "        arg_dict[name] = json.loads(f.read())"
   ]
  },
  {
   "cell_type": "code",
   "execution_count": 39,
   "metadata": {},
   "outputs": [],
   "source": [
    "import json\n",
    "\n",
    "logs = [file for file in onlyfiles if 'raw_log' in file ]\n",
    "\n",
    "res_dict = {}\n",
    "for file in logs:\n",
    "    with open(join(path_rere, file), 'r') as f:\n",
    "        name = file.split('raw_log-')[1]\n",
    "        res_dict[name] = []\n",
    "        for line in f:\n",
    "            res_dict[name].append(json.loads(line.strip()))"
   ]
  },
  {
   "cell_type": "code",
   "execution_count": 40,
   "metadata": {},
   "outputs": [],
   "source": [
    "import numpy as np\n",
    "seeds = [0, 1, 2]\n",
    "for seed in seeds:\n",
    "    small = [key for key in arg_dict if arg_dict[key][\"seed\"]==seed]\n",
    "    arg_means = {key:[np.mean([k[\"value\"] for k in res_dict[key] if k[\"name\"]==\"acc_tag\" and k[\"group\"]==\"test\" and k[\"task\"] == i]) for i in [4]] for key in small}\n",
    "    max_key = max(arg_means, key=arg_means.get)\n",
    "    small.remove(max_key)\n",
    "    for key in small:\n",
    "        res_dict.pop(key)\n",
    "        arg_dict.pop(key)"
   ]
  },
  {
   "cell_type": "code",
   "execution_count": 41,
   "metadata": {},
   "outputs": [
    {
     "name": "stderr",
     "output_type": "stream",
     "text": [
      "/home/karokaro/research-repositories/FACIL/venv/lib/python3.11/site-packages/numpy/_core/fromnumeric.py:3860: RuntimeWarning: Mean of empty slice.\n",
      "  return _methods._mean(a, axis=axis, dtype=dtype,\n",
      "/home/karokaro/research-repositories/FACIL/venv/lib/python3.11/site-packages/numpy/_core/_methods.py:145: RuntimeWarning: invalid value encountered in scalar divide\n",
      "  ret = ret.dtype.type(ret / rcount)\n"
     ]
    }
   ],
   "source": [
    "data_rere = pd.DataFrame({'Approach': list(chain.from_iterable([['ReReLRP' for i in range(5)] for key in res_dict.keys()])),\n",
    "                     'Task': list(chain.from_iterable([[i for i in range(5)] for key in res_dict.keys()])),\n",
    "                     'Average Accuracy': list(chain.from_iterable([[np.mean([k[\"value\"] for k in res_dict[key] if k[\"name\"]==\"acc_taw\" and k[\"group\"]==\"test\" and k[\"task\"] == i]) for i in range(5)] for key in res_dict.keys()])),\n",
    "                     'Average Forgetting': list(chain.from_iterable([[np.mean([k[\"value\"] for k in res_dict[key] if k[\"name\"]==\"forg_taw\" and k[\"group\"]==\"test\" and k[\"task\"] == i and k[\"iter\"] != k[\"task\"]]) for i in range(5)] for key in res_dict.keys()]))})"
   ]
  },
  {
   "cell_type": "code",
   "execution_count": 42,
   "metadata": {},
   "outputs": [
    {
     "data": {
      "text/plain": [
       "<Axes: xlabel='Task', ylabel='Average Accuracy'>"
      ]
     },
     "execution_count": 42,
     "metadata": {},
     "output_type": "execute_result"
    },
    {
     "data": {
      "image/png": "[encoded data removed]",
      "text/plain": [
       "<Figure size 640x480 with 1 Axes>"
      ]
     },
     "metadata": {},
     "output_type": "display_data"
    }
   ],
   "source": [
    "sns.lineplot( data_rere,  x='Task', y='Average Accuracy')"
   ]
  },
  {
   "cell_type": "code",
   "execution_count": 43,
   "metadata": {},
   "outputs": [
    {
     "data": {
      "text/html": [
       "<div>\n",
       "<style scoped>\n",
       "    .dataframe tbody tr th:only-of-type {\n",
       "        vertical-align: middle;\n",
       "    }\n",
       "\n",
       "    .dataframe tbody tr th {\n",
       "        vertical-align: top;\n",
       "    }\n",
       "\n",
       "    .dataframe thead th {\n",
       "        text-align: right;\n",
       "    }\n",
       "</style>\n",
       "<table border=\"1\" class=\"dataframe\">\n",
       "  <thead>\n",
       "    <tr style=\"text-align: right;\">\n",
       "      <th></th>\n",
       "      <th></th>\n",
       "      <th>Average Accuracy</th>\n",
       "      <th>Average Forgetting</th>\n",
       "    </tr>\n",
       "    <tr>\n",
       "      <th>Approach</th>\n",
       "      <th>Task</th>\n",
       "      <th></th>\n",
       "      <th></th>\n",
       "    </tr>\n",
       "  </thead>\n",
       "  <tbody>\n",
       "    <tr>\n",
       "      <th rowspan=\"5\" valign=\"top\">ReReLRP</th>\n",
       "      <th>0</th>\n",
       "      <td>98.82</td>\n",
       "      <td>NaN</td>\n",
       "    </tr>\n",
       "    <tr>\n",
       "      <th>1</th>\n",
       "      <td>93.15</td>\n",
       "      <td>3.05</td>\n",
       "    </tr>\n",
       "    <tr>\n",
       "      <th>2</th>\n",
       "      <td>94.68</td>\n",
       "      <td>1.53</td>\n",
       "    </tr>\n",
       "    <tr>\n",
       "      <th>3</th>\n",
       "      <td>95.94</td>\n",
       "      <td>1.02</td>\n",
       "    </tr>\n",
       "    <tr>\n",
       "      <th>4</th>\n",
       "      <td>95.88</td>\n",
       "      <td>0.76</td>\n",
       "    </tr>\n",
       "  </tbody>\n",
       "</table>\n",
       "</div>"
      ],
      "text/plain": [
       "               Average Accuracy  Average Forgetting\n",
       "Approach Task                                      \n",
       "ReReLRP  0                98.82                 NaN\n",
       "         1                93.15                3.05\n",
       "         2                94.68                1.53\n",
       "         3                95.94                1.02\n",
       "         4                95.88                0.76"
      ]
     },
     "execution_count": 43,
     "metadata": {},
     "output_type": "execute_result"
    }
   ],
   "source": [
    "data_rere.groupby(['Approach', 'Task']).mean().apply(lambda x: round(x, 2))"
   ]
  },
  {
   "cell_type": "code",
   "execution_count": 44,
   "metadata": {},
   "outputs": [],
   "source": [
    "path_lwm = '/home/karokaro/research-repositories/FACIL/results/fashionmnist_joint_final_fashionmnist'"
   ]
  },
  {
   "cell_type": "code",
   "execution_count": 45,
   "metadata": {},
   "outputs": [
    {
     "data": {
      "text/plain": [
       "['raw_log-2025-01-20-08-50.txt',\n",
       " 'stderr-2025-01-20-10-00.txt',\n",
       " 'stderr-2025-01-20-09-44.txt',\n",
       " 'stdout-2025-01-20-08-36.txt',\n",
       " 'stdout-2025-01-20-09-14.txt',\n",
       " 'stdout-2025-01-20-08-50.txt',\n",
       " 'stderr-2025-01-20-10-38.txt',\n",
       " 'stdout-2025-01-20-10-38.txt',\n",
       " 'args-2025-01-20-09-44.txt',\n",
       " 'stderr-2025-01-20-08-36.txt',\n",
       " 'stderr-2025-01-20-09-29.txt',\n",
       " 'args-2025-01-20-10-38.txt',\n",
       " 'args-2025-01-20-08-50.txt',\n",
       " 'stderr-2025-01-20-08-50.txt',\n",
       " 'args-2025-01-20-10-00.txt',\n",
       " 'args-2025-01-20-09-29.txt',\n",
       " 'raw_log-2025-01-20-09-03.txt',\n",
       " 'args-2025-01-20-09-14.txt',\n",
       " 'stdout-2025-01-20-10-00.txt',\n",
       " 'stdout-2025-01-20-09-03.txt',\n",
       " 'stderr-2025-01-20-09-03.txt',\n",
       " 'args-2025-01-20-10-20.txt',\n",
       " 'stderr-2025-01-20-10-20.txt',\n",
       " 'raw_log-2025-01-20-10-20.txt',\n",
       " 'stderr-2025-01-20-09-14.txt',\n",
       " 'raw_log-2025-01-20-10-38.txt',\n",
       " 'raw_log-2025-01-20-09-14.txt',\n",
       " 'raw_log-2025-01-20-09-29.txt',\n",
       " 'stdout-2025-01-20-10-20.txt',\n",
       " 'args-2025-01-20-09-03.txt',\n",
       " 'stdout-2025-01-20-09-44.txt',\n",
       " 'raw_log-2025-01-20-09-44.txt',\n",
       " 'raw_log-2025-01-20-10-00.txt',\n",
       " 'stdout-2025-01-20-09-29.txt',\n",
       " 'raw_log-2025-01-20-08-36.txt',\n",
       " 'args-2025-01-20-08-36.txt']"
      ]
     },
     "execution_count": 45,
     "metadata": {},
     "output_type": "execute_result"
    }
   ],
   "source": [
    "from os import listdir\n",
    "from os.path import isfile, join\n",
    "onlyfiles = [f for f in listdir(path_lwm) if isfile(join(path_lwm, f))]\n",
    "onlyfiles"
   ]
  },
  {
   "cell_type": "code",
   "execution_count": 46,
   "metadata": {},
   "outputs": [
    {
     "data": {
      "text/plain": [
       "9"
      ]
     },
     "execution_count": 46,
     "metadata": {},
     "output_type": "execute_result"
    }
   ],
   "source": [
    "args = [file for file in onlyfiles if 'args' in file ]\n",
    "len(args)"
   ]
  },
  {
   "cell_type": "code",
   "execution_count": 47,
   "metadata": {},
   "outputs": [],
   "source": [
    "import json\n",
    "arg_dict = {}\n",
    "for file in args:\n",
    "    with open(join(path_lwm, file), 'r') as f:\n",
    "        # regex time! we need only the timestamp of the file\n",
    "        name = file.split('args-')[1]\n",
    "        arg_dict[name] = json.loads(f.read())"
   ]
  },
  {
   "cell_type": "code",
   "execution_count": 48,
   "metadata": {},
   "outputs": [],
   "source": [
    "import json\n",
    "\n",
    "logs = [file for file in onlyfiles if 'raw_log' in file ]\n",
    "\n",
    "res_dict = {}\n",
    "for file in logs:\n",
    "    with open(join(path_lwm, file), 'r') as f:\n",
    "        name = file.split('raw_log-')[1]\n",
    "        res_dict[name] = []\n",
    "        for line in f:\n",
    "            res_dict[name].append(json.loads(line.strip()))"
   ]
  },
  {
   "cell_type": "code",
   "execution_count": 49,
   "metadata": {},
   "outputs": [],
   "source": [
    "import numpy as np\n",
    "seeds = [0, 1, 2]\n",
    "for seed in seeds:\n",
    "    small = [key for key in arg_dict if arg_dict[key][\"seed\"]==seed]\n",
    "    arg_means = {key:[np.mean([k[\"value\"] for k in res_dict[key] if k[\"name\"]==\"acc_tag\" and k[\"group\"]==\"test\" and k[\"task\"] == i]) for i in [4]] for key in small}\n",
    "    max_key = max(arg_means, key=arg_means.get)\n",
    "    small.remove(max_key)\n",
    "    for key in small:\n",
    "        res_dict.pop(key)\n",
    "        arg_dict.pop(key)"
   ]
  },
  {
   "cell_type": "code",
   "execution_count": 50,
   "metadata": {},
   "outputs": [
    {
     "name": "stderr",
     "output_type": "stream",
     "text": [
      "/home/karokaro/research-repositories/FACIL/venv/lib/python3.11/site-packages/numpy/_core/fromnumeric.py:3860: RuntimeWarning: Mean of empty slice.\n",
      "  return _methods._mean(a, axis=axis, dtype=dtype,\n",
      "/home/karokaro/research-repositories/FACIL/venv/lib/python3.11/site-packages/numpy/_core/_methods.py:145: RuntimeWarning: invalid value encountered in scalar divide\n",
      "  ret = ret.dtype.type(ret / rcount)\n"
     ]
    }
   ],
   "source": [
    "import pandas as pd\n",
    "import numpy as np\n",
    "from itertools import chain\n",
    "data_joint = pd.DataFrame({'Approach': list(chain.from_iterable([['Joint' for i in range(5)] for key in res_dict.keys()])),\n",
    "                     'Task': list(chain.from_iterable([[i for i in range(5)] for key in res_dict.keys()])),\n",
    "                     'Average Accuracy': list(chain.from_iterable([[np.mean([k[\"value\"] for k in res_dict[key] if k[\"name\"]==\"acc_taw\" and k[\"group\"]==\"test\" and k[\"task\"] == i]) for i in range(5)] for key in res_dict.keys()])),\n",
    "                     'Average Forgetting': list(chain.from_iterable([[np.mean([k[\"value\"] for k in res_dict[key] if k[\"name\"]==\"forg_taw\" and k[\"group\"]==\"test\" and k[\"task\"] == i and k[\"iter\"] != k[\"task\"]]) for i in range(5)] for key in res_dict.keys()]))})"
   ]
  },
  {
   "cell_type": "code",
   "execution_count": 51,
   "metadata": {},
   "outputs": [
    {
     "name": "stderr",
     "output_type": "stream",
     "text": [
      "/tmp/ipykernel_39919/2585113533.py:1: FutureWarning: \n",
      "\n",
      "The `ci` parameter is deprecated. Use `errorbar=None` for the same effect.\n",
      "\n",
      "  sns.lineplot( data_joint,  x='Task', y='Average Accuracy', ci=None)\n"
     ]
    },
    {
     "data": {
      "text/plain": [
       "<Axes: xlabel='Task', ylabel='Average Accuracy'>"
      ]
     },
     "execution_count": 51,
     "metadata": {},
     "output_type": "execute_result"
    },
    {
     "data": {
      "image/png": "[encoded data removed]",
      "text/plain": [
       "<Figure size 640x480 with 1 Axes>"
      ]
     },
     "metadata": {},
     "output_type": "display_data"
    }
   ],
   "source": [
    "sns.lineplot( data_joint,  x='Task', y='Average Accuracy', ci=None)"
   ]
  },
  {
   "cell_type": "code",
   "execution_count": 52,
   "metadata": {},
   "outputs": [
    {
     "data": {
      "text/html": [
       "<div>\n",
       "<style scoped>\n",
       "    .dataframe tbody tr th:only-of-type {\n",
       "        vertical-align: middle;\n",
       "    }\n",
       "\n",
       "    .dataframe tbody tr th {\n",
       "        vertical-align: top;\n",
       "    }\n",
       "\n",
       "    .dataframe thead th {\n",
       "        text-align: right;\n",
       "    }\n",
       "</style>\n",
       "<table border=\"1\" class=\"dataframe\">\n",
       "  <thead>\n",
       "    <tr style=\"text-align: right;\">\n",
       "      <th></th>\n",
       "      <th></th>\n",
       "      <th>Average Accuracy</th>\n",
       "      <th>Average Forgetting</th>\n",
       "    </tr>\n",
       "    <tr>\n",
       "      <th>Approach</th>\n",
       "      <th>Task</th>\n",
       "      <th></th>\n",
       "      <th></th>\n",
       "    </tr>\n",
       "  </thead>\n",
       "  <tbody>\n",
       "    <tr>\n",
       "      <th rowspan=\"5\" valign=\"top\">Joint</th>\n",
       "      <th>0</th>\n",
       "      <td>98.67</td>\n",
       "      <td>NaN</td>\n",
       "    </tr>\n",
       "    <tr>\n",
       "      <th>1</th>\n",
       "      <td>97.97</td>\n",
       "      <td>-0.33</td>\n",
       "    </tr>\n",
       "    <tr>\n",
       "      <th>2</th>\n",
       "      <td>98.89</td>\n",
       "      <td>-0.41</td>\n",
       "    </tr>\n",
       "    <tr>\n",
       "      <th>3</th>\n",
       "      <td>99.18</td>\n",
       "      <td>-0.01</td>\n",
       "    </tr>\n",
       "    <tr>\n",
       "      <th>4</th>\n",
       "      <td>99.36</td>\n",
       "      <td>-0.07</td>\n",
       "    </tr>\n",
       "  </tbody>\n",
       "</table>\n",
       "</div>"
      ],
      "text/plain": [
       "               Average Accuracy  Average Forgetting\n",
       "Approach Task                                      \n",
       "Joint    0                98.67                 NaN\n",
       "         1                97.97               -0.33\n",
       "         2                98.89               -0.41\n",
       "         3                99.18               -0.01\n",
       "         4                99.36               -0.07"
      ]
     },
     "execution_count": 52,
     "metadata": {},
     "output_type": "execute_result"
    }
   ],
   "source": [
    "data_joint.groupby(['Approach', 'Task']).mean().apply(lambda x: round(x, 2))"
   ]
  },
  {
   "cell_type": "code",
   "execution_count": 53,
   "metadata": {},
   "outputs": [],
   "source": [
    "data_all = pd.concat([data, data_ewc, data_icarl, data_rere, data_joint, data_lwm], ignore_index=True)"
   ]
  },
  {
   "cell_type": "code",
   "execution_count": 54,
   "metadata": {},
   "outputs": [
    {
     "name": "stderr",
     "output_type": "stream",
     "text": [
      "/tmp/ipykernel_39919/4092302222.py:5: FutureWarning: \n",
      "\n",
      "The `ci` parameter is deprecated. Use `errorbar=None` for the same effect.\n",
      "\n",
      "  g = sns.lineplot( data_all, hue='Approach', x='Task', y='Average Accuracy', hue_order=hue_order, ci=None)\n"
     ]
    },
    {
     "data": {
      "image/png": "[encoded data removed]",
      "text/plain": [
       "<Figure size 640x480 with 1 Axes>"
      ]
     },
     "metadata": {},
     "output_type": "display_data"
    }
   ],
   "source": [
    "import matplotlib.pyplot as plt\n",
    "hue_order = [\"LWM\", \"LWF\", \"EWC\", \"iCaRL\", \"ReReLRP\", \"Joint\"]\n",
    "paletter = sns.color_palette(\"colorblind\", 6)\n",
    "sns.set_theme(style=\"ticks\", font_scale=1.3) \n",
    "g = sns.lineplot( data_all, hue='Approach', x='Task', y='Average Accuracy', hue_order=hue_order, ci=None)\n",
    "g.set_xticks(range(5))\n",
    "g.set_xticklabels([i+1 for i in range(5)])\n",
    "import matplotlib.ticker as mtick\n",
    "g.yaxis.set_major_formatter(mtick.PercentFormatter(decimals=0))\n",
    "plt.savefig(\"fashionmnist_taw.pdf\", format='pdf', bbox_inches='tight')"
   ]
  }
 ],
 "metadata": {
  "kernelspec": {
   "display_name": "venv",
   "language": "python",
   "name": "python3"
  },
  "language_info": {
   "codemirror_mode": {
    "name": "ipython",
    "version": 3
   },
   "file_extension": ".py",
   "mimetype": "text/x-python",
   "name": "python",
   "nbconvert_exporter": "python",
   "pygments_lexer": "ipython3",
   "version": "3.11.4"
  }
 },
 "nbformat": 4,
 "nbformat_minor": 2
}
