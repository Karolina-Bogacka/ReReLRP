{
 "cells": [
  {
   "cell_type": "code",
   "execution_count": 221,
   "metadata": {},
   "outputs": [],
   "source": [
    "path_lwf = '/home/karokaro/research-repositories/FACIL/results/emnist_lwf_final_emnist'"
   ]
  },
  {
   "cell_type": "code",
   "execution_count": 222,
   "metadata": {},
   "outputs": [
    {
     "data": {
      "text/plain": [
       "['stdout-2025-01-24-10-34.txt',\n",
       " 'stderr-2025-01-24-11-13.txt',\n",
       " 'args-2025-01-24-09-52.txt',\n",
       " 'args-2025-01-24-13-14.txt',\n",
       " 'raw_log-2025-01-24-13-52.txt',\n",
       " 'stdout-2025-01-24-12-31.txt',\n",
       " 'raw_log-2025-01-24-09-10.txt',\n",
       " 'stderr-2025-01-24-10-34.txt',\n",
       " 'raw_log-2025-01-24-11-53.txt',\n",
       " 'args-2025-01-24-11-53.txt',\n",
       " 'stderr-2025-01-24-11-53.txt',\n",
       " 'raw_log-2025-01-24-12-31.txt',\n",
       " 'stderr-2025-01-24-13-14.txt',\n",
       " 'raw_log-2025-01-24-09-52.txt',\n",
       " 'args-2025-01-24-12-31.txt',\n",
       " 'stdout-2025-01-24-11-13.txt',\n",
       " 'stdout-2025-01-24-14-33.txt',\n",
       " 'raw_log-2025-01-24-14-33.txt',\n",
       " 'args-2025-01-24-10-34.txt',\n",
       " 'args-2025-01-24-13-52.txt',\n",
       " 'raw_log-2025-01-24-13-14.txt',\n",
       " 'args-2025-01-24-09-10.txt',\n",
       " 'stderr-2025-01-24-09-10.txt',\n",
       " 'stdout-2025-01-24-13-14.txt',\n",
       " 'stdout-2025-01-24-13-52.txt',\n",
       " 'stderr-2025-01-24-09-52.txt',\n",
       " 'raw_log-2025-01-24-10-34.txt',\n",
       " 'stdout-2025-01-24-11-53.txt',\n",
       " 'args-2025-01-24-11-13.txt',\n",
       " 'stderr-2025-01-24-14-33.txt',\n",
       " 'stderr-2025-01-24-13-52.txt',\n",
       " 'stdout-2025-01-24-09-10.txt',\n",
       " 'stdout-2025-01-24-09-52.txt',\n",
       " 'raw_log-2025-01-24-11-13.txt',\n",
       " 'stderr-2025-01-24-12-31.txt',\n",
       " 'args-2025-01-24-14-33.txt']"
      ]
     },
     "execution_count": 222,
     "metadata": {},
     "output_type": "execute_result"
    }
   ],
   "source": [
    "from os import listdir\n",
    "from os.path import isfile, join\n",
    "onlyfiles = [f for f in listdir(path_lwf) if isfile(join(path_lwf, f))]\n",
    "onlyfiles"
   ]
  },
  {
   "cell_type": "code",
   "execution_count": 223,
   "metadata": {},
   "outputs": [
    {
     "data": {
      "text/plain": [
       "9"
      ]
     },
     "execution_count": 223,
     "metadata": {},
     "output_type": "execute_result"
    }
   ],
   "source": [
    "args = [file for file in onlyfiles if 'args' in file ]\n",
    "len(args)"
   ]
  },
  {
   "cell_type": "code",
   "execution_count": 224,
   "metadata": {},
   "outputs": [],
   "source": [
    "import json\n",
    "arg_dict = {}\n",
    "for file in args:\n",
    "    with open(join(path_lwf, file), 'r') as f:\n",
    "        # regex time! we need only the timestamp of the file\n",
    "        name = file.split('args-')[1]\n",
    "        arg_dict[name] = json.loads(f.read())"
   ]
  },
  {
   "cell_type": "code",
   "execution_count": 225,
   "metadata": {},
   "outputs": [],
   "source": [
    "import json\n",
    "\n",
    "logs = [file for file in onlyfiles if 'raw_log' in file ]\n",
    "\n",
    "res_dict = {}\n",
    "for file in logs:\n",
    "    with open(join(path_lwf, file), 'r') as f:\n",
    "        name = file.split('raw_log-')[1]\n",
    "        res_dict[name] = []\n",
    "        for line in f:\n",
    "            res_dict[name].append(json.loads(line.strip()))"
   ]
  },
  {
   "cell_type": "code",
   "execution_count": 226,
   "metadata": {},
   "outputs": [],
   "source": [
    "import numpy as np\n",
    "seeds = [0, 1, 2]\n",
    "for seed in seeds:\n",
    "    small = [key for key in arg_dict if arg_dict[key][\"seed\"]==seed]\n",
    "    arg_means = {key:[np.mean([k[\"value\"] for k in res_dict[key] if k[\"name\"]==\"acc_tag\" and k[\"group\"]==\"test\" and k[\"task\"] == i]) for i in [12]] for key in small}\n",
    "    max_key = max(arg_means, key=arg_means.get)\n",
    "    small.remove(max_key)\n",
    "    for key in small:\n",
    "        res_dict.pop(key)\n",
    "        arg_dict.pop(key)"
   ]
  },
  {
   "cell_type": "code",
   "execution_count": 227,
   "metadata": {},
   "outputs": [
    {
     "name": "stderr",
     "output_type": "stream",
     "text": [
      "/home/karokaro/research-repositories/FACIL/venv/lib/python3.11/site-packages/numpy/_core/fromnumeric.py:3860: RuntimeWarning: Mean of empty slice.\n",
      "  return _methods._mean(a, axis=axis, dtype=dtype,\n",
      "/home/karokaro/research-repositories/FACIL/venv/lib/python3.11/site-packages/numpy/_core/_methods.py:145: RuntimeWarning: invalid value encountered in scalar divide\n",
      "  ret = ret.dtype.type(ret / rcount)\n"
     ]
    }
   ],
   "source": [
    "import pandas as pd\n",
    "import numpy as np\n",
    "from itertools import chain\n",
    "data = pd.DataFrame({'Approach': list(chain.from_iterable([['LWF' for i in range(13)] for key in res_dict.keys()])),\n",
    "                     'Task': list(chain.from_iterable([[i for i in range(13)] for key in res_dict.keys()])),\n",
    "                     'Average Accuracy': list(chain.from_iterable([[np.mean([k[\"value\"] for k in res_dict[key] if k[\"name\"]==\"acc_taw\" and k[\"group\"]==\"test\" and k[\"task\"] == i]) for i in range(13)] for key in res_dict.keys()])),\n",
    "                     'Average Forgetting': list(chain.from_iterable([[np.mean([k[\"value\"] for k in res_dict[key] if k[\"name\"]==\"forg_taw\" and k[\"group\"]==\"test\" and k[\"task\"] == i and k[\"iter\"] != k[\"task\"]]) for i in range(13)] for key in res_dict.keys()]))})"
   ]
  },
  {
   "cell_type": "code",
   "execution_count": 228,
   "metadata": {},
   "outputs": [
    {
     "name": "stderr",
     "output_type": "stream",
     "text": [
      "/tmp/ipykernel_17922/1207693049.py:2: FutureWarning: \n",
      "\n",
      "The `ci` parameter is deprecated. Use `errorbar=None` for the same effect.\n",
      "\n",
      "  sns.lineplot( data,  x='Task', y='Average Accuracy', ci=None)\n"
     ]
    },
    {
     "data": {
      "text/plain": [
       "<Axes: xlabel='Task', ylabel='Average Accuracy'>"
      ]
     },
     "execution_count": 228,
     "metadata": {},
     "output_type": "execute_result"
    },
    {
     "data": {
      "image/png": "[encoded data removed]",
      "text/plain": [
       "<Figure size 640x480 with 1 Axes>"
      ]
     },
     "metadata": {},
     "output_type": "display_data"
    }
   ],
   "source": [
    "import seaborn as sns\n",
    "sns.lineplot( data,  x='Task', y='Average Accuracy', ci=None)"
   ]
  },
  {
   "cell_type": "code",
   "execution_count": 229,
   "metadata": {},
   "outputs": [
    {
     "data": {
      "text/html": [
       "<div>\n",
       "<style scoped>\n",
       "    .dataframe tbody tr th:only-of-type {\n",
       "        vertical-align: middle;\n",
       "    }\n",
       "\n",
       "    .dataframe tbody tr th {\n",
       "        vertical-align: top;\n",
       "    }\n",
       "\n",
       "    .dataframe thead th {\n",
       "        text-align: right;\n",
       "    }\n",
       "</style>\n",
       "<table border=\"1\" class=\"dataframe\">\n",
       "  <thead>\n",
       "    <tr style=\"text-align: right;\">\n",
       "      <th></th>\n",
       "      <th></th>\n",
       "      <th>Average Accuracy</th>\n",
       "      <th>Average Forgetting</th>\n",
       "    </tr>\n",
       "    <tr>\n",
       "      <th>Approach</th>\n",
       "      <th>Task</th>\n",
       "      <th></th>\n",
       "      <th></th>\n",
       "    </tr>\n",
       "  </thead>\n",
       "  <tbody>\n",
       "    <tr>\n",
       "      <th rowspan=\"13\" valign=\"top\">LWF</th>\n",
       "      <th>0</th>\n",
       "      <td>98.52</td>\n",
       "      <td>NaN</td>\n",
       "    </tr>\n",
       "    <tr>\n",
       "      <th>1</th>\n",
       "      <td>98.58</td>\n",
       "      <td>0.19</td>\n",
       "    </tr>\n",
       "    <tr>\n",
       "      <th>2</th>\n",
       "      <td>97.36</td>\n",
       "      <td>1.90</td>\n",
       "    </tr>\n",
       "    <tr>\n",
       "      <th>3</th>\n",
       "      <td>97.61</td>\n",
       "      <td>1.61</td>\n",
       "    </tr>\n",
       "    <tr>\n",
       "      <th>4</th>\n",
       "      <td>96.18</td>\n",
       "      <td>2.78</td>\n",
       "    </tr>\n",
       "    <tr>\n",
       "      <th>5</th>\n",
       "      <td>94.67</td>\n",
       "      <td>4.58</td>\n",
       "    </tr>\n",
       "    <tr>\n",
       "      <th>6</th>\n",
       "      <td>93.76</td>\n",
       "      <td>5.45</td>\n",
       "    </tr>\n",
       "    <tr>\n",
       "      <th>7</th>\n",
       "      <td>94.21</td>\n",
       "      <td>4.96</td>\n",
       "    </tr>\n",
       "    <tr>\n",
       "      <th>8</th>\n",
       "      <td>93.85</td>\n",
       "      <td>5.32</td>\n",
       "    </tr>\n",
       "    <tr>\n",
       "      <th>9</th>\n",
       "      <td>94.45</td>\n",
       "      <td>4.68</td>\n",
       "    </tr>\n",
       "    <tr>\n",
       "      <th>10</th>\n",
       "      <td>94.96</td>\n",
       "      <td>3.83</td>\n",
       "    </tr>\n",
       "    <tr>\n",
       "      <th>11</th>\n",
       "      <td>95.15</td>\n",
       "      <td>3.69</td>\n",
       "    </tr>\n",
       "    <tr>\n",
       "      <th>12</th>\n",
       "      <td>95.38</td>\n",
       "      <td>3.47</td>\n",
       "    </tr>\n",
       "  </tbody>\n",
       "</table>\n",
       "</div>"
      ],
      "text/plain": [
       "               Average Accuracy  Average Forgetting\n",
       "Approach Task                                      \n",
       "LWF      0                98.52                 NaN\n",
       "         1                98.58                0.19\n",
       "         2                97.36                1.90\n",
       "         3                97.61                1.61\n",
       "         4                96.18                2.78\n",
       "         5                94.67                4.58\n",
       "         6                93.76                5.45\n",
       "         7                94.21                4.96\n",
       "         8                93.85                5.32\n",
       "         9                94.45                4.68\n",
       "         10               94.96                3.83\n",
       "         11               95.15                3.69\n",
       "         12               95.38                3.47"
      ]
     },
     "execution_count": 229,
     "metadata": {},
     "output_type": "execute_result"
    }
   ],
   "source": [
    "data.groupby(['Approach', 'Task']).mean().apply(lambda x: round(x, 2))"
   ]
  },
  {
   "cell_type": "code",
   "execution_count": 230,
   "metadata": {},
   "outputs": [],
   "source": [
    "path_ewc = '/home/karokaro/research-repositories/FACIL/results/emnist_ewc_final_emnist'"
   ]
  },
  {
   "cell_type": "code",
   "execution_count": 231,
   "metadata": {},
   "outputs": [
    {
     "data": {
      "text/plain": [
       "9"
      ]
     },
     "execution_count": 231,
     "metadata": {},
     "output_type": "execute_result"
    }
   ],
   "source": [
    "onlyfiles = [f for f in listdir(path_ewc) if isfile(join(path_ewc, f))]\n",
    "args = [file for file in onlyfiles if 'args' in file ]\n",
    "len(args)"
   ]
  },
  {
   "cell_type": "code",
   "execution_count": 232,
   "metadata": {},
   "outputs": [],
   "source": [
    "import json\n",
    "arg_dict = {}\n",
    "for file in args:\n",
    "    with open(join(path_ewc, file), 'r') as f:\n",
    "        # regex time! we need only the timestamp of the file\n",
    "        name = file.split('args-')[1]\n",
    "        arg_dict[name] = json.loads(f.read())"
   ]
  },
  {
   "cell_type": "code",
   "execution_count": 233,
   "metadata": {},
   "outputs": [],
   "source": [
    "import json\n",
    "\n",
    "logs = [file for file in onlyfiles if 'raw_log' in file ]\n",
    "\n",
    "res_dict = {}\n",
    "for file in logs:\n",
    "    with open(join(path_ewc, file), 'r') as f:\n",
    "        name = file.split('raw_log-')[1]\n",
    "        res_dict[name] = []\n",
    "        for line in f:\n",
    "            res_dict[name].append(json.loads(line.strip()))"
   ]
  },
  {
   "cell_type": "code",
   "execution_count": 234,
   "metadata": {},
   "outputs": [],
   "source": [
    "import numpy as np\n",
    "seeds = [0, 1, 2]\n",
    "for seed in seeds:\n",
    "    small = [key for key in arg_dict if arg_dict[key][\"seed\"]==seed]\n",
    "    arg_means = {key:[np.mean([k[\"value\"] for k in res_dict[key] if k[\"name\"]==\"acc_tag\" and k[\"group\"]==\"test\" and k[\"task\"] == i]) for i in [12]] for key in small}\n",
    "    max_key = max(arg_means, key=arg_means.get)\n",
    "    small.remove(max_key)\n",
    "    for key in small:\n",
    "        res_dict.pop(key)\n",
    "        arg_dict.pop(key)"
   ]
  },
  {
   "cell_type": "code",
   "execution_count": 235,
   "metadata": {},
   "outputs": [
    {
     "name": "stderr",
     "output_type": "stream",
     "text": [
      "/home/karokaro/research-repositories/FACIL/venv/lib/python3.11/site-packages/numpy/_core/fromnumeric.py:3860: RuntimeWarning: Mean of empty slice.\n",
      "  return _methods._mean(a, axis=axis, dtype=dtype,\n",
      "/home/karokaro/research-repositories/FACIL/venv/lib/python3.11/site-packages/numpy/_core/_methods.py:145: RuntimeWarning: invalid value encountered in scalar divide\n",
      "  ret = ret.dtype.type(ret / rcount)\n"
     ]
    }
   ],
   "source": [
    "data_ewc = pd.DataFrame({'Approach': list(chain.from_iterable([['EWC' for i in range(13)] for key in res_dict.keys()])),\n",
    "                     'Task': list(chain.from_iterable([[i for i in range(13)] for key in res_dict.keys()])),\n",
    "                     'Average Accuracy': list(chain.from_iterable([[np.mean([k[\"value\"] for k in res_dict[key] if k[\"name\"]==\"acc_taw\" and k[\"group\"]==\"test\" and k[\"task\"] == i]) for i in range(13)] for key in res_dict.keys()])),\n",
    "                     'Average Forgetting': list(chain.from_iterable([[np.mean([k[\"value\"] for k in res_dict[key] if k[\"name\"]==\"forg_taw\" and k[\"group\"]==\"test\" and k[\"task\"] == i and k[\"iter\"] != k[\"task\"]]) for i in range(13)] for key in res_dict.keys()]))})"
   ]
  },
  {
   "cell_type": "code",
   "execution_count": 236,
   "metadata": {},
   "outputs": [
    {
     "data": {
      "text/plain": [
       "<Axes: xlabel='Task', ylabel='Average Accuracy'>"
      ]
     },
     "execution_count": 236,
     "metadata": {},
     "output_type": "execute_result"
    },
    {
     "data": {
      "image/png": "[encoded data removed]",
      "text/plain": [
       "<Figure size 640x480 with 1 Axes>"
      ]
     },
     "metadata": {},
     "output_type": "display_data"
    }
   ],
   "source": [
    "sns.lineplot( data_ewc,  x='Task', y='Average Accuracy')"
   ]
  },
  {
   "cell_type": "code",
   "execution_count": 237,
   "metadata": {},
   "outputs": [
    {
     "data": {
      "text/html": [
       "<div>\n",
       "<style scoped>\n",
       "    .dataframe tbody tr th:only-of-type {\n",
       "        vertical-align: middle;\n",
       "    }\n",
       "\n",
       "    .dataframe tbody tr th {\n",
       "        vertical-align: top;\n",
       "    }\n",
       "\n",
       "    .dataframe thead th {\n",
       "        text-align: right;\n",
       "    }\n",
       "</style>\n",
       "<table border=\"1\" class=\"dataframe\">\n",
       "  <thead>\n",
       "    <tr style=\"text-align: right;\">\n",
       "      <th></th>\n",
       "      <th></th>\n",
       "      <th>Average Accuracy</th>\n",
       "      <th>Average Forgetting</th>\n",
       "    </tr>\n",
       "    <tr>\n",
       "      <th>Approach</th>\n",
       "      <th>Task</th>\n",
       "      <th></th>\n",
       "      <th></th>\n",
       "    </tr>\n",
       "  </thead>\n",
       "  <tbody>\n",
       "    <tr>\n",
       "      <th rowspan=\"13\" valign=\"top\">EWC</th>\n",
       "      <th>0</th>\n",
       "      <td>99.04</td>\n",
       "      <td>NaN</td>\n",
       "    </tr>\n",
       "    <tr>\n",
       "      <th>1</th>\n",
       "      <td>98.86</td>\n",
       "      <td>0.56</td>\n",
       "    </tr>\n",
       "    <tr>\n",
       "      <th>2</th>\n",
       "      <td>90.68</td>\n",
       "      <td>12.60</td>\n",
       "    </tr>\n",
       "    <tr>\n",
       "      <th>3</th>\n",
       "      <td>91.68</td>\n",
       "      <td>10.02</td>\n",
       "    </tr>\n",
       "    <tr>\n",
       "      <th>4</th>\n",
       "      <td>88.24</td>\n",
       "      <td>13.11</td>\n",
       "    </tr>\n",
       "    <tr>\n",
       "      <th>5</th>\n",
       "      <td>91.95</td>\n",
       "      <td>8.17</td>\n",
       "    </tr>\n",
       "    <tr>\n",
       "      <th>6</th>\n",
       "      <td>88.49</td>\n",
       "      <td>11.92</td>\n",
       "    </tr>\n",
       "    <tr>\n",
       "      <th>7</th>\n",
       "      <td>93.28</td>\n",
       "      <td>6.29</td>\n",
       "    </tr>\n",
       "    <tr>\n",
       "      <th>8</th>\n",
       "      <td>92.16</td>\n",
       "      <td>7.48</td>\n",
       "    </tr>\n",
       "    <tr>\n",
       "      <th>9</th>\n",
       "      <td>93.31</td>\n",
       "      <td>6.16</td>\n",
       "    </tr>\n",
       "    <tr>\n",
       "      <th>10</th>\n",
       "      <td>94.36</td>\n",
       "      <td>4.69</td>\n",
       "    </tr>\n",
       "    <tr>\n",
       "      <th>11</th>\n",
       "      <td>94.79</td>\n",
       "      <td>4.27</td>\n",
       "    </tr>\n",
       "    <tr>\n",
       "      <th>12</th>\n",
       "      <td>94.36</td>\n",
       "      <td>4.78</td>\n",
       "    </tr>\n",
       "  </tbody>\n",
       "</table>\n",
       "</div>"
      ],
      "text/plain": [
       "               Average Accuracy  Average Forgetting\n",
       "Approach Task                                      \n",
       "EWC      0                99.04                 NaN\n",
       "         1                98.86                0.56\n",
       "         2                90.68               12.60\n",
       "         3                91.68               10.02\n",
       "         4                88.24               13.11\n",
       "         5                91.95                8.17\n",
       "         6                88.49               11.92\n",
       "         7                93.28                6.29\n",
       "         8                92.16                7.48\n",
       "         9                93.31                6.16\n",
       "         10               94.36                4.69\n",
       "         11               94.79                4.27\n",
       "         12               94.36                4.78"
      ]
     },
     "execution_count": 237,
     "metadata": {},
     "output_type": "execute_result"
    }
   ],
   "source": [
    "data_ewc.groupby(['Approach', 'Task']).mean().apply(lambda x: round(x, 2))"
   ]
  },
  {
   "cell_type": "code",
   "execution_count": 238,
   "metadata": {},
   "outputs": [],
   "source": [
    "path_lwm = '/home/karokaro/research-repositories/FACIL/results/emnist_lwm_final_emnist'"
   ]
  },
  {
   "cell_type": "code",
   "execution_count": 239,
   "metadata": {},
   "outputs": [
    {
     "data": {
      "text/plain": [
       "['args-2025-01-24-15-36.txt',\n",
       " 'stdout-2025-01-24-17-35.txt',\n",
       " 'args-2025-01-24-15-15.txt',\n",
       " 'raw_log-2025-01-24-17-15.txt',\n",
       " 'stdout-2025-01-24-16-52.txt',\n",
       " 'stdout-2025-01-24-17-15.txt',\n",
       " 'raw_log-2025-01-24-15-36.txt',\n",
       " 'stdout-2025-01-24-16-31.txt',\n",
       " 'stderr-2025-01-24-17-57.txt',\n",
       " 'raw_log-2025-01-24-16-52.txt',\n",
       " 'args-2025-01-24-17-57.txt',\n",
       " 'stderr-2025-01-24-17-15.txt',\n",
       " 'stderr-2025-01-24-15-15.txt',\n",
       " 'args-2025-01-24-16-52.txt',\n",
       " 'stderr-2025-01-24-16-15.txt',\n",
       " 'raw_log-2025-01-24-16-31.txt',\n",
       " 'args-2025-01-24-16-15.txt',\n",
       " 'raw_log-2025-01-24-17-35.txt',\n",
       " 'stdout-2025-01-24-15-36.txt',\n",
       " 'stderr-2025-01-24-17-35.txt',\n",
       " 'stderr-2025-01-24-16-52.txt',\n",
       " 'args-2025-01-24-16-31.txt',\n",
       " 'args-2025-01-24-15-54.txt',\n",
       " 'raw_log-2025-01-24-15-15.txt',\n",
       " 'raw_log-2025-01-24-17-57.txt',\n",
       " 'stderr-2025-01-24-15-36.txt',\n",
       " 'args-2025-01-24-17-15.txt',\n",
       " 'raw_log-2025-01-24-16-15.txt',\n",
       " 'stderr-2025-01-24-16-31.txt',\n",
       " 'args-2025-01-24-17-35.txt',\n",
       " 'stdout-2025-01-24-15-15.txt',\n",
       " 'raw_log-2025-01-24-15-54.txt',\n",
       " 'stderr-2025-01-24-15-54.txt',\n",
       " 'stdout-2025-01-24-16-15.txt',\n",
       " 'stdout-2025-01-24-15-54.txt',\n",
       " 'stdout-2025-01-24-17-57.txt']"
      ]
     },
     "execution_count": 239,
     "metadata": {},
     "output_type": "execute_result"
    }
   ],
   "source": [
    "from os import listdir\n",
    "from os.path import isfile, join\n",
    "onlyfiles = [f for f in listdir(path_lwm) if isfile(join(path_lwm, f))]\n",
    "onlyfiles"
   ]
  },
  {
   "cell_type": "code",
   "execution_count": 240,
   "metadata": {},
   "outputs": [
    {
     "data": {
      "text/plain": [
       "9"
      ]
     },
     "execution_count": 240,
     "metadata": {},
     "output_type": "execute_result"
    }
   ],
   "source": [
    "args = [file for file in onlyfiles if 'args' in file ]\n",
    "len(args)"
   ]
  },
  {
   "cell_type": "code",
   "execution_count": 241,
   "metadata": {},
   "outputs": [],
   "source": [
    "import json\n",
    "arg_dict = {}\n",
    "for file in args:\n",
    "    with open(join(path_lwm, file), 'r') as f:\n",
    "        # regex time! we need only the timestamp of the file\n",
    "        name = file.split('args-')[1]\n",
    "        arg_dict[name] = json.loads(f.read())"
   ]
  },
  {
   "cell_type": "code",
   "execution_count": 242,
   "metadata": {},
   "outputs": [],
   "source": [
    "import json\n",
    "\n",
    "logs = [file for file in onlyfiles if 'raw_log' in file ]\n",
    "\n",
    "res_dict = {}\n",
    "for file in logs:\n",
    "    with open(join(path_lwm, file), 'r') as f:\n",
    "        name = file.split('raw_log-')[1]\n",
    "        res_dict[name] = []\n",
    "        for line in f:\n",
    "            res_dict[name].append(json.loads(line.strip()))"
   ]
  },
  {
   "cell_type": "code",
   "execution_count": 243,
   "metadata": {},
   "outputs": [],
   "source": [
    "import numpy as np\n",
    "seeds = [0, 1, 2]\n",
    "for seed in seeds:\n",
    "    small = [key for key in arg_dict if arg_dict[key][\"seed\"]==seed]\n",
    "    arg_means = {key:[np.mean([k[\"value\"] for k in res_dict[key] if k[\"name\"]==\"acc_tag\" and k[\"group\"]==\"test\" and k[\"task\"] == i]) for i in [12]] for key in small}\n",
    "    max_key = max(arg_means, key=arg_means.get)\n",
    "    small.remove(max_key)\n",
    "    for key in small:\n",
    "        res_dict.pop(key)\n",
    "        arg_dict.pop(key)"
   ]
  },
  {
   "cell_type": "code",
   "execution_count": 244,
   "metadata": {},
   "outputs": [
    {
     "name": "stderr",
     "output_type": "stream",
     "text": [
      "/home/karokaro/research-repositories/FACIL/venv/lib/python3.11/site-packages/numpy/_core/fromnumeric.py:3860: RuntimeWarning: Mean of empty slice.\n",
      "  return _methods._mean(a, axis=axis, dtype=dtype,\n",
      "/home/karokaro/research-repositories/FACIL/venv/lib/python3.11/site-packages/numpy/_core/_methods.py:145: RuntimeWarning: invalid value encountered in scalar divide\n",
      "  ret = ret.dtype.type(ret / rcount)\n"
     ]
    }
   ],
   "source": [
    "import pandas as pd\n",
    "import numpy as np\n",
    "from itertools import chain\n",
    "data_lwm = pd.DataFrame({'Approach': list(chain.from_iterable([['LWM' for i in range(13)] for key in res_dict.keys()])),\n",
    "                     'Task': list(chain.from_iterable([[i for i in range(13)] for key in res_dict.keys()])),\n",
    "                     'Average Accuracy': list(chain.from_iterable([[np.mean([k[\"value\"] for k in res_dict[key] if k[\"name\"]==\"acc_taw\" and k[\"group\"]==\"test\" and k[\"task\"] == i]) for i in range(13)] for key in res_dict.keys()])),\n",
    "                     'Average Forgetting': list(chain.from_iterable([[np.mean([k[\"value\"] for k in res_dict[key] if k[\"name\"]==\"forg_taw\" and k[\"group\"]==\"test\" and k[\"task\"] == i and k[\"iter\"] != k[\"task\"]]) for i in range(13)] for key in res_dict.keys()]))})"
   ]
  },
  {
   "cell_type": "code",
   "execution_count": 245,
   "metadata": {},
   "outputs": [
    {
     "data": {
      "text/plain": [
       "<Axes: xlabel='Task', ylabel='Average Accuracy'>"
      ]
     },
     "execution_count": 245,
     "metadata": {},
     "output_type": "execute_result"
    },
    {
     "data": {
      "image/png": "[encoded data removed]",
      "text/plain": [
       "<Figure size 640x480 with 1 Axes>"
      ]
     },
     "metadata": {},
     "output_type": "display_data"
    }
   ],
   "source": [
    "sns.lineplot( data_lwm,  x='Task', y='Average Accuracy')"
   ]
  },
  {
   "cell_type": "code",
   "execution_count": 246,
   "metadata": {},
   "outputs": [
    {
     "data": {
      "text/html": [
       "<div>\n",
       "<style scoped>\n",
       "    .dataframe tbody tr th:only-of-type {\n",
       "        vertical-align: middle;\n",
       "    }\n",
       "\n",
       "    .dataframe tbody tr th {\n",
       "        vertical-align: top;\n",
       "    }\n",
       "\n",
       "    .dataframe thead th {\n",
       "        text-align: right;\n",
       "    }\n",
       "</style>\n",
       "<table border=\"1\" class=\"dataframe\">\n",
       "  <thead>\n",
       "    <tr style=\"text-align: right;\">\n",
       "      <th></th>\n",
       "      <th></th>\n",
       "      <th>Average Accuracy</th>\n",
       "      <th>Average Forgetting</th>\n",
       "    </tr>\n",
       "    <tr>\n",
       "      <th>Approach</th>\n",
       "      <th>Task</th>\n",
       "      <th></th>\n",
       "      <th></th>\n",
       "    </tr>\n",
       "  </thead>\n",
       "  <tbody>\n",
       "    <tr>\n",
       "      <th rowspan=\"13\" valign=\"top\">LWM</th>\n",
       "      <th>0</th>\n",
       "      <td>99.08</td>\n",
       "      <td>NaN</td>\n",
       "    </tr>\n",
       "    <tr>\n",
       "      <th>1</th>\n",
       "      <td>83.52</td>\n",
       "      <td>14.65</td>\n",
       "    </tr>\n",
       "    <tr>\n",
       "      <th>2</th>\n",
       "      <td>77.44</td>\n",
       "      <td>13.66</td>\n",
       "    </tr>\n",
       "    <tr>\n",
       "      <th>3</th>\n",
       "      <td>82.73</td>\n",
       "      <td>9.45</td>\n",
       "    </tr>\n",
       "    <tr>\n",
       "      <th>4</th>\n",
       "      <td>87.02</td>\n",
       "      <td>4.71</td>\n",
       "    </tr>\n",
       "    <tr>\n",
       "      <th>5</th>\n",
       "      <td>88.02</td>\n",
       "      <td>6.21</td>\n",
       "    </tr>\n",
       "    <tr>\n",
       "      <th>6</th>\n",
       "      <td>83.04</td>\n",
       "      <td>13.27</td>\n",
       "    </tr>\n",
       "    <tr>\n",
       "      <th>7</th>\n",
       "      <td>77.11</td>\n",
       "      <td>20.25</td>\n",
       "    </tr>\n",
       "    <tr>\n",
       "      <th>8</th>\n",
       "      <td>85.83</td>\n",
       "      <td>10.46</td>\n",
       "    </tr>\n",
       "    <tr>\n",
       "      <th>9</th>\n",
       "      <td>88.99</td>\n",
       "      <td>7.41</td>\n",
       "    </tr>\n",
       "    <tr>\n",
       "      <th>10</th>\n",
       "      <td>88.64</td>\n",
       "      <td>7.75</td>\n",
       "    </tr>\n",
       "    <tr>\n",
       "      <th>11</th>\n",
       "      <td>89.91</td>\n",
       "      <td>6.64</td>\n",
       "    </tr>\n",
       "    <tr>\n",
       "      <th>12</th>\n",
       "      <td>89.32</td>\n",
       "      <td>7.54</td>\n",
       "    </tr>\n",
       "  </tbody>\n",
       "</table>\n",
       "</div>"
      ],
      "text/plain": [
       "               Average Accuracy  Average Forgetting\n",
       "Approach Task                                      \n",
       "LWM      0                99.08                 NaN\n",
       "         1                83.52               14.65\n",
       "         2                77.44               13.66\n",
       "         3                82.73                9.45\n",
       "         4                87.02                4.71\n",
       "         5                88.02                6.21\n",
       "         6                83.04               13.27\n",
       "         7                77.11               20.25\n",
       "         8                85.83               10.46\n",
       "         9                88.99                7.41\n",
       "         10               88.64                7.75\n",
       "         11               89.91                6.64\n",
       "         12               89.32                7.54"
      ]
     },
     "execution_count": 246,
     "metadata": {},
     "output_type": "execute_result"
    }
   ],
   "source": [
    "data_lwm.groupby(['Approach', 'Task']).mean().apply(lambda x: round(x, 2))"
   ]
  },
  {
   "cell_type": "code",
   "execution_count": 247,
   "metadata": {},
   "outputs": [],
   "source": [
    "path_icarl = '/home/karokaro/research-repositories/FACIL/results/emnist_icarl_final_emnist'"
   ]
  },
  {
   "cell_type": "code",
   "execution_count": 248,
   "metadata": {},
   "outputs": [
    {
     "data": {
      "text/plain": [
       "['stderr-2025-01-21-01-09.txt',\n",
       " 'stderr-2025-01-21-00-33.txt',\n",
       " 'raw_log-2025-01-21-01-48.txt',\n",
       " 'args-2025-01-20-23-57.txt',\n",
       " 'stdout-2025-01-20-22-49.txt',\n",
       " 'args-2025-01-21-02-29.txt',\n",
       " 'raw_log-2025-01-21-02-29.txt',\n",
       " 'stdout-2025-01-20-23-21.txt',\n",
       " 'stdout-2025-01-20-21-42.txt',\n",
       " 'raw_log-2025-01-20-22-14.txt',\n",
       " 'raw_log-2025-01-20-22-49.txt',\n",
       " 'raw_log-2025-01-21-01-09.txt',\n",
       " 'stderr-2025-01-20-21-42.txt',\n",
       " 'args-2025-01-20-22-14.txt',\n",
       " 'stderr-2025-01-20-23-21.txt',\n",
       " 'args-2025-01-21-01-48.txt',\n",
       " 'args-2025-01-20-21-42.txt',\n",
       " 'stderr-2025-01-20-23-57.txt',\n",
       " 'stdout-2025-01-21-01-48.txt',\n",
       " 'raw_log-2025-01-20-21-42.txt',\n",
       " 'stderr-2025-01-21-01-48.txt',\n",
       " 'stdout-2025-01-20-22-14.txt',\n",
       " 'stdout-2025-01-21-02-29.txt',\n",
       " 'stdout-2025-01-21-00-33.txt',\n",
       " 'args-2025-01-20-23-21.txt',\n",
       " 'stderr-2025-01-20-22-14.txt',\n",
       " 'args-2025-01-21-01-09.txt',\n",
       " 'args-2025-01-21-00-33.txt',\n",
       " 'raw_log-2025-01-20-23-57.txt',\n",
       " 'stdout-2025-01-21-01-09.txt',\n",
       " 'args-2025-01-20-22-49.txt',\n",
       " 'stderr-2025-01-20-22-49.txt',\n",
       " 'raw_log-2025-01-20-23-21.txt',\n",
       " 'stdout-2025-01-20-23-57.txt',\n",
       " 'stderr-2025-01-21-02-29.txt',\n",
       " 'raw_log-2025-01-21-00-33.txt']"
      ]
     },
     "execution_count": 248,
     "metadata": {},
     "output_type": "execute_result"
    }
   ],
   "source": [
    "from os import listdir\n",
    "from os.path import isfile, join\n",
    "onlyfiles = [f for f in listdir(path_icarl) if isfile(join(path_icarl, f))]\n",
    "onlyfiles"
   ]
  },
  {
   "cell_type": "code",
   "execution_count": 249,
   "metadata": {},
   "outputs": [
    {
     "data": {
      "text/plain": [
       "9"
      ]
     },
     "execution_count": 249,
     "metadata": {},
     "output_type": "execute_result"
    }
   ],
   "source": [
    "args = [file for file in onlyfiles if 'args' in file ]\n",
    "len(args)"
   ]
  },
  {
   "cell_type": "code",
   "execution_count": 250,
   "metadata": {},
   "outputs": [],
   "source": [
    "import json\n",
    "arg_dict = {}\n",
    "for file in args:\n",
    "    with open(join(path_icarl, file), 'r') as f:\n",
    "        # regex time! we need only the timestamp of the file\n",
    "        name = file.split('args-')[1]\n",
    "        arg_dict[name] = json.loads(f.read())"
   ]
  },
  {
   "cell_type": "code",
   "execution_count": 251,
   "metadata": {},
   "outputs": [],
   "source": [
    "import json\n",
    "\n",
    "logs = [file for file in onlyfiles if 'raw_log' in file ]\n",
    "\n",
    "res_dict = {}\n",
    "for file in logs:\n",
    "    with open(join(path_icarl, file), 'r') as f:\n",
    "        name = file.split('raw_log-')[1]\n",
    "        res_dict[name] = []\n",
    "        for line in f:\n",
    "            res_dict[name].append(json.loads(line.strip()))"
   ]
  },
  {
   "cell_type": "code",
   "execution_count": 252,
   "metadata": {},
   "outputs": [],
   "source": [
    "import numpy as np\n",
    "seeds = [0, 1, 2]\n",
    "for seed in seeds:\n",
    "    small = [key for key in arg_dict if arg_dict[key][\"seed\"]==seed]\n",
    "    arg_means = {key:[np.mean([k[\"value\"] for k in res_dict[key] if k[\"name\"]==\"acc_tag\" and k[\"group\"]==\"test\" and k[\"task\"] == i]) for i in [12]] for key in small}\n",
    "    max_key = max(arg_means, key=arg_means.get)\n",
    "    small.remove(max_key)\n",
    "    for key in small:\n",
    "        res_dict.pop(key)\n",
    "        arg_dict.pop(key)"
   ]
  },
  {
   "cell_type": "code",
   "execution_count": 253,
   "metadata": {},
   "outputs": [
    {
     "name": "stderr",
     "output_type": "stream",
     "text": [
      "/home/karokaro/research-repositories/FACIL/venv/lib/python3.11/site-packages/numpy/_core/fromnumeric.py:3860: RuntimeWarning: Mean of empty slice.\n",
      "  return _methods._mean(a, axis=axis, dtype=dtype,\n",
      "/home/karokaro/research-repositories/FACIL/venv/lib/python3.11/site-packages/numpy/_core/_methods.py:145: RuntimeWarning: invalid value encountered in scalar divide\n",
      "  ret = ret.dtype.type(ret / rcount)\n"
     ]
    }
   ],
   "source": [
    "import pandas as pd\n",
    "import numpy as np\n",
    "from itertools import chain\n",
    "data_icarl = pd.DataFrame({'Approach': list(chain.from_iterable([['iCaRL' for i in range(13)] for key in res_dict.keys()])),\n",
    "                     'Task': list(chain.from_iterable([[i for i in range(13)] for key in res_dict.keys()])),\n",
    "                     'Average Accuracy': list(chain.from_iterable([[np.mean([k[\"value\"] for k in res_dict[key] if k[\"name\"]==\"acc_taw\" and k[\"group\"]==\"test\" and k[\"task\"] == i]) for i in range(13)] for key in res_dict.keys()])),\n",
    "                     'Average Forgetting': list(chain.from_iterable([[np.mean([k[\"value\"] for k in res_dict[key] if k[\"name\"]==\"forg_taw\" and k[\"group\"]==\"test\" and k[\"task\"] == i and k[\"iter\"] != k[\"task\"]]) for i in range(13)] for key in res_dict.keys()]))})"
   ]
  },
  {
   "cell_type": "code",
   "execution_count": 254,
   "metadata": {},
   "outputs": [
    {
     "data": {
      "text/html": [
       "<div>\n",
       "<style scoped>\n",
       "    .dataframe tbody tr th:only-of-type {\n",
       "        vertical-align: middle;\n",
       "    }\n",
       "\n",
       "    .dataframe tbody tr th {\n",
       "        vertical-align: top;\n",
       "    }\n",
       "\n",
       "    .dataframe thead th {\n",
       "        text-align: right;\n",
       "    }\n",
       "</style>\n",
       "<table border=\"1\" class=\"dataframe\">\n",
       "  <thead>\n",
       "    <tr style=\"text-align: right;\">\n",
       "      <th></th>\n",
       "      <th></th>\n",
       "      <th>Average Accuracy</th>\n",
       "      <th>Average Forgetting</th>\n",
       "    </tr>\n",
       "    <tr>\n",
       "      <th>Approach</th>\n",
       "      <th>Task</th>\n",
       "      <th></th>\n",
       "      <th></th>\n",
       "    </tr>\n",
       "  </thead>\n",
       "  <tbody>\n",
       "    <tr>\n",
       "      <th rowspan=\"13\" valign=\"top\">iCaRL</th>\n",
       "      <th>0</th>\n",
       "      <td>98.44</td>\n",
       "      <td>NaN</td>\n",
       "    </tr>\n",
       "    <tr>\n",
       "      <th>1</th>\n",
       "      <td>98.16</td>\n",
       "      <td>0.71</td>\n",
       "    </tr>\n",
       "    <tr>\n",
       "      <th>2</th>\n",
       "      <td>98.01</td>\n",
       "      <td>0.59</td>\n",
       "    </tr>\n",
       "    <tr>\n",
       "      <th>3</th>\n",
       "      <td>97.38</td>\n",
       "      <td>1.52</td>\n",
       "    </tr>\n",
       "    <tr>\n",
       "      <th>4</th>\n",
       "      <td>96.70</td>\n",
       "      <td>1.47</td>\n",
       "    </tr>\n",
       "    <tr>\n",
       "      <th>5</th>\n",
       "      <td>95.71</td>\n",
       "      <td>2.13</td>\n",
       "    </tr>\n",
       "    <tr>\n",
       "      <th>6</th>\n",
       "      <td>94.91</td>\n",
       "      <td>2.57</td>\n",
       "    </tr>\n",
       "    <tr>\n",
       "      <th>7</th>\n",
       "      <td>95.05</td>\n",
       "      <td>2.57</td>\n",
       "    </tr>\n",
       "    <tr>\n",
       "      <th>8</th>\n",
       "      <td>95.17</td>\n",
       "      <td>1.90</td>\n",
       "    </tr>\n",
       "    <tr>\n",
       "      <th>9</th>\n",
       "      <td>94.80</td>\n",
       "      <td>2.32</td>\n",
       "    </tr>\n",
       "    <tr>\n",
       "      <th>10</th>\n",
       "      <td>94.31</td>\n",
       "      <td>2.25</td>\n",
       "    </tr>\n",
       "    <tr>\n",
       "      <th>11</th>\n",
       "      <td>94.90</td>\n",
       "      <td>1.83</td>\n",
       "    </tr>\n",
       "    <tr>\n",
       "      <th>12</th>\n",
       "      <td>95.18</td>\n",
       "      <td>1.67</td>\n",
       "    </tr>\n",
       "  </tbody>\n",
       "</table>\n",
       "</div>"
      ],
      "text/plain": [
       "               Average Accuracy  Average Forgetting\n",
       "Approach Task                                      \n",
       "iCaRL    0                98.44                 NaN\n",
       "         1                98.16                0.71\n",
       "         2                98.01                0.59\n",
       "         3                97.38                1.52\n",
       "         4                96.70                1.47\n",
       "         5                95.71                2.13\n",
       "         6                94.91                2.57\n",
       "         7                95.05                2.57\n",
       "         8                95.17                1.90\n",
       "         9                94.80                2.32\n",
       "         10               94.31                2.25\n",
       "         11               94.90                1.83\n",
       "         12               95.18                1.67"
      ]
     },
     "execution_count": 254,
     "metadata": {},
     "output_type": "execute_result"
    }
   ],
   "source": [
    "data_icarl.groupby(['Approach', 'Task']).mean().apply(lambda x: round(x, 2))"
   ]
  },
  {
   "cell_type": "code",
   "execution_count": 255,
   "metadata": {},
   "outputs": [],
   "source": [
    "path_rere = '/home/karokaro/research-repositories/FACIL/results/emnist_rere_lrp_final_emnist'"
   ]
  },
  {
   "cell_type": "code",
   "execution_count": 256,
   "metadata": {},
   "outputs": [
    {
     "data": {
      "text/plain": [
       "['stderr-2025-01-25-12-33.txt',\n",
       " 'stderr-2025-01-24-01-52.txt',\n",
       " 'stderr-2025-01-27-05-19.txt',\n",
       " 'args-2025-01-27-05-19.txt',\n",
       " 'args-2025-01-25-12-33.txt',\n",
       " 'stdout-2025-01-25-02-23.txt',\n",
       " 'stdout-2025-01-23-13-17.txt',\n",
       " 'raw_log-2025-01-26-18-46.txt',\n",
       " 'args-2025-01-25-22-03.txt',\n",
       " 'stdout-2025-01-25-22-03.txt',\n",
       " 'args-2025-01-24-01-52.txt',\n",
       " 'raw_log-2025-01-24-01-52.txt',\n",
       " 'stdout-2025-01-27-05-19.txt',\n",
       " 'args-2025-01-26-18-46.txt',\n",
       " 'stderr-2025-01-24-14-05.txt',\n",
       " 'args-2025-01-25-02-23.txt',\n",
       " 'raw_log-2025-01-27-05-19.txt',\n",
       " 'stdout-2025-01-26-08-17.txt',\n",
       " 'raw_log-2025-01-25-02-23.txt',\n",
       " 'raw_log-2025-01-25-22-03.txt',\n",
       " 'args-2025-01-24-14-05.txt',\n",
       " 'stdout-2025-01-24-14-05.txt',\n",
       " 'stdout-2025-01-24-01-52.txt',\n",
       " 'raw_log-2025-01-24-14-05.txt',\n",
       " 'stderr-2025-01-26-08-17.txt',\n",
       " 'stdout-2025-01-25-12-33.txt',\n",
       " 'stderr-2025-01-23-13-17.txt',\n",
       " 'args-2025-01-26-08-17.txt',\n",
       " 'stderr-2025-01-26-18-46.txt',\n",
       " 'stdout-2025-01-26-18-46.txt',\n",
       " 'raw_log-2025-01-26-08-17.txt',\n",
       " 'raw_log-2025-01-25-12-33.txt',\n",
       " 'args-2025-01-23-13-17.txt',\n",
       " 'stderr-2025-01-25-22-03.txt',\n",
       " 'raw_log-2025-01-23-13-17.txt',\n",
       " 'stderr-2025-01-25-02-23.txt']"
      ]
     },
     "execution_count": 256,
     "metadata": {},
     "output_type": "execute_result"
    }
   ],
   "source": [
    "from os import listdir\n",
    "from os.path import isfile, join\n",
    "onlyfiles = [f for f in listdir(path_rere) if isfile(join(path_rere, f))]\n",
    "onlyfiles"
   ]
  },
  {
   "cell_type": "code",
   "execution_count": 257,
   "metadata": {},
   "outputs": [
    {
     "data": {
      "text/plain": [
       "9"
      ]
     },
     "execution_count": 257,
     "metadata": {},
     "output_type": "execute_result"
    }
   ],
   "source": [
    "args = [file for file in onlyfiles if 'args' in file ]\n",
    "len(args)"
   ]
  },
  {
   "cell_type": "code",
   "execution_count": 258,
   "metadata": {},
   "outputs": [],
   "source": [
    "import json\n",
    "arg_dict = {}\n",
    "for file in args:\n",
    "    with open(join(path_rere, file), 'r') as f:\n",
    "        # regex time! we need only the timestamp of the file\n",
    "        name = file.split('args-')[1]\n",
    "        arg_dict[name] = json.loads(f.read())"
   ]
  },
  {
   "cell_type": "code",
   "execution_count": 259,
   "metadata": {},
   "outputs": [],
   "source": [
    "import json\n",
    "\n",
    "logs = [file for file in onlyfiles if 'raw_log' in file ]\n",
    "\n",
    "res_dict = {}\n",
    "for file in logs:\n",
    "    with open(join(path_rere, file), 'r') as f:\n",
    "        name = file.split('raw_log-')[1]\n",
    "        res_dict[name] = []\n",
    "        for line in f:\n",
    "            res_dict[name].append(json.loads(line.strip()))"
   ]
  },
  {
   "cell_type": "code",
   "execution_count": 260,
   "metadata": {},
   "outputs": [],
   "source": [
    "import numpy as np\n",
    "seeds = [0, 1, 2]\n",
    "for seed in seeds:\n",
    "    small = [key for key in arg_dict if arg_dict[key][\"seed\"]==seed]\n",
    "    arg_means = {key:[np.mean([k[\"value\"] for k in res_dict[key] if k[\"name\"]==\"acc_tag\" and k[\"group\"]==\"test\" and k[\"task\"] == i]) for i in [12]] for key in small}\n",
    "    max_key = max(arg_means, key=arg_means.get)\n",
    "    small.remove(max_key)\n",
    "    for key in small:\n",
    "        res_dict.pop(key)\n",
    "        arg_dict.pop(key)"
   ]
  },
  {
   "cell_type": "code",
   "execution_count": 261,
   "metadata": {},
   "outputs": [
    {
     "name": "stderr",
     "output_type": "stream",
     "text": [
      "/home/karokaro/research-repositories/FACIL/venv/lib/python3.11/site-packages/numpy/_core/fromnumeric.py:3860: RuntimeWarning: Mean of empty slice.\n",
      "  return _methods._mean(a, axis=axis, dtype=dtype,\n",
      "/home/karokaro/research-repositories/FACIL/venv/lib/python3.11/site-packages/numpy/_core/_methods.py:145: RuntimeWarning: invalid value encountered in scalar divide\n",
      "  ret = ret.dtype.type(ret / rcount)\n"
     ]
    }
   ],
   "source": [
    "data_rere = pd.DataFrame({'Approach': list(chain.from_iterable([['ReReLRP' for i in range(13)] for key in res_dict.keys()])),\n",
    "                     'Task': list(chain.from_iterable([[i for i in range(13)] for key in res_dict.keys()])),\n",
    "                     'Average Accuracy': list(chain.from_iterable([[np.mean([k[\"value\"] for k in res_dict[key] if k[\"name\"]==\"acc_taw\" and k[\"group\"]==\"test\" and k[\"task\"] == i]) for i in range(13)] for key in res_dict.keys()])),\n",
    "                     'Average Forgetting': list(chain.from_iterable([[np.mean([k[\"value\"] for k in res_dict[key] if k[\"name\"]==\"forg_taw\" and k[\"group\"]==\"test\" and k[\"task\"] == i and k[\"iter\"] != k[\"task\"]]) for i in range(13)] for key in res_dict.keys()]))})"
   ]
  },
  {
   "cell_type": "code",
   "execution_count": 262,
   "metadata": {},
   "outputs": [
    {
     "data": {
      "text/plain": [
       "<Axes: xlabel='Task', ylabel='Average Accuracy'>"
      ]
     },
     "execution_count": 262,
     "metadata": {},
     "output_type": "execute_result"
    },
    {
     "data": {
      "image/png": "[encoded data removed]",
      "text/plain": [
       "<Figure size 640x480 with 1 Axes>"
      ]
     },
     "metadata": {},
     "output_type": "display_data"
    }
   ],
   "source": [
    "sns.lineplot( data_rere,  x='Task', y='Average Accuracy')"
   ]
  },
  {
   "cell_type": "code",
   "execution_count": 263,
   "metadata": {},
   "outputs": [
    {
     "data": {
      "text/html": [
       "<div>\n",
       "<style scoped>\n",
       "    .dataframe tbody tr th:only-of-type {\n",
       "        vertical-align: middle;\n",
       "    }\n",
       "\n",
       "    .dataframe tbody tr th {\n",
       "        vertical-align: top;\n",
       "    }\n",
       "\n",
       "    .dataframe thead th {\n",
       "        text-align: right;\n",
       "    }\n",
       "</style>\n",
       "<table border=\"1\" class=\"dataframe\">\n",
       "  <thead>\n",
       "    <tr style=\"text-align: right;\">\n",
       "      <th></th>\n",
       "      <th></th>\n",
       "      <th>Average Accuracy</th>\n",
       "      <th>Average Forgetting</th>\n",
       "    </tr>\n",
       "    <tr>\n",
       "      <th>Approach</th>\n",
       "      <th>Task</th>\n",
       "      <th></th>\n",
       "      <th></th>\n",
       "    </tr>\n",
       "  </thead>\n",
       "  <tbody>\n",
       "    <tr>\n",
       "      <th rowspan=\"13\" valign=\"top\">ReReLRP</th>\n",
       "      <th>0</th>\n",
       "      <td>99.06</td>\n",
       "      <td>NaN</td>\n",
       "    </tr>\n",
       "    <tr>\n",
       "      <th>1</th>\n",
       "      <td>96.30</td>\n",
       "      <td>2.15</td>\n",
       "    </tr>\n",
       "    <tr>\n",
       "      <th>2</th>\n",
       "      <td>95.75</td>\n",
       "      <td>1.07</td>\n",
       "    </tr>\n",
       "    <tr>\n",
       "      <th>3</th>\n",
       "      <td>95.81</td>\n",
       "      <td>0.72</td>\n",
       "    </tr>\n",
       "    <tr>\n",
       "      <th>4</th>\n",
       "      <td>95.25</td>\n",
       "      <td>0.54</td>\n",
       "    </tr>\n",
       "    <tr>\n",
       "      <th>5</th>\n",
       "      <td>87.74</td>\n",
       "      <td>0.43</td>\n",
       "    </tr>\n",
       "    <tr>\n",
       "      <th>6</th>\n",
       "      <td>83.75</td>\n",
       "      <td>0.36</td>\n",
       "    </tr>\n",
       "    <tr>\n",
       "      <th>7</th>\n",
       "      <td>80.41</td>\n",
       "      <td>0.31</td>\n",
       "    </tr>\n",
       "    <tr>\n",
       "      <th>8</th>\n",
       "      <td>77.22</td>\n",
       "      <td>0.27</td>\n",
       "    </tr>\n",
       "    <tr>\n",
       "      <th>9</th>\n",
       "      <td>74.50</td>\n",
       "      <td>0.24</td>\n",
       "    </tr>\n",
       "    <tr>\n",
       "      <th>10</th>\n",
       "      <td>72.01</td>\n",
       "      <td>0.21</td>\n",
       "    </tr>\n",
       "    <tr>\n",
       "      <th>11</th>\n",
       "      <td>70.17</td>\n",
       "      <td>0.20</td>\n",
       "    </tr>\n",
       "    <tr>\n",
       "      <th>12</th>\n",
       "      <td>69.23</td>\n",
       "      <td>0.18</td>\n",
       "    </tr>\n",
       "  </tbody>\n",
       "</table>\n",
       "</div>"
      ],
      "text/plain": [
       "               Average Accuracy  Average Forgetting\n",
       "Approach Task                                      \n",
       "ReReLRP  0                99.06                 NaN\n",
       "         1                96.30                2.15\n",
       "         2                95.75                1.07\n",
       "         3                95.81                0.72\n",
       "         4                95.25                0.54\n",
       "         5                87.74                0.43\n",
       "         6                83.75                0.36\n",
       "         7                80.41                0.31\n",
       "         8                77.22                0.27\n",
       "         9                74.50                0.24\n",
       "         10               72.01                0.21\n",
       "         11               70.17                0.20\n",
       "         12               69.23                0.18"
      ]
     },
     "execution_count": 263,
     "metadata": {},
     "output_type": "execute_result"
    }
   ],
   "source": [
    "data_rere.groupby(['Approach', 'Task']).mean().apply(lambda x: round(x, 2))"
   ]
  },
  {
   "cell_type": "code",
   "execution_count": 264,
   "metadata": {},
   "outputs": [],
   "source": [
    "path_lwm = '/home/karokaro/research-repositories/FACIL/results/emnist_joint_final_emnist'"
   ]
  },
  {
   "cell_type": "code",
   "execution_count": 265,
   "metadata": {},
   "outputs": [
    {
     "data": {
      "text/plain": [
       "['stderr-2025-01-19-17-41.txt',\n",
       " 'stdout-2025-01-19-21-03.txt',\n",
       " 'raw_log-2025-01-19-20-29.txt',\n",
       " 'raw_log-2025-01-19-18-45.txt',\n",
       " 'stderr-2025-01-19-18-45.txt',\n",
       " 'raw_log-2025-01-19-21-03.txt',\n",
       " 'args-2025-01-19-21-03.txt',\n",
       " 'stdout-2025-01-19-21-59.txt',\n",
       " 'raw_log-2025-01-19-22-54.txt',\n",
       " 'stdout-2025-01-19-19-54.txt',\n",
       " 'stderr-2025-01-19-20-29.txt',\n",
       " 'raw_log-2025-01-19-17-41.txt',\n",
       " 'stdout-2025-01-19-22-54.txt',\n",
       " 'args-2025-01-19-22-54.txt',\n",
       " 'stdout-2025-01-19-17-41.txt',\n",
       " 'args-2025-01-19-18-45.txt',\n",
       " 'raw_log-2025-01-19-19-54.txt',\n",
       " 'stdout-2025-01-19-19-18.txt',\n",
       " 'stderr-2025-01-19-19-54.txt',\n",
       " 'stderr-2025-01-19-22-54.txt',\n",
       " 'raw_log-2025-01-19-21-59.txt',\n",
       " 'stderr-2025-01-19-19-18.txt',\n",
       " 'stdout-2025-01-19-18-13.txt',\n",
       " 'args-2025-01-19-18-13.txt',\n",
       " 'stderr-2025-01-19-21-03.txt',\n",
       " 'stderr-2025-01-19-18-13.txt',\n",
       " 'raw_log-2025-01-19-19-18.txt',\n",
       " 'stdout-2025-01-19-20-29.txt',\n",
       " 'args-2025-01-19-20-29.txt',\n",
       " 'stderr-2025-01-19-21-59.txt',\n",
       " 'stdout-2025-01-19-18-45.txt',\n",
       " 'args-2025-01-19-17-41.txt',\n",
       " 'args-2025-01-19-21-59.txt',\n",
       " 'args-2025-01-19-19-18.txt',\n",
       " 'args-2025-01-19-19-54.txt',\n",
       " 'raw_log-2025-01-19-18-13.txt']"
      ]
     },
     "execution_count": 265,
     "metadata": {},
     "output_type": "execute_result"
    }
   ],
   "source": [
    "from os import listdir\n",
    "from os.path import isfile, join\n",
    "onlyfiles = [f for f in listdir(path_lwm) if isfile(join(path_lwm, f))]\n",
    "onlyfiles"
   ]
  },
  {
   "cell_type": "code",
   "execution_count": 266,
   "metadata": {},
   "outputs": [
    {
     "data": {
      "text/plain": [
       "9"
      ]
     },
     "execution_count": 266,
     "metadata": {},
     "output_type": "execute_result"
    }
   ],
   "source": [
    "args = [file for file in onlyfiles if 'args' in file ]\n",
    "len(args)"
   ]
  },
  {
   "cell_type": "code",
   "execution_count": 267,
   "metadata": {},
   "outputs": [],
   "source": [
    "import json\n",
    "arg_dict = {}\n",
    "for file in args:\n",
    "    with open(join(path_lwm, file), 'r') as f:\n",
    "        # regex time! we need only the timestamp of the file\n",
    "        name = file.split('args-')[1]\n",
    "        arg_dict[name] = json.loads(f.read())"
   ]
  },
  {
   "cell_type": "code",
   "execution_count": 268,
   "metadata": {},
   "outputs": [],
   "source": [
    "import json\n",
    "\n",
    "logs = [file for file in onlyfiles if 'raw_log' in file ]\n",
    "\n",
    "res_dict = {}\n",
    "for file in logs:\n",
    "    with open(join(path_lwm, file), 'r') as f:\n",
    "        name = file.split('raw_log-')[1]\n",
    "        res_dict[name] = []\n",
    "        for line in f:\n",
    "            res_dict[name].append(json.loads(line.strip()))"
   ]
  },
  {
   "cell_type": "code",
   "execution_count": 269,
   "metadata": {},
   "outputs": [],
   "source": [
    "import numpy as np\n",
    "seeds = [0, 1, 2]\n",
    "for seed in seeds:\n",
    "    small = [key for key in arg_dict if arg_dict[key][\"seed\"]==seed]\n",
    "    arg_means = {key:[np.mean([k[\"value\"] for k in res_dict[key] if k[\"name\"]==\"acc_tag\" and k[\"group\"]==\"test\" and k[\"task\"] == i]) for i in [12]] for key in small}\n",
    "    max_key = max(arg_means, key=arg_means.get)\n",
    "    small.remove(max_key)\n",
    "    for key in small:\n",
    "        res_dict.pop(key)\n",
    "        arg_dict.pop(key)"
   ]
  },
  {
   "cell_type": "code",
   "execution_count": 270,
   "metadata": {},
   "outputs": [
    {
     "name": "stderr",
     "output_type": "stream",
     "text": [
      "/home/karokaro/research-repositories/FACIL/venv/lib/python3.11/site-packages/numpy/_core/fromnumeric.py:3860: RuntimeWarning: Mean of empty slice.\n",
      "  return _methods._mean(a, axis=axis, dtype=dtype,\n",
      "/home/karokaro/research-repositories/FACIL/venv/lib/python3.11/site-packages/numpy/_core/_methods.py:145: RuntimeWarning: invalid value encountered in scalar divide\n",
      "  ret = ret.dtype.type(ret / rcount)\n"
     ]
    }
   ],
   "source": [
    "import pandas as pd\n",
    "import numpy as np\n",
    "from itertools import chain\n",
    "data_joint = pd.DataFrame({'Approach': list(chain.from_iterable([['Joint' for i in range(13)] for key in res_dict.keys()])),\n",
    "                     'Task': list(chain.from_iterable([[i for i in range(13)] for key in res_dict.keys()])),\n",
    "                     'Average Accuracy': list(chain.from_iterable([[np.mean([k[\"value\"] for k in res_dict[key] if k[\"name\"]==\"acc_taw\" and k[\"group\"]==\"test\" and k[\"task\"] == i]) for i in range(13)] for key in res_dict.keys()])),\n",
    "                     'Average Forgetting': list(chain.from_iterable([[np.mean([k[\"value\"] for k in res_dict[key] if k[\"name\"]==\"forg_taw\" and k[\"group\"]==\"test\" and k[\"task\"] == i and k[\"iter\"] != k[\"task\"]]) for i in range(13)] for key in res_dict.keys()]))})"
   ]
  },
  {
   "cell_type": "code",
   "execution_count": 271,
   "metadata": {},
   "outputs": [
    {
     "name": "stderr",
     "output_type": "stream",
     "text": [
      "/tmp/ipykernel_17922/2585113533.py:1: FutureWarning: \n",
      "\n",
      "The `ci` parameter is deprecated. Use `errorbar=None` for the same effect.\n",
      "\n",
      "  sns.lineplot( data_joint,  x='Task', y='Average Accuracy', ci=None)\n"
     ]
    },
    {
     "data": {
      "text/plain": [
       "<Axes: xlabel='Task', ylabel='Average Accuracy'>"
      ]
     },
     "execution_count": 271,
     "metadata": {},
     "output_type": "execute_result"
    },
    {
     "data": {
      "image/png": "[encoded data removed]",
      "text/plain": [
       "<Figure size 640x480 with 1 Axes>"
      ]
     },
     "metadata": {},
     "output_type": "display_data"
    }
   ],
   "source": [
    "sns.lineplot( data_joint,  x='Task', y='Average Accuracy', ci=None)"
   ]
  },
  {
   "cell_type": "code",
   "execution_count": 272,
   "metadata": {},
   "outputs": [
    {
     "data": {
      "text/html": [
       "<div>\n",
       "<style scoped>\n",
       "    .dataframe tbody tr th:only-of-type {\n",
       "        vertical-align: middle;\n",
       "    }\n",
       "\n",
       "    .dataframe tbody tr th {\n",
       "        vertical-align: top;\n",
       "    }\n",
       "\n",
       "    .dataframe thead th {\n",
       "        text-align: right;\n",
       "    }\n",
       "</style>\n",
       "<table border=\"1\" class=\"dataframe\">\n",
       "  <thead>\n",
       "    <tr style=\"text-align: right;\">\n",
       "      <th></th>\n",
       "      <th></th>\n",
       "      <th>Average Accuracy</th>\n",
       "      <th>Average Forgetting</th>\n",
       "    </tr>\n",
       "    <tr>\n",
       "      <th>Approach</th>\n",
       "      <th>Task</th>\n",
       "      <th></th>\n",
       "      <th></th>\n",
       "    </tr>\n",
       "  </thead>\n",
       "  <tbody>\n",
       "    <tr>\n",
       "      <th rowspan=\"13\" valign=\"top\">Joint</th>\n",
       "      <th>0</th>\n",
       "      <td>99.06</td>\n",
       "      <td>NaN</td>\n",
       "    </tr>\n",
       "    <tr>\n",
       "      <th>1</th>\n",
       "      <td>99.22</td>\n",
       "      <td>0.04</td>\n",
       "    </tr>\n",
       "    <tr>\n",
       "      <th>2</th>\n",
       "      <td>99.44</td>\n",
       "      <td>-0.17</td>\n",
       "    </tr>\n",
       "    <tr>\n",
       "      <th>3</th>\n",
       "      <td>99.53</td>\n",
       "      <td>-0.03</td>\n",
       "    </tr>\n",
       "    <tr>\n",
       "      <th>4</th>\n",
       "      <td>99.04</td>\n",
       "      <td>-0.04</td>\n",
       "    </tr>\n",
       "    <tr>\n",
       "      <th>5</th>\n",
       "      <td>99.16</td>\n",
       "      <td>-0.06</td>\n",
       "    </tr>\n",
       "    <tr>\n",
       "      <th>6</th>\n",
       "      <td>99.05</td>\n",
       "      <td>0.03</td>\n",
       "    </tr>\n",
       "    <tr>\n",
       "      <th>7</th>\n",
       "      <td>99.18</td>\n",
       "      <td>-0.01</td>\n",
       "    </tr>\n",
       "    <tr>\n",
       "      <th>8</th>\n",
       "      <td>99.25</td>\n",
       "      <td>-0.01</td>\n",
       "    </tr>\n",
       "    <tr>\n",
       "      <th>9</th>\n",
       "      <td>99.31</td>\n",
       "      <td>0.04</td>\n",
       "    </tr>\n",
       "    <tr>\n",
       "      <th>10</th>\n",
       "      <td>99.02</td>\n",
       "      <td>0.07</td>\n",
       "    </tr>\n",
       "    <tr>\n",
       "      <th>11</th>\n",
       "      <td>99.11</td>\n",
       "      <td>0.05</td>\n",
       "    </tr>\n",
       "    <tr>\n",
       "      <th>12</th>\n",
       "      <td>99.16</td>\n",
       "      <td>0.07</td>\n",
       "    </tr>\n",
       "  </tbody>\n",
       "</table>\n",
       "</div>"
      ],
      "text/plain": [
       "               Average Accuracy  Average Forgetting\n",
       "Approach Task                                      \n",
       "Joint    0                99.06                 NaN\n",
       "         1                99.22                0.04\n",
       "         2                99.44               -0.17\n",
       "         3                99.53               -0.03\n",
       "         4                99.04               -0.04\n",
       "         5                99.16               -0.06\n",
       "         6                99.05                0.03\n",
       "         7                99.18               -0.01\n",
       "         8                99.25               -0.01\n",
       "         9                99.31                0.04\n",
       "         10               99.02                0.07\n",
       "         11               99.11                0.05\n",
       "         12               99.16                0.07"
      ]
     },
     "execution_count": 272,
     "metadata": {},
     "output_type": "execute_result"
    }
   ],
   "source": [
    "data_joint.groupby(['Approach', 'Task']).mean().apply(lambda x: round(x, 2))"
   ]
  },
  {
   "cell_type": "code",
   "execution_count": 273,
   "metadata": {},
   "outputs": [],
   "source": [
    "data_all = pd.concat([data, data_ewc, data_icarl, data_rere, data_joint, data_lwm], ignore_index=True)"
   ]
  },
  {
   "cell_type": "code",
   "execution_count": 274,
   "metadata": {},
   "outputs": [
    {
     "name": "stderr",
     "output_type": "stream",
     "text": [
      "/tmp/ipykernel_17922/1109856667.py:6: FutureWarning: \n",
      "\n",
      "The `ci` parameter is deprecated. Use `errorbar=None` for the same effect.\n",
      "\n",
      "  g = sns.lineplot( data_all, hue='Approach', x='Task', y='Average Accuracy', hue_order=hue_order, ci=None)\n"
     ]
    },
    {
     "data": {
      "image/png": "[encoded data removed]",
      "text/plain": [
       "<Figure size 640x480 with 1 Axes>"
      ]
     },
     "metadata": {},
     "output_type": "display_data"
    }
   ],
   "source": [
    "import matplotlib.pyplot as plt\n",
    "hue_order = [\"LWM\", \"LWF\", \"EWC\", \"iCaRL\", \"ReReLRP\", \"Joint\"]\n",
    "import matplotlib.pyplot as plt\n",
    "paletter = sns.color_palette(\"colorblind\", 6)\n",
    "sns.set_theme(style=\"ticks\", font_scale=1.3) \n",
    "g = sns.lineplot( data_all, hue='Approach', x='Task', y='Average Accuracy', hue_order=hue_order, ci=None)\n",
    "g.set_xticks(range(13))\n",
    "g.set_xticklabels([i+1 for i in range(13)])\n",
    "import matplotlib.ticker as mtick\n",
    "g.yaxis.set_major_formatter(mtick.PercentFormatter(decimals=0))\n",
    "plt.savefig(\"emnist_taw.pdf\", format='pdf', bbox_inches='tight')"
   ]
  }
 ],
 "metadata": {
  "kernelspec": {
   "display_name": "venv",
   "language": "python",
   "name": "python3"
  },
  "language_info": {
   "codemirror_mode": {
    "name": "ipython",
    "version": 3
   },
   "file_extension": ".py",
   "mimetype": "text/x-python",
   "name": "python",
   "nbconvert_exporter": "python",
   "pygments_lexer": "ipython3",
   "version": "3.11.4"
  }
 },
 "nbformat": 4,
 "nbformat_minor": 2
}
