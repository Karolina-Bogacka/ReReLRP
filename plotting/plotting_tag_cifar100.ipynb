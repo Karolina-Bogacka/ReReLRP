{
 "cells": [
  {
   "cell_type": "code",
   "execution_count": 1,
   "metadata": {},
   "outputs": [],
   "source": [
    "path_lwf = '/home/karokaro/research-repositories/FACIL/results/cifar100_lwf_final_cifar100'"
   ]
  },
  {
   "cell_type": "code",
   "execution_count": 2,
   "metadata": {},
   "outputs": [
    {
     "data": {
      "text/plain": [
       "['args-2025-01-23-04-21.txt',\n",
       " 'stderr-2025-01-23-03-59.txt',\n",
       " 'stderr-2025-01-23-03-36.txt',\n",
       " 'stderr-2025-01-23-04-37.txt',\n",
       " 'stdout-2025-01-23-03-59.txt',\n",
       " 'raw_log-2025-01-23-04-21.txt',\n",
       " 'stdout-2025-01-23-03-13.txt',\n",
       " 'stderr-2025-01-23-05-29.txt',\n",
       " 'raw_log-2025-01-23-03-13.txt',\n",
       " 'raw_log-2025-01-23-03-59.txt',\n",
       " 'stdout-2025-01-23-02-47.txt',\n",
       " 'args-2025-01-23-03-36.txt',\n",
       " 'args-2025-01-23-03-13.txt',\n",
       " 'stderr-2025-01-23-04-21.txt',\n",
       " 'raw_log-2025-01-23-02-47.txt',\n",
       " 'raw_log-2025-01-23-04-37.txt',\n",
       " 'raw_log-2025-01-23-05-13.txt',\n",
       " 'args-2025-01-23-04-37.txt',\n",
       " 'raw_log-2025-01-23-03-36.txt',\n",
       " 'stderr-2025-01-23-03-13.txt',\n",
       " 'stdout-2025-01-23-04-21.txt',\n",
       " 'raw_log-2025-01-23-04-55.txt',\n",
       " 'stdout-2025-01-23-05-13.txt',\n",
       " 'stderr-2025-01-23-04-55.txt',\n",
       " 'stdout-2025-01-23-03-36.txt',\n",
       " 'raw_log-2025-01-23-05-29.txt',\n",
       " 'stdout-2025-01-23-04-55.txt',\n",
       " 'args-2025-01-23-05-29.txt',\n",
       " 'stdout-2025-01-23-05-29.txt',\n",
       " 'stderr-2025-01-23-05-13.txt',\n",
       " 'args-2025-01-23-05-13.txt',\n",
       " 'stdout-2025-01-23-04-37.txt',\n",
       " 'args-2025-01-23-03-59.txt',\n",
       " 'stderr-2025-01-23-02-47.txt',\n",
       " 'args-2025-01-23-04-55.txt',\n",
       " 'args-2025-01-23-02-47.txt']"
      ]
     },
     "execution_count": 2,
     "metadata": {},
     "output_type": "execute_result"
    }
   ],
   "source": [
    "from os import listdir\n",
    "from os.path import isfile, join\n",
    "onlyfiles = [f for f in listdir(path_lwf) if isfile(join(path_lwf, f))]\n",
    "onlyfiles"
   ]
  },
  {
   "cell_type": "code",
   "execution_count": 3,
   "metadata": {},
   "outputs": [
    {
     "data": {
      "text/plain": [
       "9"
      ]
     },
     "execution_count": 3,
     "metadata": {},
     "output_type": "execute_result"
    }
   ],
   "source": [
    "args = [file for file in onlyfiles if 'args' in file ]\n",
    "len(args)"
   ]
  },
  {
   "cell_type": "code",
   "execution_count": 4,
   "metadata": {},
   "outputs": [],
   "source": [
    "import json\n",
    "arg_dict = {}\n",
    "for file in args:\n",
    "    with open(join(path_lwf, file), 'r') as f:\n",
    "        # regex time! we need only the timestamp of the file\n",
    "        name = file.split('args-')[1]\n",
    "        arg_dict[name] = json.loads(f.read())"
   ]
  },
  {
   "cell_type": "code",
   "execution_count": 5,
   "metadata": {},
   "outputs": [],
   "source": [
    "import json\n",
    "\n",
    "logs = [file for file in onlyfiles if 'raw_log' in file ]\n",
    "\n",
    "res_dict = {}\n",
    "for file in logs:\n",
    "    with open(join(path_lwf, file), 'r') as f:\n",
    "        name = file.split('raw_log-')[1]\n",
    "        res_dict[name] = []\n",
    "        for line in f:\n",
    "            res_dict[name].append(json.loads(line.strip()))"
   ]
  },
  {
   "cell_type": "code",
   "execution_count": 6,
   "metadata": {},
   "outputs": [],
   "source": [
    "import numpy as np\n",
    "seeds = [0, 1, 2]\n",
    "for seed in seeds:\n",
    "    small = [key for key in arg_dict if arg_dict[key][\"seed\"]==seed]\n",
    "    arg_means = {key:[np.mean([k[\"value\"] for k in res_dict[key] if k[\"name\"]==\"acc_tag\" and k[\"group\"]==\"test\" and k[\"task\"] == i]) for i in [9]] for key in small}\n",
    "    max_key = max(arg_means, key=arg_means.get)\n",
    "    small.remove(max_key)\n",
    "    for key in small:\n",
    "        res_dict.pop(key)\n",
    "        arg_dict.pop(key)"
   ]
  },
  {
   "cell_type": "code",
   "execution_count": 7,
   "metadata": {},
   "outputs": [
    {
     "name": "stderr",
     "output_type": "stream",
     "text": [
      "/home/karokaro/research-repositories/FACIL/venv/lib/python3.11/site-packages/numpy/_core/fromnumeric.py:3860: RuntimeWarning: Mean of empty slice.\n",
      "  return _methods._mean(a, axis=axis, dtype=dtype,\n",
      "/home/karokaro/research-repositories/FACIL/venv/lib/python3.11/site-packages/numpy/_core/_methods.py:145: RuntimeWarning: invalid value encountered in scalar divide\n",
      "  ret = ret.dtype.type(ret / rcount)\n"
     ]
    }
   ],
   "source": [
    "import pandas as pd\n",
    "import numpy as np\n",
    "from itertools import chain\n",
    "data = pd.DataFrame({'Approach': list(chain.from_iterable([['LWF' for i in range(10)] for key in res_dict.keys()])),\n",
    "                     'Task': list(chain.from_iterable([[i for i in range(10)] for key in res_dict.keys()])),\n",
    "                     'Average Accuracy': list(chain.from_iterable([[np.mean([k[\"value\"] for k in res_dict[key] if k[\"name\"]==\"acc_tag\" and k[\"group\"]==\"test\" and k[\"task\"] == i]) for i in range(10)] for key in res_dict.keys()])),\n",
    "                     'Average Forgetting': list(chain.from_iterable([[np.mean([k[\"value\"] for k in res_dict[key] if k[\"name\"]==\"forg_tag\" and k[\"group\"]==\"test\" and k[\"task\"] == i and k[\"iter\"] != k[\"task\"]]) for i in range(10)] for key in res_dict.keys()]))})"
   ]
  },
  {
   "cell_type": "code",
   "execution_count": 8,
   "metadata": {},
   "outputs": [
    {
     "name": "stderr",
     "output_type": "stream",
     "text": [
      "/tmp/ipykernel_34748/1207693049.py:2: FutureWarning: \n",
      "\n",
      "The `ci` parameter is deprecated. Use `errorbar=None` for the same effect.\n",
      "\n",
      "  sns.lineplot( data,  x='Task', y='Average Accuracy', ci=None)\n"
     ]
    },
    {
     "data": {
      "text/plain": [
       "<Axes: xlabel='Task', ylabel='Average Accuracy'>"
      ]
     },
     "execution_count": 8,
     "metadata": {},
     "output_type": "execute_result"
    },
    {
     "data": {
      "image/png": "[encoded data removed]",
      "text/plain": [
       "<Figure size 640x480 with 1 Axes>"
      ]
     },
     "metadata": {},
     "output_type": "display_data"
    }
   ],
   "source": [
    "import seaborn as sns\n",
    "sns.lineplot( data,  x='Task', y='Average Accuracy', ci=None)"
   ]
  },
  {
   "cell_type": "code",
   "execution_count": 9,
   "metadata": {},
   "outputs": [
    {
     "data": {
      "text/html": [
       "<div>\n",
       "<style scoped>\n",
       "    .dataframe tbody tr th:only-of-type {\n",
       "        vertical-align: middle;\n",
       "    }\n",
       "\n",
       "    .dataframe tbody tr th {\n",
       "        vertical-align: top;\n",
       "    }\n",
       "\n",
       "    .dataframe thead th {\n",
       "        text-align: right;\n",
       "    }\n",
       "</style>\n",
       "<table border=\"1\" class=\"dataframe\">\n",
       "  <thead>\n",
       "    <tr style=\"text-align: right;\">\n",
       "      <th></th>\n",
       "      <th></th>\n",
       "      <th>Average Accuracy</th>\n",
       "      <th>Average Forgetting</th>\n",
       "    </tr>\n",
       "    <tr>\n",
       "      <th>Approach</th>\n",
       "      <th>Task</th>\n",
       "      <th></th>\n",
       "      <th></th>\n",
       "    </tr>\n",
       "  </thead>\n",
       "  <tbody>\n",
       "    <tr>\n",
       "      <th rowspan=\"10\" valign=\"top\">LWF</th>\n",
       "      <th>0</th>\n",
       "      <td>50.90</td>\n",
       "      <td>NaN</td>\n",
       "    </tr>\n",
       "    <tr>\n",
       "      <th>1</th>\n",
       "      <td>23.93</td>\n",
       "      <td>50.70</td>\n",
       "    </tr>\n",
       "    <tr>\n",
       "      <th>2</th>\n",
       "      <td>13.22</td>\n",
       "      <td>49.28</td>\n",
       "    </tr>\n",
       "    <tr>\n",
       "      <th>3</th>\n",
       "      <td>11.68</td>\n",
       "      <td>46.07</td>\n",
       "    </tr>\n",
       "    <tr>\n",
       "      <th>4</th>\n",
       "      <td>10.15</td>\n",
       "      <td>46.16</td>\n",
       "    </tr>\n",
       "    <tr>\n",
       "      <th>5</th>\n",
       "      <td>8.54</td>\n",
       "      <td>47.08</td>\n",
       "    </tr>\n",
       "    <tr>\n",
       "      <th>6</th>\n",
       "      <td>7.37</td>\n",
       "      <td>47.76</td>\n",
       "    </tr>\n",
       "    <tr>\n",
       "      <th>7</th>\n",
       "      <td>6.44</td>\n",
       "      <td>48.23</td>\n",
       "    </tr>\n",
       "    <tr>\n",
       "      <th>8</th>\n",
       "      <td>6.60</td>\n",
       "      <td>48.20</td>\n",
       "    </tr>\n",
       "    <tr>\n",
       "      <th>9</th>\n",
       "      <td>5.95</td>\n",
       "      <td>49.40</td>\n",
       "    </tr>\n",
       "  </tbody>\n",
       "</table>\n",
       "</div>"
      ],
      "text/plain": [
       "               Average Accuracy  Average Forgetting\n",
       "Approach Task                                      \n",
       "LWF      0                50.90                 NaN\n",
       "         1                23.93               50.70\n",
       "         2                13.22               49.28\n",
       "         3                11.68               46.07\n",
       "         4                10.15               46.16\n",
       "         5                 8.54               47.08\n",
       "         6                 7.37               47.76\n",
       "         7                 6.44               48.23\n",
       "         8                 6.60               48.20\n",
       "         9                 5.95               49.40"
      ]
     },
     "execution_count": 9,
     "metadata": {},
     "output_type": "execute_result"
    }
   ],
   "source": [
    "data.groupby(['Approach', 'Task']).mean().apply(lambda x: round(x, 2))"
   ]
  },
  {
   "cell_type": "code",
   "execution_count": 10,
   "metadata": {},
   "outputs": [],
   "source": [
    "path_ewc = '/home/karokaro/research-repositories/FACIL/results/cifar100_ewc_final_cifar100'"
   ]
  },
  {
   "cell_type": "code",
   "execution_count": 11,
   "metadata": {},
   "outputs": [
    {
     "data": {
      "text/plain": [
       "9"
      ]
     },
     "execution_count": 11,
     "metadata": {},
     "output_type": "execute_result"
    }
   ],
   "source": [
    "onlyfiles = [f for f in listdir(path_ewc) if isfile(join(path_ewc, f))]\n",
    "args = [file for file in onlyfiles if 'args' in file ]\n",
    "len(args)"
   ]
  },
  {
   "cell_type": "code",
   "execution_count": 12,
   "metadata": {},
   "outputs": [],
   "source": [
    "import json\n",
    "arg_dict = {}\n",
    "for file in args:\n",
    "    with open(join(path_ewc, file), 'r') as f:\n",
    "        # regex time! we need only the timestamp of the file\n",
    "        name = file.split('args-')[1]\n",
    "        arg_dict[name] = json.loads(f.read())"
   ]
  },
  {
   "cell_type": "code",
   "execution_count": 13,
   "metadata": {},
   "outputs": [],
   "source": [
    "import json\n",
    "\n",
    "logs = [file for file in onlyfiles if 'raw_log' in file ]\n",
    "\n",
    "res_dict = {}\n",
    "for file in logs:\n",
    "    with open(join(path_ewc, file), 'r') as f:\n",
    "        name = file.split('raw_log-')[1]\n",
    "        res_dict[name] = []\n",
    "        for line in f:\n",
    "            res_dict[name].append(json.loads(line.strip()))"
   ]
  },
  {
   "cell_type": "code",
   "execution_count": 14,
   "metadata": {},
   "outputs": [],
   "source": [
    "import numpy as np\n",
    "seeds = [0, 1, 2]\n",
    "for seed in seeds:\n",
    "    small = [key for key in arg_dict if arg_dict[key][\"seed\"]==seed]\n",
    "    arg_means = {key:[np.mean([k[\"value\"] for k in res_dict[key] if k[\"name\"]==\"acc_tag\" and k[\"group\"]==\"test\" and k[\"task\"] == i]) for i in [9]] for key in small}\n",
    "    max_key = max(arg_means, key=arg_means.get)\n",
    "    small.remove(max_key)\n",
    "    for key in small:\n",
    "        res_dict.pop(key)\n",
    "        arg_dict.pop(key)"
   ]
  },
  {
   "cell_type": "code",
   "execution_count": 15,
   "metadata": {},
   "outputs": [
    {
     "name": "stderr",
     "output_type": "stream",
     "text": [
      "/home/karokaro/research-repositories/FACIL/venv/lib/python3.11/site-packages/numpy/_core/fromnumeric.py:3860: RuntimeWarning: Mean of empty slice.\n",
      "  return _methods._mean(a, axis=axis, dtype=dtype,\n",
      "/home/karokaro/research-repositories/FACIL/venv/lib/python3.11/site-packages/numpy/_core/_methods.py:145: RuntimeWarning: invalid value encountered in scalar divide\n",
      "  ret = ret.dtype.type(ret / rcount)\n"
     ]
    }
   ],
   "source": [
    "data_ewc = pd.DataFrame({'Approach': list(chain.from_iterable([['EWC' for i in range(10)] for key in res_dict.keys()])),\n",
    "                     'Task': list(chain.from_iterable([[i for i in range(10)] for key in res_dict.keys()])),\n",
    "                     'Average Accuracy': list(chain.from_iterable([[np.mean([k[\"value\"] for k in res_dict[key] if k[\"name\"]==\"acc_tag\" and k[\"group\"]==\"test\" and k[\"task\"] == i]) for i in range(10)] for key in res_dict.keys()])),\n",
    "                     'Average Forgetting': list(chain.from_iterable([[np.mean([k[\"value\"] for k in res_dict[key] if k[\"name\"]==\"forg_tag\" and k[\"group\"]==\"test\" and k[\"task\"] == i and k[\"iter\"] != k[\"task\"]]) for i in range(10)] for key in res_dict.keys()]))})"
   ]
  },
  {
   "cell_type": "code",
   "execution_count": 16,
   "metadata": {},
   "outputs": [
    {
     "data": {
      "text/plain": [
       "<Axes: xlabel='Task', ylabel='Average Accuracy'>"
      ]
     },
     "execution_count": 16,
     "metadata": {},
     "output_type": "execute_result"
    },
    {
     "data": {
      "image/png": "[encoded data removed]",
      "text/plain": [
       "<Figure size 640x480 with 1 Axes>"
      ]
     },
     "metadata": {},
     "output_type": "display_data"
    }
   ],
   "source": [
    "sns.lineplot( data_ewc,  x='Task', y='Average Accuracy')"
   ]
  },
  {
   "cell_type": "code",
   "execution_count": 17,
   "metadata": {},
   "outputs": [
    {
     "data": {
      "text/html": [
       "<div>\n",
       "<style scoped>\n",
       "    .dataframe tbody tr th:only-of-type {\n",
       "        vertical-align: middle;\n",
       "    }\n",
       "\n",
       "    .dataframe tbody tr th {\n",
       "        vertical-align: top;\n",
       "    }\n",
       "\n",
       "    .dataframe thead th {\n",
       "        text-align: right;\n",
       "    }\n",
       "</style>\n",
       "<table border=\"1\" class=\"dataframe\">\n",
       "  <thead>\n",
       "    <tr style=\"text-align: right;\">\n",
       "      <th></th>\n",
       "      <th></th>\n",
       "      <th>Average Accuracy</th>\n",
       "      <th>Average Forgetting</th>\n",
       "    </tr>\n",
       "    <tr>\n",
       "      <th>Approach</th>\n",
       "      <th>Task</th>\n",
       "      <th></th>\n",
       "      <th></th>\n",
       "    </tr>\n",
       "  </thead>\n",
       "  <tbody>\n",
       "    <tr>\n",
       "      <th rowspan=\"10\" valign=\"top\">EWC</th>\n",
       "      <th>0</th>\n",
       "      <td>49.87</td>\n",
       "      <td>NaN</td>\n",
       "    </tr>\n",
       "    <tr>\n",
       "      <th>1</th>\n",
       "      <td>23.62</td>\n",
       "      <td>49.87</td>\n",
       "    </tr>\n",
       "    <tr>\n",
       "      <th>2</th>\n",
       "      <td>12.71</td>\n",
       "      <td>48.55</td>\n",
       "    </tr>\n",
       "    <tr>\n",
       "      <th>3</th>\n",
       "      <td>10.38</td>\n",
       "      <td>45.08</td>\n",
       "    </tr>\n",
       "    <tr>\n",
       "      <th>4</th>\n",
       "      <td>9.78</td>\n",
       "      <td>44.19</td>\n",
       "    </tr>\n",
       "    <tr>\n",
       "      <th>5</th>\n",
       "      <td>7.78</td>\n",
       "      <td>45.13</td>\n",
       "    </tr>\n",
       "    <tr>\n",
       "      <th>6</th>\n",
       "      <td>7.41</td>\n",
       "      <td>45.39</td>\n",
       "    </tr>\n",
       "    <tr>\n",
       "      <th>7</th>\n",
       "      <td>6.38</td>\n",
       "      <td>46.30</td>\n",
       "    </tr>\n",
       "    <tr>\n",
       "      <th>8</th>\n",
       "      <td>5.96</td>\n",
       "      <td>46.84</td>\n",
       "    </tr>\n",
       "    <tr>\n",
       "      <th>9</th>\n",
       "      <td>5.65</td>\n",
       "      <td>47.60</td>\n",
       "    </tr>\n",
       "  </tbody>\n",
       "</table>\n",
       "</div>"
      ],
      "text/plain": [
       "               Average Accuracy  Average Forgetting\n",
       "Approach Task                                      \n",
       "EWC      0                49.87                 NaN\n",
       "         1                23.62               49.87\n",
       "         2                12.71               48.55\n",
       "         3                10.38               45.08\n",
       "         4                 9.78               44.19\n",
       "         5                 7.78               45.13\n",
       "         6                 7.41               45.39\n",
       "         7                 6.38               46.30\n",
       "         8                 5.96               46.84\n",
       "         9                 5.65               47.60"
      ]
     },
     "execution_count": 17,
     "metadata": {},
     "output_type": "execute_result"
    }
   ],
   "source": [
    "data_ewc.groupby(['Approach', 'Task']).mean().apply(lambda x: round(x, 2))"
   ]
  },
  {
   "cell_type": "code",
   "execution_count": 18,
   "metadata": {},
   "outputs": [],
   "source": [
    "path_lwm = '/home/karokaro/research-repositories/FACIL/results/cifar100_lwm_final_cifar100'"
   ]
  },
  {
   "cell_type": "code",
   "execution_count": 19,
   "metadata": {},
   "outputs": [
    {
     "data": {
      "text/plain": [
       "['args-2025-01-23-09-24.txt',\n",
       " 'stderr-2025-01-23-06-17.txt',\n",
       " 'stderr-2025-01-23-08-06.txt',\n",
       " 'raw_log-2025-01-23-09-24.txt',\n",
       " 'stderr-2025-01-23-07-14.txt',\n",
       " 'stderr-2025-01-23-08-33.txt',\n",
       " 'stderr-2025-01-23-09-02.txt',\n",
       " 'stdout-2025-01-23-08-06.txt',\n",
       " 'raw_log-2025-01-23-05-47.txt',\n",
       " 'stdout-2025-01-23-07-41.txt',\n",
       " 'raw_log-2025-01-23-08-33.txt',\n",
       " 'stderr-2025-01-23-09-24.txt',\n",
       " 'stderr-2025-01-23-05-47.txt',\n",
       " 'stdout-2025-01-23-08-33.txt',\n",
       " 'stdout-2025-01-23-07-14.txt',\n",
       " 'stdout-2025-01-23-05-47.txt',\n",
       " 'raw_log-2025-01-23-08-06.txt',\n",
       " 'args-2025-01-23-06-17.txt',\n",
       " 'raw_log-2025-01-23-07-41.txt',\n",
       " 'stderr-2025-01-23-06-44.txt',\n",
       " 'args-2025-01-23-07-14.txt',\n",
       " 'raw_log-2025-01-23-09-02.txt',\n",
       " 'stdout-2025-01-23-09-02.txt',\n",
       " 'stdout-2025-01-23-06-44.txt',\n",
       " 'args-2025-01-23-08-33.txt',\n",
       " 'args-2025-01-23-08-06.txt',\n",
       " 'args-2025-01-23-05-47.txt',\n",
       " 'args-2025-01-23-09-02.txt',\n",
       " 'raw_log-2025-01-23-07-14.txt',\n",
       " 'raw_log-2025-01-23-06-17.txt',\n",
       " 'raw_log-2025-01-23-06-44.txt',\n",
       " 'args-2025-01-23-06-44.txt',\n",
       " 'stderr-2025-01-23-07-41.txt',\n",
       " 'stdout-2025-01-23-09-24.txt',\n",
       " 'stdout-2025-01-23-06-17.txt',\n",
       " 'args-2025-01-23-07-41.txt']"
      ]
     },
     "execution_count": 19,
     "metadata": {},
     "output_type": "execute_result"
    }
   ],
   "source": [
    "from os import listdir\n",
    "from os.path import isfile, join\n",
    "onlyfiles = [f for f in listdir(path_lwm) if isfile(join(path_lwm, f))]\n",
    "onlyfiles"
   ]
  },
  {
   "cell_type": "code",
   "execution_count": 20,
   "metadata": {},
   "outputs": [
    {
     "data": {
      "text/plain": [
       "9"
      ]
     },
     "execution_count": 20,
     "metadata": {},
     "output_type": "execute_result"
    }
   ],
   "source": [
    "args = [file for file in onlyfiles if 'args' in file ]\n",
    "len(args)"
   ]
  },
  {
   "cell_type": "code",
   "execution_count": 21,
   "metadata": {},
   "outputs": [],
   "source": [
    "import json\n",
    "arg_dict = {}\n",
    "for file in args:\n",
    "    with open(join(path_lwm, file), 'r') as f:\n",
    "        # regex time! we need only the timestamp of the file\n",
    "        name = file.split('args-')[1]\n",
    "        arg_dict[name] = json.loads(f.read())"
   ]
  },
  {
   "cell_type": "code",
   "execution_count": 22,
   "metadata": {},
   "outputs": [],
   "source": [
    "import json\n",
    "\n",
    "logs = [file for file in onlyfiles if 'raw_log' in file ]\n",
    "\n",
    "res_dict = {}\n",
    "for file in logs:\n",
    "    with open(join(path_lwm, file), 'r') as f:\n",
    "        name = file.split('raw_log-')[1]\n",
    "        res_dict[name] = []\n",
    "        for line in f:\n",
    "            res_dict[name].append(json.loads(line.strip()))"
   ]
  },
  {
   "cell_type": "code",
   "execution_count": 23,
   "metadata": {},
   "outputs": [],
   "source": [
    "import numpy as np\n",
    "seeds = [0, 1, 2]\n",
    "for seed in seeds:\n",
    "    small = [key for key in arg_dict if arg_dict[key][\"seed\"]==seed]\n",
    "    arg_means = {key:[np.mean([k[\"value\"] for k in res_dict[key] if k[\"name\"]==\"acc_tag\" and k[\"group\"]==\"test\" and k[\"task\"] == i]) for i in [9]] for key in small}\n",
    "    max_key = max(arg_means, key=arg_means.get)\n",
    "    small.remove(max_key)\n",
    "    for key in small:\n",
    "        res_dict.pop(key)\n",
    "        arg_dict.pop(key)"
   ]
  },
  {
   "cell_type": "code",
   "execution_count": 24,
   "metadata": {},
   "outputs": [
    {
     "name": "stderr",
     "output_type": "stream",
     "text": [
      "/home/karokaro/research-repositories/FACIL/venv/lib/python3.11/site-packages/numpy/_core/fromnumeric.py:3860: RuntimeWarning: Mean of empty slice.\n",
      "  return _methods._mean(a, axis=axis, dtype=dtype,\n",
      "/home/karokaro/research-repositories/FACIL/venv/lib/python3.11/site-packages/numpy/_core/_methods.py:145: RuntimeWarning: invalid value encountered in scalar divide\n",
      "  ret = ret.dtype.type(ret / rcount)\n"
     ]
    }
   ],
   "source": [
    "import pandas as pd\n",
    "import numpy as np\n",
    "from itertools import chain\n",
    "data_lwm = pd.DataFrame({'Approach': list(chain.from_iterable([['LWM' for i in range(10)] for key in res_dict.keys()])),\n",
    "                     'Task': list(chain.from_iterable([[i for i in range(10)] for key in res_dict.keys()])),\n",
    "                     'Average Accuracy': list(chain.from_iterable([[np.mean([k[\"value\"] for k in res_dict[key] if k[\"name\"]==\"acc_tag\" and k[\"group\"]==\"test\" and k[\"task\"] == i]) for i in range(10)] for key in res_dict.keys()])),\n",
    "                     'Average Forgetting': list(chain.from_iterable([[np.mean([k[\"value\"] for k in res_dict[key] if k[\"name\"]==\"forg_tag\" and k[\"group\"]==\"test\" and k[\"task\"] == i and k[\"iter\"] != k[\"task\"]]) for i in range(10)] for key in res_dict.keys()]))})"
   ]
  },
  {
   "cell_type": "code",
   "execution_count": 25,
   "metadata": {},
   "outputs": [
    {
     "data": {
      "text/plain": [
       "<Axes: xlabel='Task', ylabel='Average Accuracy'>"
      ]
     },
     "execution_count": 25,
     "metadata": {},
     "output_type": "execute_result"
    },
    {
     "data": {
      "image/png": "[encoded data removed]",
      "text/plain": [
       "<Figure size 640x480 with 1 Axes>"
      ]
     },
     "metadata": {},
     "output_type": "display_data"
    }
   ],
   "source": [
    "sns.lineplot( data_lwm,  x='Task', y='Average Accuracy')"
   ]
  },
  {
   "cell_type": "code",
   "execution_count": 26,
   "metadata": {},
   "outputs": [
    {
     "data": {
      "text/html": [
       "<div>\n",
       "<style scoped>\n",
       "    .dataframe tbody tr th:only-of-type {\n",
       "        vertical-align: middle;\n",
       "    }\n",
       "\n",
       "    .dataframe tbody tr th {\n",
       "        vertical-align: top;\n",
       "    }\n",
       "\n",
       "    .dataframe thead th {\n",
       "        text-align: right;\n",
       "    }\n",
       "</style>\n",
       "<table border=\"1\" class=\"dataframe\">\n",
       "  <thead>\n",
       "    <tr style=\"text-align: right;\">\n",
       "      <th></th>\n",
       "      <th></th>\n",
       "      <th>Average Accuracy</th>\n",
       "      <th>Average Forgetting</th>\n",
       "    </tr>\n",
       "    <tr>\n",
       "      <th>Approach</th>\n",
       "      <th>Task</th>\n",
       "      <th></th>\n",
       "      <th></th>\n",
       "    </tr>\n",
       "  </thead>\n",
       "  <tbody>\n",
       "    <tr>\n",
       "      <th rowspan=\"10\" valign=\"top\">LWM</th>\n",
       "      <th>0</th>\n",
       "      <td>52.47</td>\n",
       "      <td>NaN</td>\n",
       "    </tr>\n",
       "    <tr>\n",
       "      <th>1</th>\n",
       "      <td>26.22</td>\n",
       "      <td>51.53</td>\n",
       "    </tr>\n",
       "    <tr>\n",
       "      <th>2</th>\n",
       "      <td>12.74</td>\n",
       "      <td>51.98</td>\n",
       "    </tr>\n",
       "    <tr>\n",
       "      <th>3</th>\n",
       "      <td>11.81</td>\n",
       "      <td>47.40</td>\n",
       "    </tr>\n",
       "    <tr>\n",
       "      <th>4</th>\n",
       "      <td>11.10</td>\n",
       "      <td>47.32</td>\n",
       "    </tr>\n",
       "    <tr>\n",
       "      <th>5</th>\n",
       "      <td>9.43</td>\n",
       "      <td>48.71</td>\n",
       "    </tr>\n",
       "    <tr>\n",
       "      <th>6</th>\n",
       "      <td>8.20</td>\n",
       "      <td>49.37</td>\n",
       "    </tr>\n",
       "    <tr>\n",
       "      <th>7</th>\n",
       "      <td>6.75</td>\n",
       "      <td>50.50</td>\n",
       "    </tr>\n",
       "    <tr>\n",
       "      <th>8</th>\n",
       "      <td>6.96</td>\n",
       "      <td>50.35</td>\n",
       "    </tr>\n",
       "    <tr>\n",
       "      <th>9</th>\n",
       "      <td>6.38</td>\n",
       "      <td>51.63</td>\n",
       "    </tr>\n",
       "  </tbody>\n",
       "</table>\n",
       "</div>"
      ],
      "text/plain": [
       "               Average Accuracy  Average Forgetting\n",
       "Approach Task                                      \n",
       "LWM      0                52.47                 NaN\n",
       "         1                26.22               51.53\n",
       "         2                12.74               51.98\n",
       "         3                11.81               47.40\n",
       "         4                11.10               47.32\n",
       "         5                 9.43               48.71\n",
       "         6                 8.20               49.37\n",
       "         7                 6.75               50.50\n",
       "         8                 6.96               50.35\n",
       "         9                 6.38               51.63"
      ]
     },
     "execution_count": 26,
     "metadata": {},
     "output_type": "execute_result"
    }
   ],
   "source": [
    "data_lwm.groupby(['Approach', 'Task']).mean().apply(lambda x: round(x, 2))"
   ]
  },
  {
   "cell_type": "code",
   "execution_count": 27,
   "metadata": {},
   "outputs": [],
   "source": [
    "path_icarl = '/home/karokaro/research-repositories/FACIL/results/cifar100_icarl_final_cifar'"
   ]
  },
  {
   "cell_type": "code",
   "execution_count": 28,
   "metadata": {},
   "outputs": [
    {
     "data": {
      "text/plain": [
       "['args-2025-01-14-13-33.txt',\n",
       " 'args-2025-01-14-11-42.txt',\n",
       " 'stderr-2025-01-14-13-50.txt',\n",
       " 'raw_log-2025-01-14-11-16.txt',\n",
       " 'stdout-2025-01-14-13-50.txt',\n",
       " 'stderr-2025-01-14-12-02.txt',\n",
       " 'args-2025-01-14-14-08.txt',\n",
       " 'args-2025-01-14-12-58.txt',\n",
       " 'args-2025-01-14-12-02.txt',\n",
       " 'raw_log-2025-01-14-14-08.txt',\n",
       " 'raw_log-2025-01-14-11-29.txt',\n",
       " 'stdout-2025-01-14-13-33.txt',\n",
       " 'args-2025-01-14-11-29.txt',\n",
       " 'args-2025-01-14-11-16.txt',\n",
       " 'raw_log-2025-01-14-13-33.txt',\n",
       " 'stdout-2025-01-14-12-26.txt',\n",
       " 'stderr-2025-01-14-11-42.txt',\n",
       " 'stdout-2025-01-14-12-58.txt',\n",
       " 'raw_log-2025-01-14-11-42.txt',\n",
       " 'stderr-2025-01-14-14-08.txt',\n",
       " 'raw_log-2025-01-14-12-26.txt',\n",
       " 'stdout-2025-01-14-11-42.txt',\n",
       " 'stderr-2025-01-14-12-58.txt',\n",
       " 'raw_log-2025-01-14-13-50.txt',\n",
       " 'args-2025-01-14-13-50.txt',\n",
       " 'stderr-2025-01-14-12-26.txt',\n",
       " 'stdout-2025-01-14-11-29.txt',\n",
       " 'stdout-2025-01-14-12-02.txt',\n",
       " 'raw_log-2025-01-14-12-02.txt',\n",
       " 'stdout-2025-01-14-14-08.txt',\n",
       " 'stderr-2025-01-14-11-16.txt',\n",
       " 'stdout-2025-01-14-11-16.txt',\n",
       " 'stderr-2025-01-14-13-33.txt',\n",
       " 'raw_log-2025-01-14-12-58.txt',\n",
       " 'args-2025-01-14-12-26.txt',\n",
       " 'stderr-2025-01-14-11-29.txt']"
      ]
     },
     "execution_count": 28,
     "metadata": {},
     "output_type": "execute_result"
    }
   ],
   "source": [
    "from os import listdir\n",
    "from os.path import isfile, join\n",
    "onlyfiles = [f for f in listdir(path_icarl) if isfile(join(path_icarl, f))]\n",
    "onlyfiles"
   ]
  },
  {
   "cell_type": "code",
   "execution_count": 29,
   "metadata": {},
   "outputs": [
    {
     "data": {
      "text/plain": [
       "9"
      ]
     },
     "execution_count": 29,
     "metadata": {},
     "output_type": "execute_result"
    }
   ],
   "source": [
    "args = [file for file in onlyfiles if 'args' in file ]\n",
    "len(args)"
   ]
  },
  {
   "cell_type": "code",
   "execution_count": 30,
   "metadata": {},
   "outputs": [],
   "source": [
    "import json\n",
    "arg_dict = {}\n",
    "for file in args:\n",
    "    with open(join(path_icarl, file), 'r') as f:\n",
    "        # regex time! we need only the timestamp of the file\n",
    "        name = file.split('args-')[1]\n",
    "        arg_dict[name] = json.loads(f.read())"
   ]
  },
  {
   "cell_type": "code",
   "execution_count": 31,
   "metadata": {},
   "outputs": [],
   "source": [
    "import json\n",
    "\n",
    "logs = [file for file in onlyfiles if 'raw_log' in file ]\n",
    "\n",
    "res_dict = {}\n",
    "for file in logs:\n",
    "    with open(join(path_icarl, file), 'r') as f:\n",
    "        name = file.split('raw_log-')[1]\n",
    "        res_dict[name] = []\n",
    "        for line in f:\n",
    "            res_dict[name].append(json.loads(line.strip()))"
   ]
  },
  {
   "cell_type": "code",
   "execution_count": 32,
   "metadata": {},
   "outputs": [],
   "source": [
    "import numpy as np\n",
    "seeds = [0, 1, 2]\n",
    "for seed in seeds:\n",
    "    small = [key for key in arg_dict if arg_dict[key][\"seed\"]==seed]\n",
    "    arg_means = {key:[np.mean([k[\"value\"] for k in res_dict[key] if k[\"name\"]==\"acc_tag\" and k[\"group\"]==\"test\" and k[\"task\"] == i]) for i in [9]] for key in small}\n",
    "    max_key = max(arg_means, key=arg_means.get)\n",
    "    small.remove(max_key)\n",
    "    for key in small:\n",
    "        res_dict.pop(key)\n",
    "        arg_dict.pop(key)"
   ]
  },
  {
   "cell_type": "code",
   "execution_count": 33,
   "metadata": {},
   "outputs": [
    {
     "name": "stderr",
     "output_type": "stream",
     "text": [
      "/home/karokaro/research-repositories/FACIL/venv/lib/python3.11/site-packages/numpy/_core/fromnumeric.py:3860: RuntimeWarning: Mean of empty slice.\n",
      "  return _methods._mean(a, axis=axis, dtype=dtype,\n",
      "/home/karokaro/research-repositories/FACIL/venv/lib/python3.11/site-packages/numpy/_core/_methods.py:145: RuntimeWarning: invalid value encountered in scalar divide\n",
      "  ret = ret.dtype.type(ret / rcount)\n"
     ]
    }
   ],
   "source": [
    "import pandas as pd\n",
    "import numpy as np\n",
    "from itertools import chain\n",
    "data_icarl = pd.DataFrame({'Approach': list(chain.from_iterable([['iCaRL' for i in range(10)] for key in res_dict.keys()])),\n",
    "                     'Task': list(chain.from_iterable([[i for i in range(10)] for key in res_dict.keys()])),\n",
    "                     'Average Accuracy': list(chain.from_iterable([[np.mean([k[\"value\"] for k in res_dict[key] if k[\"name\"]==\"acc_tag\" and k[\"group\"]==\"test\" and k[\"task\"] == i]) for i in range(10)] for key in res_dict.keys()])),\n",
    "                     'Average Forgetting': list(chain.from_iterable([[np.mean([k[\"value\"] for k in res_dict[key] if k[\"name\"]==\"forg_tag\" and k[\"group\"]==\"test\" and k[\"task\"] == i and k[\"iter\"] != k[\"task\"]]) for i in range(10)] for key in res_dict.keys()]))})"
   ]
  },
  {
   "cell_type": "code",
   "execution_count": 34,
   "metadata": {},
   "outputs": [
    {
     "data": {
      "text/html": [
       "<div>\n",
       "<style scoped>\n",
       "    .dataframe tbody tr th:only-of-type {\n",
       "        vertical-align: middle;\n",
       "    }\n",
       "\n",
       "    .dataframe tbody tr th {\n",
       "        vertical-align: top;\n",
       "    }\n",
       "\n",
       "    .dataframe thead th {\n",
       "        text-align: right;\n",
       "    }\n",
       "</style>\n",
       "<table border=\"1\" class=\"dataframe\">\n",
       "  <thead>\n",
       "    <tr style=\"text-align: right;\">\n",
       "      <th></th>\n",
       "      <th></th>\n",
       "      <th>Average Accuracy</th>\n",
       "      <th>Average Forgetting</th>\n",
       "    </tr>\n",
       "    <tr>\n",
       "      <th>Approach</th>\n",
       "      <th>Task</th>\n",
       "      <th></th>\n",
       "      <th></th>\n",
       "    </tr>\n",
       "  </thead>\n",
       "  <tbody>\n",
       "    <tr>\n",
       "      <th rowspan=\"10\" valign=\"top\">iCaRL</th>\n",
       "      <th>0</th>\n",
       "      <td>46.23</td>\n",
       "      <td>NaN</td>\n",
       "    </tr>\n",
       "    <tr>\n",
       "      <th>1</th>\n",
       "      <td>31.08</td>\n",
       "      <td>11.33</td>\n",
       "    </tr>\n",
       "    <tr>\n",
       "      <th>2</th>\n",
       "      <td>21.26</td>\n",
       "      <td>15.62</td>\n",
       "    </tr>\n",
       "    <tr>\n",
       "      <th>3</th>\n",
       "      <td>18.49</td>\n",
       "      <td>13.28</td>\n",
       "    </tr>\n",
       "    <tr>\n",
       "      <th>4</th>\n",
       "      <td>16.49</td>\n",
       "      <td>12.09</td>\n",
       "    </tr>\n",
       "    <tr>\n",
       "      <th>5</th>\n",
       "      <td>15.62</td>\n",
       "      <td>12.18</td>\n",
       "    </tr>\n",
       "    <tr>\n",
       "      <th>6</th>\n",
       "      <td>14.22</td>\n",
       "      <td>12.34</td>\n",
       "    </tr>\n",
       "    <tr>\n",
       "      <th>7</th>\n",
       "      <td>12.35</td>\n",
       "      <td>12.66</td>\n",
       "    </tr>\n",
       "    <tr>\n",
       "      <th>8</th>\n",
       "      <td>11.69</td>\n",
       "      <td>12.00</td>\n",
       "    </tr>\n",
       "    <tr>\n",
       "      <th>9</th>\n",
       "      <td>10.89</td>\n",
       "      <td>11.14</td>\n",
       "    </tr>\n",
       "  </tbody>\n",
       "</table>\n",
       "</div>"
      ],
      "text/plain": [
       "               Average Accuracy  Average Forgetting\n",
       "Approach Task                                      \n",
       "iCaRL    0                46.23                 NaN\n",
       "         1                31.08               11.33\n",
       "         2                21.26               15.62\n",
       "         3                18.49               13.28\n",
       "         4                16.49               12.09\n",
       "         5                15.62               12.18\n",
       "         6                14.22               12.34\n",
       "         7                12.35               12.66\n",
       "         8                11.69               12.00\n",
       "         9                10.89               11.14"
      ]
     },
     "execution_count": 34,
     "metadata": {},
     "output_type": "execute_result"
    }
   ],
   "source": [
    "data_icarl.groupby(['Approach', 'Task']).mean().apply(lambda x: round(x, 2))"
   ]
  },
  {
   "cell_type": "code",
   "execution_count": 35,
   "metadata": {},
   "outputs": [],
   "source": [
    "path_rere = '/home/karokaro/research-repositories/FACIL/results/cifar100_rere_lrp_final_cifar'"
   ]
  },
  {
   "cell_type": "code",
   "execution_count": 36,
   "metadata": {},
   "outputs": [
    {
     "data": {
      "text/plain": [
       "['raw_log-2025-01-09-02-42.txt',\n",
       " 'args-2025-01-10-18-33.txt',\n",
       " 'stderr-2025-01-08-19-37.txt',\n",
       " 'raw_log-2025-01-10-02-42.txt',\n",
       " 'args-2025-01-11-03-08.txt',\n",
       " 'raw_log-2025-01-10-10-44.txt',\n",
       " 'stdout-2025-01-08-11-47.txt',\n",
       " 'stderr-2025-01-08-11-47.txt',\n",
       " 'raw_log-2025-01-09-10-49.txt',\n",
       " 'raw_log-2025-01-08-11-47.txt',\n",
       " 'stdout-2025-01-09-02-42.txt',\n",
       " 'stdout-2025-01-10-10-44.txt',\n",
       " 'args-2025-01-09-02-42.txt',\n",
       " 'stderr-2025-01-09-18-08.txt',\n",
       " 'args-2025-01-10-02-42.txt',\n",
       " 'raw_log-2025-01-11-03-08.txt',\n",
       " 'stdout-2025-01-09-18-08.txt',\n",
       " 'stdout-2025-01-10-18-33.txt',\n",
       " 'args-2025-01-08-19-37.txt',\n",
       " 'args-2025-01-09-10-49.txt',\n",
       " 'stderr-2025-01-10-10-44.txt',\n",
       " 'stdout-2025-01-09-10-49.txt',\n",
       " 'stderr-2025-01-09-02-42.txt',\n",
       " 'stderr-2025-01-11-03-08.txt',\n",
       " 'stdout-2025-01-10-02-42.txt',\n",
       " 'stderr-2025-01-09-10-49.txt',\n",
       " 'raw_log-2025-01-10-18-33.txt',\n",
       " 'raw_log-2025-01-08-19-37.txt',\n",
       " 'stderr-2025-01-10-02-42.txt',\n",
       " 'stderr-2025-01-10-18-33.txt',\n",
       " 'raw_log-2025-01-09-18-08.txt',\n",
       " 'args-2025-01-10-10-44.txt',\n",
       " 'stdout-2025-01-11-03-08.txt',\n",
       " 'stdout-2025-01-08-19-37.txt',\n",
       " 'args-2025-01-08-11-47.txt',\n",
       " 'args-2025-01-09-18-08.txt']"
      ]
     },
     "execution_count": 36,
     "metadata": {},
     "output_type": "execute_result"
    }
   ],
   "source": [
    "from os import listdir\n",
    "from os.path import isfile, join\n",
    "onlyfiles = [f for f in listdir(path_rere) if isfile(join(path_rere, f))]\n",
    "onlyfiles"
   ]
  },
  {
   "cell_type": "code",
   "execution_count": 37,
   "metadata": {},
   "outputs": [
    {
     "data": {
      "text/plain": [
       "9"
      ]
     },
     "execution_count": 37,
     "metadata": {},
     "output_type": "execute_result"
    }
   ],
   "source": [
    "args = [file for file in onlyfiles if 'args' in file ]\n",
    "len(args)"
   ]
  },
  {
   "cell_type": "code",
   "execution_count": 38,
   "metadata": {},
   "outputs": [],
   "source": [
    "import json\n",
    "arg_dict = {}\n",
    "for file in args:\n",
    "    with open(join(path_rere, file), 'r') as f:\n",
    "        # regex time! we need only the timestamp of the file\n",
    "        name = file.split('args-')[1]\n",
    "        arg_dict[name] = json.loads(f.read())"
   ]
  },
  {
   "cell_type": "code",
   "execution_count": 39,
   "metadata": {},
   "outputs": [],
   "source": [
    "import json\n",
    "\n",
    "logs = [file for file in onlyfiles if 'raw_log' in file ]\n",
    "\n",
    "res_dict = {}\n",
    "for file in logs:\n",
    "    with open(join(path_rere, file), 'r') as f:\n",
    "        name = file.split('raw_log-')[1]\n",
    "        res_dict[name] = []\n",
    "        for line in f:\n",
    "            res_dict[name].append(json.loads(line.strip()))"
   ]
  },
  {
   "cell_type": "code",
   "execution_count": 40,
   "metadata": {},
   "outputs": [],
   "source": [
    "import numpy as np\n",
    "seeds = [0, 1, 2]\n",
    "for seed in seeds:\n",
    "    small = [key for key in arg_dict if arg_dict[key][\"seed\"]==seed]\n",
    "    arg_means = {key:[np.mean([k[\"value\"] for k in res_dict[key] if k[\"name\"]==\"acc_tag\" and k[\"group\"]==\"test\" and k[\"task\"] == i]) for i in [9]] for key in small}\n",
    "    max_key = max(arg_means, key=arg_means.get)\n",
    "    small.remove(max_key)\n",
    "    for key in small:\n",
    "        res_dict.pop(key)\n",
    "        arg_dict.pop(key)"
   ]
  },
  {
   "cell_type": "code",
   "execution_count": 41,
   "metadata": {},
   "outputs": [
    {
     "name": "stderr",
     "output_type": "stream",
     "text": [
      "/home/karokaro/research-repositories/FACIL/venv/lib/python3.11/site-packages/numpy/_core/fromnumeric.py:3860: RuntimeWarning: Mean of empty slice.\n",
      "  return _methods._mean(a, axis=axis, dtype=dtype,\n",
      "/home/karokaro/research-repositories/FACIL/venv/lib/python3.11/site-packages/numpy/_core/_methods.py:145: RuntimeWarning: invalid value encountered in scalar divide\n",
      "  ret = ret.dtype.type(ret / rcount)\n"
     ]
    }
   ],
   "source": [
    "data_rere = pd.DataFrame({'Approach': list(chain.from_iterable([['ReReLRP' for i in range(10)] for key in res_dict.keys()])),\n",
    "                     'Task': list(chain.from_iterable([[i for i in range(10)] for key in res_dict.keys()])),\n",
    "                     'Average Accuracy': list(chain.from_iterable([[np.mean([k[\"value\"] for k in res_dict[key] if k[\"name\"]==\"acc_tag\" and k[\"group\"]==\"test\" and k[\"task\"] == i]) for i in range(10)] for key in res_dict.keys()])),\n",
    "                     'Average Forgetting': list(chain.from_iterable([[np.mean([k[\"value\"] for k in res_dict[key] if k[\"name\"]==\"forg_tag\" and k[\"group\"]==\"test\" and k[\"task\"] == i and k[\"iter\"] != k[\"task\"]]) for i in range(10)] for key in res_dict.keys()]))})"
   ]
  },
  {
   "cell_type": "code",
   "execution_count": 42,
   "metadata": {},
   "outputs": [
    {
     "data": {
      "text/plain": [
       "<Axes: xlabel='Task', ylabel='Average Accuracy'>"
      ]
     },
     "execution_count": 42,
     "metadata": {},
     "output_type": "execute_result"
    },
    {
     "data": {
      "image/png": "[encoded data removed]",
      "text/plain": [
       "<Figure size 640x480 with 1 Axes>"
      ]
     },
     "metadata": {},
     "output_type": "display_data"
    }
   ],
   "source": [
    "sns.lineplot( data_rere,  x='Task', y='Average Accuracy')"
   ]
  },
  {
   "cell_type": "code",
   "execution_count": 43,
   "metadata": {},
   "outputs": [
    {
     "data": {
      "text/html": [
       "<div>\n",
       "<style scoped>\n",
       "    .dataframe tbody tr th:only-of-type {\n",
       "        vertical-align: middle;\n",
       "    }\n",
       "\n",
       "    .dataframe tbody tr th {\n",
       "        vertical-align: top;\n",
       "    }\n",
       "\n",
       "    .dataframe thead th {\n",
       "        text-align: right;\n",
       "    }\n",
       "</style>\n",
       "<table border=\"1\" class=\"dataframe\">\n",
       "  <thead>\n",
       "    <tr style=\"text-align: right;\">\n",
       "      <th></th>\n",
       "      <th></th>\n",
       "      <th>Average Accuracy</th>\n",
       "      <th>Average Forgetting</th>\n",
       "    </tr>\n",
       "    <tr>\n",
       "      <th>Approach</th>\n",
       "      <th>Task</th>\n",
       "      <th></th>\n",
       "      <th></th>\n",
       "    </tr>\n",
       "  </thead>\n",
       "  <tbody>\n",
       "    <tr>\n",
       "      <th rowspan=\"10\" valign=\"top\">ReReLRP</th>\n",
       "      <th>0</th>\n",
       "      <td>53.23</td>\n",
       "      <td>NaN</td>\n",
       "    </tr>\n",
       "    <tr>\n",
       "      <th>1</th>\n",
       "      <td>25.17</td>\n",
       "      <td>26.07</td>\n",
       "    </tr>\n",
       "    <tr>\n",
       "      <th>2</th>\n",
       "      <td>18.31</td>\n",
       "      <td>17.98</td>\n",
       "    </tr>\n",
       "    <tr>\n",
       "      <th>3</th>\n",
       "      <td>14.37</td>\n",
       "      <td>14.39</td>\n",
       "    </tr>\n",
       "    <tr>\n",
       "      <th>4</th>\n",
       "      <td>11.85</td>\n",
       "      <td>12.28</td>\n",
       "    </tr>\n",
       "    <tr>\n",
       "      <th>5</th>\n",
       "      <td>8.99</td>\n",
       "      <td>11.03</td>\n",
       "    </tr>\n",
       "    <tr>\n",
       "      <th>6</th>\n",
       "      <td>7.89</td>\n",
       "      <td>9.02</td>\n",
       "    </tr>\n",
       "    <tr>\n",
       "      <th>7</th>\n",
       "      <td>6.93</td>\n",
       "      <td>7.71</td>\n",
       "    </tr>\n",
       "    <tr>\n",
       "      <th>8</th>\n",
       "      <td>6.22</td>\n",
       "      <td>6.72</td>\n",
       "    </tr>\n",
       "    <tr>\n",
       "      <th>9</th>\n",
       "      <td>5.58</td>\n",
       "      <td>6.03</td>\n",
       "    </tr>\n",
       "  </tbody>\n",
       "</table>\n",
       "</div>"
      ],
      "text/plain": [
       "               Average Accuracy  Average Forgetting\n",
       "Approach Task                                      \n",
       "ReReLRP  0                53.23                 NaN\n",
       "         1                25.17               26.07\n",
       "         2                18.31               17.98\n",
       "         3                14.37               14.39\n",
       "         4                11.85               12.28\n",
       "         5                 8.99               11.03\n",
       "         6                 7.89                9.02\n",
       "         7                 6.93                7.71\n",
       "         8                 6.22                6.72\n",
       "         9                 5.58                6.03"
      ]
     },
     "execution_count": 43,
     "metadata": {},
     "output_type": "execute_result"
    }
   ],
   "source": [
    "data_rere.groupby(['Approach', 'Task']).mean().apply(lambda x: round(x, 2))"
   ]
  },
  {
   "cell_type": "code",
   "execution_count": 44,
   "metadata": {},
   "outputs": [],
   "source": [
    "path_lwm = '/home/karokaro/research-repositories/FACIL/results/cifar100_joint_final_cifar'"
   ]
  },
  {
   "cell_type": "code",
   "execution_count": 45,
   "metadata": {},
   "outputs": [
    {
     "data": {
      "text/plain": [
       "['stderr-2025-01-15-01-05.txt',\n",
       " 'stderr-2025-01-15-00-02.txt',\n",
       " 'stderr-2025-01-15-02-02.txt',\n",
       " 'args-2025-01-15-03-20.txt',\n",
       " 'stdout-2025-01-15-02-02.txt',\n",
       " 'stderr-2025-01-15-00-34.txt',\n",
       " 'raw_log-2025-01-15-01-05.txt',\n",
       " 'stdout-2025-01-15-01-05.txt',\n",
       " 'stdout-2025-01-14-23-33.txt',\n",
       " 'stdout-2025-01-15-00-34.txt',\n",
       " 'stdout-2025-01-15-02-27.txt',\n",
       " 'args-2025-01-15-00-02.txt',\n",
       " 'stderr-2025-01-14-23-33.txt',\n",
       " 'args-2025-01-15-02-02.txt',\n",
       " 'stdout-2025-01-15-02-53.txt',\n",
       " 'raw_log-2025-01-15-00-34.txt',\n",
       " 'raw_log-2025-01-15-01-34.txt',\n",
       " 'raw_log-2025-01-15-00-02.txt',\n",
       " 'stderr-2025-01-15-03-20.txt',\n",
       " 'raw_log-2025-01-15-02-02.txt',\n",
       " 'stderr-2025-01-15-02-27.txt',\n",
       " 'raw_log-2025-01-14-23-33.txt',\n",
       " 'raw_log-2025-01-15-02-53.txt',\n",
       " 'raw_log-2025-01-15-02-27.txt',\n",
       " 'args-2025-01-15-01-34.txt',\n",
       " 'stderr-2025-01-15-02-53.txt',\n",
       " 'raw_log-2025-01-15-03-20.txt',\n",
       " 'args-2025-01-14-23-33.txt',\n",
       " 'args-2025-01-15-00-34.txt',\n",
       " 'stdout-2025-01-15-03-20.txt',\n",
       " 'args-2025-01-15-02-53.txt',\n",
       " 'stdout-2025-01-15-01-34.txt',\n",
       " 'args-2025-01-15-02-27.txt',\n",
       " 'args-2025-01-15-01-05.txt',\n",
       " 'stderr-2025-01-15-01-34.txt',\n",
       " 'stdout-2025-01-15-00-02.txt']"
      ]
     },
     "execution_count": 45,
     "metadata": {},
     "output_type": "execute_result"
    }
   ],
   "source": [
    "from os import listdir\n",
    "from os.path import isfile, join\n",
    "onlyfiles = [f for f in listdir(path_lwm) if isfile(join(path_lwm, f))]\n",
    "onlyfiles"
   ]
  },
  {
   "cell_type": "code",
   "execution_count": 46,
   "metadata": {},
   "outputs": [
    {
     "data": {
      "text/plain": [
       "9"
      ]
     },
     "execution_count": 46,
     "metadata": {},
     "output_type": "execute_result"
    }
   ],
   "source": [
    "args = [file for file in onlyfiles if 'args' in file ]\n",
    "len(args)"
   ]
  },
  {
   "cell_type": "code",
   "execution_count": 47,
   "metadata": {},
   "outputs": [],
   "source": [
    "import json\n",
    "arg_dict = {}\n",
    "for file in args:\n",
    "    with open(join(path_lwm, file), 'r') as f:\n",
    "        # regex time! we need only the timestamp of the file\n",
    "        name = file.split('args-')[1]\n",
    "        arg_dict[name] = json.loads(f.read())"
   ]
  },
  {
   "cell_type": "code",
   "execution_count": 48,
   "metadata": {},
   "outputs": [],
   "source": [
    "import json\n",
    "\n",
    "logs = [file for file in onlyfiles if 'raw_log' in file ]\n",
    "\n",
    "res_dict = {}\n",
    "for file in logs:\n",
    "    with open(join(path_lwm, file), 'r') as f:\n",
    "        name = file.split('raw_log-')[1]\n",
    "        res_dict[name] = []\n",
    "        for line in f:\n",
    "            res_dict[name].append(json.loads(line.strip()))"
   ]
  },
  {
   "cell_type": "code",
   "execution_count": 49,
   "metadata": {},
   "outputs": [],
   "source": [
    "import numpy as np\n",
    "seeds = [0, 1, 2]\n",
    "for seed in seeds:\n",
    "    small = [key for key in arg_dict if arg_dict[key][\"seed\"]==seed]\n",
    "    arg_means = {key:[np.mean([k[\"value\"] for k in res_dict[key] if k[\"name\"]==\"acc_tag\" and k[\"group\"]==\"test\" and k[\"task\"] == i]) for i in [9]] for key in small}\n",
    "    max_key = max(arg_means, key=arg_means.get)\n",
    "    small.remove(max_key)\n",
    "    for key in small:\n",
    "        res_dict.pop(key)\n",
    "        arg_dict.pop(key)"
   ]
  },
  {
   "cell_type": "code",
   "execution_count": 50,
   "metadata": {},
   "outputs": [
    {
     "name": "stderr",
     "output_type": "stream",
     "text": [
      "/home/karokaro/research-repositories/FACIL/venv/lib/python3.11/site-packages/numpy/_core/fromnumeric.py:3860: RuntimeWarning: Mean of empty slice.\n",
      "  return _methods._mean(a, axis=axis, dtype=dtype,\n",
      "/home/karokaro/research-repositories/FACIL/venv/lib/python3.11/site-packages/numpy/_core/_methods.py:145: RuntimeWarning: invalid value encountered in scalar divide\n",
      "  ret = ret.dtype.type(ret / rcount)\n"
     ]
    }
   ],
   "source": [
    "import pandas as pd\n",
    "import numpy as np\n",
    "from itertools import chain\n",
    "data_joint = pd.DataFrame({'Approach': list(chain.from_iterable([['Joint' for i in range(10)] for key in res_dict.keys()])),\n",
    "                     'Task': list(chain.from_iterable([[i for i in range(10)] for key in res_dict.keys()])),\n",
    "                     'Average Accuracy': list(chain.from_iterable([[np.mean([k[\"value\"] for k in res_dict[key] if k[\"name\"]==\"acc_tag\" and k[\"group\"]==\"test\" and k[\"task\"] == i]) for i in range(10)] for key in res_dict.keys()])),\n",
    "                     'Average Forgetting': list(chain.from_iterable([[np.mean([k[\"value\"] for k in res_dict[key] if k[\"name\"]==\"forg_tag\" and k[\"group\"]==\"test\" and k[\"task\"] == i and k[\"iter\"] != k[\"task\"]]) for i in range(10)] for key in res_dict.keys()]))})"
   ]
  },
  {
   "cell_type": "code",
   "execution_count": 51,
   "metadata": {},
   "outputs": [
    {
     "name": "stderr",
     "output_type": "stream",
     "text": [
      "/tmp/ipykernel_34748/2585113533.py:1: FutureWarning: \n",
      "\n",
      "The `ci` parameter is deprecated. Use `errorbar=None` for the same effect.\n",
      "\n",
      "  sns.lineplot( data_joint,  x='Task', y='Average Accuracy', ci=None)\n"
     ]
    },
    {
     "data": {
      "text/plain": [
       "<Axes: xlabel='Task', ylabel='Average Accuracy'>"
      ]
     },
     "execution_count": 51,
     "metadata": {},
     "output_type": "execute_result"
    },
    {
     "data": {
      "image/png": "[encoded data removed]",
      "text/plain": [
       "<Figure size 640x480 with 1 Axes>"
      ]
     },
     "metadata": {},
     "output_type": "display_data"
    }
   ],
   "source": [
    "sns.lineplot( data_joint,  x='Task', y='Average Accuracy', ci=None)"
   ]
  },
  {
   "cell_type": "code",
   "execution_count": 52,
   "metadata": {},
   "outputs": [
    {
     "data": {
      "text/html": [
       "<div>\n",
       "<style scoped>\n",
       "    .dataframe tbody tr th:only-of-type {\n",
       "        vertical-align: middle;\n",
       "    }\n",
       "\n",
       "    .dataframe tbody tr th {\n",
       "        vertical-align: top;\n",
       "    }\n",
       "\n",
       "    .dataframe thead th {\n",
       "        text-align: right;\n",
       "    }\n",
       "</style>\n",
       "<table border=\"1\" class=\"dataframe\">\n",
       "  <thead>\n",
       "    <tr style=\"text-align: right;\">\n",
       "      <th></th>\n",
       "      <th></th>\n",
       "      <th>Average Accuracy</th>\n",
       "      <th>Average Forgetting</th>\n",
       "    </tr>\n",
       "    <tr>\n",
       "      <th>Approach</th>\n",
       "      <th>Task</th>\n",
       "      <th></th>\n",
       "      <th></th>\n",
       "    </tr>\n",
       "  </thead>\n",
       "  <tbody>\n",
       "    <tr>\n",
       "      <th rowspan=\"10\" valign=\"top\">Joint</th>\n",
       "      <th>0</th>\n",
       "      <td>52.90</td>\n",
       "      <td>NaN</td>\n",
       "    </tr>\n",
       "    <tr>\n",
       "      <th>1</th>\n",
       "      <td>46.45</td>\n",
       "      <td>0.43</td>\n",
       "    </tr>\n",
       "    <tr>\n",
       "      <th>2</th>\n",
       "      <td>41.96</td>\n",
       "      <td>1.03</td>\n",
       "    </tr>\n",
       "    <tr>\n",
       "      <th>3</th>\n",
       "      <td>40.88</td>\n",
       "      <td>0.20</td>\n",
       "    </tr>\n",
       "    <tr>\n",
       "      <th>4</th>\n",
       "      <td>44.23</td>\n",
       "      <td>-0.92</td>\n",
       "    </tr>\n",
       "    <tr>\n",
       "      <th>5</th>\n",
       "      <td>48.91</td>\n",
       "      <td>-2.89</td>\n",
       "    </tr>\n",
       "    <tr>\n",
       "      <th>6</th>\n",
       "      <td>49.50</td>\n",
       "      <td>-1.42</td>\n",
       "    </tr>\n",
       "    <tr>\n",
       "      <th>7</th>\n",
       "      <td>47.30</td>\n",
       "      <td>-0.05</td>\n",
       "    </tr>\n",
       "    <tr>\n",
       "      <th>8</th>\n",
       "      <td>47.73</td>\n",
       "      <td>-0.25</td>\n",
       "    </tr>\n",
       "    <tr>\n",
       "      <th>9</th>\n",
       "      <td>49.49</td>\n",
       "      <td>-1.43</td>\n",
       "    </tr>\n",
       "  </tbody>\n",
       "</table>\n",
       "</div>"
      ],
      "text/plain": [
       "               Average Accuracy  Average Forgetting\n",
       "Approach Task                                      \n",
       "Joint    0                52.90                 NaN\n",
       "         1                46.45                0.43\n",
       "         2                41.96                1.03\n",
       "         3                40.88                0.20\n",
       "         4                44.23               -0.92\n",
       "         5                48.91               -2.89\n",
       "         6                49.50               -1.42\n",
       "         7                47.30               -0.05\n",
       "         8                47.73               -0.25\n",
       "         9                49.49               -1.43"
      ]
     },
     "execution_count": 52,
     "metadata": {},
     "output_type": "execute_result"
    }
   ],
   "source": [
    "data_joint.groupby(['Approach', 'Task']).mean().apply(lambda x: round(x, 2))"
   ]
  },
  {
   "cell_type": "code",
   "execution_count": 53,
   "metadata": {},
   "outputs": [],
   "source": [
    "data_all = pd.concat([data, data_ewc, data_icarl, data_rere, data_joint, data_lwm], ignore_index=True)"
   ]
  },
  {
   "cell_type": "code",
   "execution_count": 54,
   "metadata": {},
   "outputs": [
    {
     "name": "stderr",
     "output_type": "stream",
     "text": [
      "/tmp/ipykernel_34748/1395755074.py:6: FutureWarning: \n",
      "\n",
      "The `ci` parameter is deprecated. Use `errorbar=None` for the same effect.\n",
      "\n",
      "  g = sns.lineplot( data_all, hue='Approach', x='Task', y='Average Accuracy', hue_order=hue_order, ci=None)\n"
     ]
    },
    {
     "data": {
      "image/png": "[encoded data removed]",
      "text/plain": [
       "<Figure size 640x480 with 1 Axes>"
      ]
     },
     "metadata": {},
     "output_type": "display_data"
    }
   ],
   "source": [
    "import matplotlib.pyplot as plt\n",
    "import seaborn as sns\n",
    "hue_order = [\"LWM\", \"LWF\", \"EWC\", \"iCaRL\", \"ReReLRP\", \"Joint\"]\n",
    "paletter = sns.color_palette(\"colorblind\", 6)\n",
    "sns.set_theme(style=\"ticks\", font_scale=1.3) \n",
    "g = sns.lineplot( data_all, hue='Approach', x='Task', y='Average Accuracy', hue_order=hue_order, ci=None)\n",
    "g.set_xticks(range(10))\n",
    "g.set_xticklabels([i+1 for i in range(10)])\n",
    "import matplotlib.ticker as mtick\n",
    "g.yaxis.set_major_formatter(mtick.PercentFormatter())\n",
    "plt.savefig(\"cifar100.pdf\", format='pdf', bbox_inches='tight')"
   ]
  }
 ],
 "metadata": {
  "kernelspec": {
   "display_name": "venv",
   "language": "python",
   "name": "python3"
  },
  "language_info": {
   "codemirror_mode": {
    "name": "ipython",
    "version": 3
   },
   "file_extension": ".py",
   "mimetype": "text/x-python",
   "name": "python",
   "nbconvert_exporter": "python",
   "pygments_lexer": "ipython3",
   "version": "3.11.4"
  }
 },
 "nbformat": 4,
 "nbformat_minor": 2
}
