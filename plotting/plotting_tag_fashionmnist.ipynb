{
 "cells": [
  {
   "cell_type": "code",
   "execution_count": 55,
   "metadata": {},
   "outputs": [],
   "source": [
    "path_lwf = '/home/karokaro/research-repositories/FACIL/results/fashionmnist_lwf_final_fashionmnist'"
   ]
  },
  {
   "cell_type": "code",
   "execution_count": 56,
   "metadata": {},
   "outputs": [
    {
     "data": {
      "text/plain": [
       "['stderr-2025-01-23-02-05.txt',\n",
       " 'raw_log-2025-01-23-01-38.txt',\n",
       " 'raw_log-2025-01-23-01-54.txt',\n",
       " 'stdout-2025-01-23-01-38.txt',\n",
       " 'stderr-2025-01-23-01-54.txt',\n",
       " 'raw_log-2025-01-23-01-28.txt',\n",
       " 'stderr-2025-01-23-01-10.txt',\n",
       " 'stderr-2025-01-23-01-28.txt',\n",
       " 'raw_log-2025-01-23-01-10.txt',\n",
       " 'stdout-2025-01-23-02-05.txt',\n",
       " 'stdout-2025-01-23-01-18.txt',\n",
       " 'args-2025-01-23-01-18.txt',\n",
       " 'args-2025-01-23-01-10.txt',\n",
       " 'args-2025-01-23-02-17.txt',\n",
       " 'stderr-2025-01-23-01-46.txt',\n",
       " 'stdout-2025-01-23-01-54.txt',\n",
       " 'args-2025-01-23-01-38.txt',\n",
       " 'stdout-2025-01-23-01-28.txt',\n",
       " 'args-2025-01-23-02-05.txt',\n",
       " 'stdout-2025-01-23-01-46.txt',\n",
       " 'args-2025-01-23-00-58.txt',\n",
       " 'args-2025-01-23-01-28.txt',\n",
       " 'stdout-2025-01-23-01-10.txt',\n",
       " 'raw_log-2025-01-23-00-58.txt',\n",
       " 'raw_log-2025-01-23-01-18.txt',\n",
       " 'stderr-2025-01-23-01-18.txt',\n",
       " 'stdout-2025-01-23-02-17.txt',\n",
       " 'args-2025-01-23-01-46.txt',\n",
       " 'raw_log-2025-01-23-01-46.txt',\n",
       " 'args-2025-01-23-01-54.txt',\n",
       " 'stderr-2025-01-23-00-58.txt',\n",
       " 'raw_log-2025-01-23-02-17.txt',\n",
       " 'raw_log-2025-01-23-02-05.txt',\n",
       " 'stderr-2025-01-23-02-17.txt',\n",
       " 'stdout-2025-01-23-00-58.txt',\n",
       " 'stderr-2025-01-23-01-38.txt']"
      ]
     },
     "execution_count": 56,
     "metadata": {},
     "output_type": "execute_result"
    }
   ],
   "source": [
    "from os import listdir\n",
    "from os.path import isfile, join\n",
    "onlyfiles = [f for f in listdir(path_lwf) if isfile(join(path_lwf, f))]\n",
    "onlyfiles"
   ]
  },
  {
   "cell_type": "code",
   "execution_count": 57,
   "metadata": {},
   "outputs": [
    {
     "data": {
      "text/plain": [
       "9"
      ]
     },
     "execution_count": 57,
     "metadata": {},
     "output_type": "execute_result"
    }
   ],
   "source": [
    "args = [file for file in onlyfiles if 'args' in file ]\n",
    "len(args)"
   ]
  },
  {
   "cell_type": "code",
   "execution_count": 58,
   "metadata": {},
   "outputs": [],
   "source": [
    "import json\n",
    "arg_dict = {}\n",
    "for file in args:\n",
    "    with open(join(path_lwf, file), 'r') as f:\n",
    "        # regex time! we need only the timestamp of the file\n",
    "        name = file.split('args-')[1]\n",
    "        arg_dict[name] = json.loads(f.read())"
   ]
  },
  {
   "cell_type": "code",
   "execution_count": 59,
   "metadata": {},
   "outputs": [],
   "source": [
    "import json\n",
    "\n",
    "logs = [file for file in onlyfiles if 'raw_log' in file ]\n",
    "\n",
    "res_dict = {}\n",
    "for file in logs:\n",
    "    with open(join(path_lwf, file), 'r') as f:\n",
    "        name = file.split('raw_log-')[1]\n",
    "        res_dict[name] = []\n",
    "        for line in f:\n",
    "            res_dict[name].append(json.loads(line.strip()))"
   ]
  },
  {
   "cell_type": "code",
   "execution_count": 60,
   "metadata": {},
   "outputs": [],
   "source": [
    "import numpy as np\n",
    "seeds = [0, 1, 2]\n",
    "for seed in seeds:\n",
    "    small = [key for key in arg_dict if arg_dict[key][\"seed\"]==seed]\n",
    "    arg_means = {key:[np.mean([k[\"value\"] for k in res_dict[key] if k[\"name\"]==\"acc_tag\" and k[\"group\"]==\"test\" and k[\"task\"] == i]) for i in [4]] for key in small}\n",
    "    max_key = max(arg_means, key=arg_means.get)\n",
    "    small.remove(max_key)\n",
    "    for key in small:\n",
    "        res_dict.pop(key)\n",
    "        arg_dict.pop(key)"
   ]
  },
  {
   "cell_type": "code",
   "execution_count": 61,
   "metadata": {},
   "outputs": [
    {
     "name": "stderr",
     "output_type": "stream",
     "text": [
      "/home/karokaro/research-repositories/FACIL/venv/lib/python3.11/site-packages/numpy/_core/fromnumeric.py:3860: RuntimeWarning: Mean of empty slice.\n",
      "  return _methods._mean(a, axis=axis, dtype=dtype,\n",
      "/home/karokaro/research-repositories/FACIL/venv/lib/python3.11/site-packages/numpy/_core/_methods.py:145: RuntimeWarning: invalid value encountered in scalar divide\n",
      "  ret = ret.dtype.type(ret / rcount)\n"
     ]
    }
   ],
   "source": [
    "import pandas as pd\n",
    "import numpy as np\n",
    "from itertools import chain\n",
    "data = pd.DataFrame({'Approach': list(chain.from_iterable([['LWF' for i in range(5)] for key in res_dict.keys()])),\n",
    "                     'Task': list(chain.from_iterable([[i for i in range(5)] for key in res_dict.keys()])),\n",
    "                     'Average Accuracy': list(chain.from_iterable([[np.mean([k[\"value\"] for k in res_dict[key] if k[\"name\"]==\"acc_tag\" and k[\"group\"]==\"test\" and k[\"task\"] == i]) for i in range(5)] for key in res_dict.keys()])),\n",
    "                     'Average Forgetting': list(chain.from_iterable([[np.mean([k[\"value\"] for k in res_dict[key] if k[\"name\"]==\"forg_tag\" and k[\"group\"]==\"test\" and k[\"task\"] == i and k[\"iter\"] != k[\"task\"]]) for i in range(5)] for key in res_dict.keys()]))})"
   ]
  },
  {
   "cell_type": "code",
   "execution_count": 62,
   "metadata": {},
   "outputs": [
    {
     "name": "stderr",
     "output_type": "stream",
     "text": [
      "/tmp/ipykernel_35340/1207693049.py:2: FutureWarning: \n",
      "\n",
      "The `ci` parameter is deprecated. Use `errorbar=None` for the same effect.\n",
      "\n",
      "  sns.lineplot( data,  x='Task', y='Average Accuracy', ci=None)\n"
     ]
    },
    {
     "data": {
      "text/plain": [
       "<Axes: xlabel='Task', ylabel='Average Accuracy'>"
      ]
     },
     "execution_count": 62,
     "metadata": {},
     "output_type": "execute_result"
    },
    {
     "data": {
      "image/png": "[encoded data removed]",
      "text/plain": [
       "<Figure size 640x480 with 1 Axes>"
      ]
     },
     "metadata": {},
     "output_type": "display_data"
    }
   ],
   "source": [
    "import seaborn as sns\n",
    "sns.lineplot( data,  x='Task', y='Average Accuracy', ci=None)"
   ]
  },
  {
   "cell_type": "code",
   "execution_count": 63,
   "metadata": {},
   "outputs": [
    {
     "data": {
      "text/html": [
       "<div>\n",
       "<style scoped>\n",
       "    .dataframe tbody tr th:only-of-type {\n",
       "        vertical-align: middle;\n",
       "    }\n",
       "\n",
       "    .dataframe tbody tr th {\n",
       "        vertical-align: top;\n",
       "    }\n",
       "\n",
       "    .dataframe thead th {\n",
       "        text-align: right;\n",
       "    }\n",
       "</style>\n",
       "<table border=\"1\" class=\"dataframe\">\n",
       "  <thead>\n",
       "    <tr style=\"text-align: right;\">\n",
       "      <th></th>\n",
       "      <th></th>\n",
       "      <th>Average Accuracy</th>\n",
       "      <th>Average Forgetting</th>\n",
       "    </tr>\n",
       "    <tr>\n",
       "      <th>Approach</th>\n",
       "      <th>Task</th>\n",
       "      <th></th>\n",
       "      <th></th>\n",
       "    </tr>\n",
       "  </thead>\n",
       "  <tbody>\n",
       "    <tr>\n",
       "      <th rowspan=\"5\" valign=\"top\">LWF</th>\n",
       "      <th>0</th>\n",
       "      <td>98.23</td>\n",
       "      <td>NaN</td>\n",
       "    </tr>\n",
       "    <tr>\n",
       "      <th>1</th>\n",
       "      <td>47.90</td>\n",
       "      <td>98.23</td>\n",
       "    </tr>\n",
       "    <tr>\n",
       "      <th>2</th>\n",
       "      <td>38.67</td>\n",
       "      <td>88.90</td>\n",
       "    </tr>\n",
       "    <tr>\n",
       "      <th>3</th>\n",
       "      <td>29.21</td>\n",
       "      <td>92.31</td>\n",
       "    </tr>\n",
       "    <tr>\n",
       "      <th>4</th>\n",
       "      <td>25.17</td>\n",
       "      <td>91.88</td>\n",
       "    </tr>\n",
       "  </tbody>\n",
       "</table>\n",
       "</div>"
      ],
      "text/plain": [
       "               Average Accuracy  Average Forgetting\n",
       "Approach Task                                      \n",
       "LWF      0                98.23                 NaN\n",
       "         1                47.90               98.23\n",
       "         2                38.67               88.90\n",
       "         3                29.21               92.31\n",
       "         4                25.17               91.88"
      ]
     },
     "execution_count": 63,
     "metadata": {},
     "output_type": "execute_result"
    }
   ],
   "source": [
    "data.groupby(['Approach', 'Task']).mean().apply(lambda x: round(x, 2))"
   ]
  },
  {
   "cell_type": "code",
   "execution_count": 64,
   "metadata": {},
   "outputs": [],
   "source": [
    "path_ewc = '/home/karokaro/research-repositories/FACIL/results/fashionmnist_ewc_final_fashionmnist'"
   ]
  },
  {
   "cell_type": "code",
   "execution_count": 65,
   "metadata": {},
   "outputs": [
    {
     "data": {
      "text/plain": [
       "9"
      ]
     },
     "execution_count": 65,
     "metadata": {},
     "output_type": "execute_result"
    }
   ],
   "source": [
    "onlyfiles = [f for f in listdir(path_ewc) if isfile(join(path_ewc, f))]\n",
    "args = [file for file in onlyfiles if 'args' in file ]\n",
    "len(args)"
   ]
  },
  {
   "cell_type": "code",
   "execution_count": 66,
   "metadata": {},
   "outputs": [],
   "source": [
    "import json\n",
    "arg_dict = {}\n",
    "for file in args:\n",
    "    with open(join(path_ewc, file), 'r') as f:\n",
    "        # regex time! we need only the timestamp of the file\n",
    "        name = file.split('args-')[1]\n",
    "        arg_dict[name] = json.loads(f.read())"
   ]
  },
  {
   "cell_type": "code",
   "execution_count": 67,
   "metadata": {},
   "outputs": [],
   "source": [
    "import json\n",
    "\n",
    "logs = [file for file in onlyfiles if 'raw_log' in file ]\n",
    "\n",
    "res_dict = {}\n",
    "for file in logs:\n",
    "    with open(join(path_ewc, file), 'r') as f:\n",
    "        name = file.split('raw_log-')[1]\n",
    "        res_dict[name] = []\n",
    "        for line in f:\n",
    "            res_dict[name].append(json.loads(line.strip()))"
   ]
  },
  {
   "cell_type": "code",
   "execution_count": 68,
   "metadata": {},
   "outputs": [],
   "source": [
    "import numpy as np\n",
    "seeds = [0, 1, 2]\n",
    "for seed in seeds:\n",
    "    small = [key for key in arg_dict if arg_dict[key][\"seed\"]==seed]\n",
    "    arg_means = {key:[np.mean([k[\"value\"] for k in res_dict[key] if k[\"name\"]==\"acc_tag\" and k[\"group\"]==\"test\" and k[\"task\"] == i]) for i in [4]] for key in small}\n",
    "    max_key = max(arg_means, key=arg_means.get)\n",
    "    small.remove(max_key)\n",
    "    for key in small:\n",
    "        res_dict.pop(key)\n",
    "        arg_dict.pop(key)"
   ]
  },
  {
   "cell_type": "code",
   "execution_count": 69,
   "metadata": {},
   "outputs": [
    {
     "name": "stderr",
     "output_type": "stream",
     "text": [
      "/home/karokaro/research-repositories/FACIL/venv/lib/python3.11/site-packages/numpy/_core/fromnumeric.py:3860: RuntimeWarning: Mean of empty slice.\n",
      "  return _methods._mean(a, axis=axis, dtype=dtype,\n",
      "/home/karokaro/research-repositories/FACIL/venv/lib/python3.11/site-packages/numpy/_core/_methods.py:145: RuntimeWarning: invalid value encountered in scalar divide\n",
      "  ret = ret.dtype.type(ret / rcount)\n"
     ]
    }
   ],
   "source": [
    "data_ewc = pd.DataFrame({'Approach': list(chain.from_iterable([['EWC' for i in range(5)] for key in res_dict.keys()])),\n",
    "                     'Task': list(chain.from_iterable([[i for i in range(5)] for key in res_dict.keys()])),\n",
    "                     'Average Accuracy': list(chain.from_iterable([[np.mean([k[\"value\"] for k in res_dict[key] if k[\"name\"]==\"acc_tag\" and k[\"group\"]==\"test\" and k[\"task\"] == i]) for i in range(5)] for key in res_dict.keys()])),\n",
    "                     'Average Forgetting': list(chain.from_iterable([[np.mean([k[\"value\"] for k in res_dict[key] if k[\"name\"]==\"forg_tag\" and k[\"group\"]==\"test\" and k[\"task\"] == i and k[\"iter\"] != k[\"task\"]]) for i in range(5)] for key in res_dict.keys()]))})"
   ]
  },
  {
   "cell_type": "code",
   "execution_count": 70,
   "metadata": {},
   "outputs": [
    {
     "data": {
      "text/plain": [
       "<Axes: xlabel='Task', ylabel='Average Accuracy'>"
      ]
     },
     "execution_count": 70,
     "metadata": {},
     "output_type": "execute_result"
    },
    {
     "data": {
      "image/png": "[encoded data removed]",
      "text/plain": [
       "<Figure size 640x480 with 1 Axes>"
      ]
     },
     "metadata": {},
     "output_type": "display_data"
    }
   ],
   "source": [
    "sns.lineplot( data_ewc,  x='Task', y='Average Accuracy')"
   ]
  },
  {
   "cell_type": "code",
   "execution_count": 71,
   "metadata": {},
   "outputs": [
    {
     "data": {
      "text/html": [
       "<div>\n",
       "<style scoped>\n",
       "    .dataframe tbody tr th:only-of-type {\n",
       "        vertical-align: middle;\n",
       "    }\n",
       "\n",
       "    .dataframe tbody tr th {\n",
       "        vertical-align: top;\n",
       "    }\n",
       "\n",
       "    .dataframe thead th {\n",
       "        text-align: right;\n",
       "    }\n",
       "</style>\n",
       "<table border=\"1\" class=\"dataframe\">\n",
       "  <thead>\n",
       "    <tr style=\"text-align: right;\">\n",
       "      <th></th>\n",
       "      <th></th>\n",
       "      <th>Average Accuracy</th>\n",
       "      <th>Average Forgetting</th>\n",
       "    </tr>\n",
       "    <tr>\n",
       "      <th>Approach</th>\n",
       "      <th>Task</th>\n",
       "      <th></th>\n",
       "      <th></th>\n",
       "    </tr>\n",
       "  </thead>\n",
       "  <tbody>\n",
       "    <tr>\n",
       "      <th rowspan=\"5\" valign=\"top\">EWC</th>\n",
       "      <th>0</th>\n",
       "      <td>98.23</td>\n",
       "      <td>NaN</td>\n",
       "    </tr>\n",
       "    <tr>\n",
       "      <th>1</th>\n",
       "      <td>47.79</td>\n",
       "      <td>98.23</td>\n",
       "    </tr>\n",
       "    <tr>\n",
       "      <th>2</th>\n",
       "      <td>40.29</td>\n",
       "      <td>86.36</td>\n",
       "    </tr>\n",
       "    <tr>\n",
       "      <th>3</th>\n",
       "      <td>32.88</td>\n",
       "      <td>87.34</td>\n",
       "    </tr>\n",
       "    <tr>\n",
       "      <th>4</th>\n",
       "      <td>24.49</td>\n",
       "      <td>92.68</td>\n",
       "    </tr>\n",
       "  </tbody>\n",
       "</table>\n",
       "</div>"
      ],
      "text/plain": [
       "               Average Accuracy  Average Forgetting\n",
       "Approach Task                                      \n",
       "EWC      0                98.23                 NaN\n",
       "         1                47.79               98.23\n",
       "         2                40.29               86.36\n",
       "         3                32.88               87.34\n",
       "         4                24.49               92.68"
      ]
     },
     "execution_count": 71,
     "metadata": {},
     "output_type": "execute_result"
    }
   ],
   "source": [
    "data_ewc.groupby(['Approach', 'Task']).mean().apply(lambda x: round(x, 2))"
   ]
  },
  {
   "cell_type": "code",
   "execution_count": 72,
   "metadata": {},
   "outputs": [],
   "source": [
    "path_lwm = '/home/karokaro/research-repositories/FACIL/results/fashionmnist_lwm_final_fashionmnist'"
   ]
  },
  {
   "cell_type": "code",
   "execution_count": 73,
   "metadata": {},
   "outputs": [
    {
     "data": {
      "text/plain": [
       "['raw_log-2025-01-24-08-22.txt',\n",
       " 'stderr-2025-01-24-08-52.txt',\n",
       " 'stderr-2025-01-24-08-22.txt',\n",
       " 'stderr-2025-01-24-08-09.txt',\n",
       " 'stdout-2025-01-24-08-29.txt',\n",
       " 'raw_log-2025-01-24-08-29.txt',\n",
       " 'args-2025-01-24-08-02.txt',\n",
       " 'stdout-2025-01-24-08-22.txt',\n",
       " 'args-2025-01-24-08-39.txt',\n",
       " 'args-2025-01-24-08-09.txt',\n",
       " 'raw_log-2025-01-24-08-59.txt',\n",
       " 'stdout-2025-01-24-08-59.txt',\n",
       " 'raw_log-2025-01-24-08-09.txt',\n",
       " 'stderr-2025-01-24-08-45.txt',\n",
       " 'args-2025-01-24-08-15.txt',\n",
       " 'args-2025-01-24-08-52.txt',\n",
       " 'args-2025-01-24-08-29.txt',\n",
       " 'stderr-2025-01-24-08-59.txt',\n",
       " 'raw_log-2025-01-24-08-39.txt',\n",
       " 'stdout-2025-01-24-08-02.txt',\n",
       " 'stderr-2025-01-24-08-29.txt',\n",
       " 'args-2025-01-24-08-45.txt',\n",
       " 'stderr-2025-01-24-08-15.txt',\n",
       " 'stdout-2025-01-24-08-39.txt',\n",
       " 'args-2025-01-24-08-22.txt',\n",
       " 'stdout-2025-01-24-08-45.txt',\n",
       " 'args-2025-01-24-08-59.txt',\n",
       " 'raw_log-2025-01-24-08-15.txt',\n",
       " 'stderr-2025-01-24-08-39.txt',\n",
       " 'raw_log-2025-01-24-08-52.txt',\n",
       " 'raw_log-2025-01-24-08-45.txt',\n",
       " 'stdout-2025-01-24-08-09.txt',\n",
       " 'stderr-2025-01-24-08-02.txt',\n",
       " 'stdout-2025-01-24-08-52.txt',\n",
       " 'raw_log-2025-01-24-08-02.txt',\n",
       " 'stdout-2025-01-24-08-15.txt']"
      ]
     },
     "execution_count": 73,
     "metadata": {},
     "output_type": "execute_result"
    }
   ],
   "source": [
    "from os import listdir\n",
    "from os.path import isfile, join\n",
    "onlyfiles = [f for f in listdir(path_lwm) if isfile(join(path_lwm, f))]\n",
    "onlyfiles"
   ]
  },
  {
   "cell_type": "code",
   "execution_count": 74,
   "metadata": {},
   "outputs": [
    {
     "data": {
      "text/plain": [
       "9"
      ]
     },
     "execution_count": 74,
     "metadata": {},
     "output_type": "execute_result"
    }
   ],
   "source": [
    "args = [file for file in onlyfiles if 'args' in file ]\n",
    "len(args)"
   ]
  },
  {
   "cell_type": "code",
   "execution_count": 75,
   "metadata": {},
   "outputs": [],
   "source": [
    "import json\n",
    "arg_dict = {}\n",
    "for file in args:\n",
    "    with open(join(path_lwm, file), 'r') as f:\n",
    "        # regex time! we need only the timestamp of the file\n",
    "        name = file.split('args-')[1]\n",
    "        arg_dict[name] = json.loads(f.read())"
   ]
  },
  {
   "cell_type": "code",
   "execution_count": 76,
   "metadata": {},
   "outputs": [],
   "source": [
    "import json\n",
    "\n",
    "logs = [file for file in onlyfiles if 'raw_log' in file ]\n",
    "\n",
    "res_dict = {}\n",
    "for file in logs:\n",
    "    with open(join(path_lwm, file), 'r') as f:\n",
    "        name = file.split('raw_log-')[1]\n",
    "        res_dict[name] = []\n",
    "        for line in f:\n",
    "            res_dict[name].append(json.loads(line.strip()))"
   ]
  },
  {
   "cell_type": "code",
   "execution_count": 77,
   "metadata": {},
   "outputs": [],
   "source": [
    "import numpy as np\n",
    "seeds = [0, 1, 2]\n",
    "for seed in seeds:\n",
    "    small = [key for key in arg_dict if arg_dict[key][\"seed\"]==seed]\n",
    "    arg_means = {key:[np.mean([k[\"value\"] for k in res_dict[key] if k[\"name\"]==\"acc_tag\" and k[\"group\"]==\"test\" and k[\"task\"] == i]) for i in [4]] for key in small}\n",
    "    max_key = max(arg_means, key=arg_means.get)\n",
    "    small.remove(max_key)\n",
    "    for key in small:\n",
    "        res_dict.pop(key)\n",
    "        arg_dict.pop(key)"
   ]
  },
  {
   "cell_type": "code",
   "execution_count": 78,
   "metadata": {},
   "outputs": [
    {
     "name": "stderr",
     "output_type": "stream",
     "text": [
      "/home/karokaro/research-repositories/FACIL/venv/lib/python3.11/site-packages/numpy/_core/fromnumeric.py:3860: RuntimeWarning: Mean of empty slice.\n",
      "  return _methods._mean(a, axis=axis, dtype=dtype,\n",
      "/home/karokaro/research-repositories/FACIL/venv/lib/python3.11/site-packages/numpy/_core/_methods.py:145: RuntimeWarning: invalid value encountered in scalar divide\n",
      "  ret = ret.dtype.type(ret / rcount)\n"
     ]
    }
   ],
   "source": [
    "import pandas as pd\n",
    "import numpy as np\n",
    "from itertools import chain\n",
    "data_lwm = pd.DataFrame({'Approach': list(chain.from_iterable([['LWM' for i in range(5)] for key in res_dict.keys()])),\n",
    "                     'Task': list(chain.from_iterable([[i for i in range(5)] for key in res_dict.keys()])),\n",
    "                     'Average Accuracy': list(chain.from_iterable([[np.mean([k[\"value\"] for k in res_dict[key] if k[\"name\"]==\"acc_tag\" and k[\"group\"]==\"test\" and k[\"task\"] == i]) for i in range(5)] for key in res_dict.keys()])),\n",
    "                     'Average Forgetting': list(chain.from_iterable([[np.mean([k[\"value\"] for k in res_dict[key] if k[\"name\"]==\"forg_tag\" and k[\"group\"]==\"test\" and k[\"task\"] == i and k[\"iter\"] != k[\"task\"]]) for i in range(5)] for key in res_dict.keys()]))})"
   ]
  },
  {
   "cell_type": "code",
   "execution_count": 79,
   "metadata": {},
   "outputs": [
    {
     "data": {
      "text/plain": [
       "<Axes: xlabel='Task', ylabel='Average Accuracy'>"
      ]
     },
     "execution_count": 79,
     "metadata": {},
     "output_type": "execute_result"
    },
    {
     "data": {
      "image/png": "[encoded data removed]",
      "text/plain": [
       "<Figure size 640x480 with 1 Axes>"
      ]
     },
     "metadata": {},
     "output_type": "display_data"
    }
   ],
   "source": [
    "sns.lineplot( data_lwm,  x='Task', y='Average Accuracy')"
   ]
  },
  {
   "cell_type": "code",
   "execution_count": 80,
   "metadata": {},
   "outputs": [
    {
     "data": {
      "text/html": [
       "<div>\n",
       "<style scoped>\n",
       "    .dataframe tbody tr th:only-of-type {\n",
       "        vertical-align: middle;\n",
       "    }\n",
       "\n",
       "    .dataframe tbody tr th {\n",
       "        vertical-align: top;\n",
       "    }\n",
       "\n",
       "    .dataframe thead th {\n",
       "        text-align: right;\n",
       "    }\n",
       "</style>\n",
       "<table border=\"1\" class=\"dataframe\">\n",
       "  <thead>\n",
       "    <tr style=\"text-align: right;\">\n",
       "      <th></th>\n",
       "      <th></th>\n",
       "      <th>Average Accuracy</th>\n",
       "      <th>Average Forgetting</th>\n",
       "    </tr>\n",
       "    <tr>\n",
       "      <th>Approach</th>\n",
       "      <th>Task</th>\n",
       "      <th></th>\n",
       "      <th></th>\n",
       "    </tr>\n",
       "  </thead>\n",
       "  <tbody>\n",
       "    <tr>\n",
       "      <th rowspan=\"5\" valign=\"top\">LWM</th>\n",
       "      <th>0</th>\n",
       "      <td>98.62</td>\n",
       "      <td>NaN</td>\n",
       "    </tr>\n",
       "    <tr>\n",
       "      <th>1</th>\n",
       "      <td>47.77</td>\n",
       "      <td>98.62</td>\n",
       "    </tr>\n",
       "    <tr>\n",
       "      <th>2</th>\n",
       "      <td>33.20</td>\n",
       "      <td>97.08</td>\n",
       "    </tr>\n",
       "    <tr>\n",
       "      <th>3</th>\n",
       "      <td>24.98</td>\n",
       "      <td>97.92</td>\n",
       "    </tr>\n",
       "    <tr>\n",
       "      <th>4</th>\n",
       "      <td>19.88</td>\n",
       "      <td>98.42</td>\n",
       "    </tr>\n",
       "  </tbody>\n",
       "</table>\n",
       "</div>"
      ],
      "text/plain": [
       "               Average Accuracy  Average Forgetting\n",
       "Approach Task                                      \n",
       "LWM      0                98.62                 NaN\n",
       "         1                47.77               98.62\n",
       "         2                33.20               97.08\n",
       "         3                24.98               97.92\n",
       "         4                19.88               98.42"
      ]
     },
     "execution_count": 80,
     "metadata": {},
     "output_type": "execute_result"
    }
   ],
   "source": [
    "data_lwm.groupby(['Approach', 'Task']).mean().apply(lambda x: round(x, 2))"
   ]
  },
  {
   "cell_type": "code",
   "execution_count": 81,
   "metadata": {},
   "outputs": [],
   "source": [
    "path_icarl = '/home/karokaro/research-repositories/FACIL/results/fashionmnist_icarl_final_fashionmnist'"
   ]
  },
  {
   "cell_type": "code",
   "execution_count": 82,
   "metadata": {},
   "outputs": [
    {
     "data": {
      "text/plain": [
       "['args-2025-01-22-08-12.txt',\n",
       " 'raw_log-2025-01-22-08-40.txt',\n",
       " 'args-2025-01-22-08-40.txt',\n",
       " 'args-2025-01-22-07-16.txt',\n",
       " 'raw_log-2025-01-22-07-16.txt',\n",
       " 'raw_log-2025-01-22-08-26.txt',\n",
       " 'stderr-2025-01-22-08-56.txt',\n",
       " 'stdout-2025-01-22-07-43.txt',\n",
       " 'args-2025-01-22-07-29.txt',\n",
       " 'args-2025-01-22-09-11.txt',\n",
       " 'args-2025-01-22-08-26.txt',\n",
       " 'args-2025-01-22-07-43.txt',\n",
       " 'stdout-2025-01-22-07-57.txt',\n",
       " 'raw_log-2025-01-22-08-12.txt',\n",
       " 'stderr-2025-01-22-08-40.txt',\n",
       " 'stdout-2025-01-22-08-56.txt',\n",
       " 'stdout-2025-01-22-08-12.txt',\n",
       " 'args-2025-01-22-08-56.txt',\n",
       " 'raw_log-2025-01-22-07-57.txt',\n",
       " 'raw_log-2025-01-22-07-43.txt',\n",
       " 'stdout-2025-01-22-07-29.txt',\n",
       " 'stderr-2025-01-22-08-12.txt',\n",
       " 'raw_log-2025-01-22-07-29.txt',\n",
       " 'stderr-2025-01-22-07-57.txt',\n",
       " 'stderr-2025-01-22-07-43.txt',\n",
       " 'stderr-2025-01-22-08-26.txt',\n",
       " 'stdout-2025-01-22-08-26.txt',\n",
       " 'stdout-2025-01-22-09-11.txt',\n",
       " 'stderr-2025-01-22-07-16.txt',\n",
       " 'stderr-2025-01-22-09-11.txt',\n",
       " 'stdout-2025-01-22-07-16.txt',\n",
       " 'args-2025-01-22-07-57.txt',\n",
       " 'raw_log-2025-01-22-09-11.txt',\n",
       " 'stderr-2025-01-22-07-29.txt',\n",
       " 'raw_log-2025-01-22-08-56.txt',\n",
       " 'stdout-2025-01-22-08-40.txt']"
      ]
     },
     "execution_count": 82,
     "metadata": {},
     "output_type": "execute_result"
    }
   ],
   "source": [
    "from os import listdir\n",
    "from os.path import isfile, join\n",
    "onlyfiles = [f for f in listdir(path_icarl) if isfile(join(path_icarl, f))]\n",
    "onlyfiles"
   ]
  },
  {
   "cell_type": "code",
   "execution_count": 83,
   "metadata": {},
   "outputs": [
    {
     "data": {
      "text/plain": [
       "9"
      ]
     },
     "execution_count": 83,
     "metadata": {},
     "output_type": "execute_result"
    }
   ],
   "source": [
    "args = [file for file in onlyfiles if 'args' in file ]\n",
    "len(args)"
   ]
  },
  {
   "cell_type": "code",
   "execution_count": 84,
   "metadata": {},
   "outputs": [],
   "source": [
    "import json\n",
    "arg_dict = {}\n",
    "for file in args:\n",
    "    with open(join(path_icarl, file), 'r') as f:\n",
    "        # regex time! we need only the timestamp of the file\n",
    "        name = file.split('args-')[1]\n",
    "        arg_dict[name] = json.loads(f.read())"
   ]
  },
  {
   "cell_type": "code",
   "execution_count": 85,
   "metadata": {},
   "outputs": [],
   "source": [
    "import json\n",
    "\n",
    "logs = [file for file in onlyfiles if 'raw_log' in file ]\n",
    "\n",
    "res_dict = {}\n",
    "for file in logs:\n",
    "    with open(join(path_icarl, file), 'r') as f:\n",
    "        name = file.split('raw_log-')[1]\n",
    "        res_dict[name] = []\n",
    "        for line in f:\n",
    "            res_dict[name].append(json.loads(line.strip()))"
   ]
  },
  {
   "cell_type": "code",
   "execution_count": 86,
   "metadata": {},
   "outputs": [],
   "source": [
    "import numpy as np\n",
    "seeds = [0, 1, 2]\n",
    "for seed in seeds:\n",
    "    small = [key for key in arg_dict if arg_dict[key][\"seed\"]==seed]\n",
    "    arg_means = {key:[np.mean([k[\"value\"] for k in res_dict[key] if k[\"name\"]==\"acc_tag\" and k[\"group\"]==\"test\" and k[\"task\"] == i]) for i in [4]] for key in small}\n",
    "    max_key = max(arg_means, key=arg_means.get)\n",
    "    small.remove(max_key)\n",
    "    for key in small:\n",
    "        res_dict.pop(key)\n",
    "        arg_dict.pop(key)"
   ]
  },
  {
   "cell_type": "code",
   "execution_count": 87,
   "metadata": {},
   "outputs": [
    {
     "name": "stderr",
     "output_type": "stream",
     "text": [
      "/home/karokaro/research-repositories/FACIL/venv/lib/python3.11/site-packages/numpy/_core/fromnumeric.py:3860: RuntimeWarning: Mean of empty slice.\n",
      "  return _methods._mean(a, axis=axis, dtype=dtype,\n",
      "/home/karokaro/research-repositories/FACIL/venv/lib/python3.11/site-packages/numpy/_core/_methods.py:145: RuntimeWarning: invalid value encountered in scalar divide\n",
      "  ret = ret.dtype.type(ret / rcount)\n"
     ]
    }
   ],
   "source": [
    "import pandas as pd\n",
    "import numpy as np\n",
    "from itertools import chain\n",
    "data_icarl = pd.DataFrame({'Approach': list(chain.from_iterable([['iCaRL' for i in range(5)] for key in res_dict.keys()])),\n",
    "                     'Task': list(chain.from_iterable([[i for i in range(5)] for key in res_dict.keys()])),\n",
    "                     'Average Accuracy': list(chain.from_iterable([[np.mean([k[\"value\"] for k in res_dict[key] if k[\"name\"]==\"acc_tag\" and k[\"group\"]==\"test\" and k[\"task\"] == i]) for i in range(5)] for key in res_dict.keys()])),\n",
    "                     'Average Forgetting': list(chain.from_iterable([[np.mean([k[\"value\"] for k in res_dict[key] if k[\"name\"]==\"forg_tag\" and k[\"group\"]==\"test\" and k[\"task\"] == i and k[\"iter\"] != k[\"task\"]]) for i in range(5)] for key in res_dict.keys()]))})"
   ]
  },
  {
   "cell_type": "code",
   "execution_count": 88,
   "metadata": {},
   "outputs": [
    {
     "data": {
      "text/html": [
       "<div>\n",
       "<style scoped>\n",
       "    .dataframe tbody tr th:only-of-type {\n",
       "        vertical-align: middle;\n",
       "    }\n",
       "\n",
       "    .dataframe tbody tr th {\n",
       "        vertical-align: top;\n",
       "    }\n",
       "\n",
       "    .dataframe thead th {\n",
       "        text-align: right;\n",
       "    }\n",
       "</style>\n",
       "<table border=\"1\" class=\"dataframe\">\n",
       "  <thead>\n",
       "    <tr style=\"text-align: right;\">\n",
       "      <th></th>\n",
       "      <th></th>\n",
       "      <th>Average Accuracy</th>\n",
       "      <th>Average Forgetting</th>\n",
       "    </tr>\n",
       "    <tr>\n",
       "      <th>Approach</th>\n",
       "      <th>Task</th>\n",
       "      <th></th>\n",
       "      <th></th>\n",
       "    </tr>\n",
       "  </thead>\n",
       "  <tbody>\n",
       "    <tr>\n",
       "      <th rowspan=\"5\" valign=\"top\">iCaRL</th>\n",
       "      <th>0</th>\n",
       "      <td>98.77</td>\n",
       "      <td>NaN</td>\n",
       "    </tr>\n",
       "    <tr>\n",
       "      <th>1</th>\n",
       "      <td>83.49</td>\n",
       "      <td>9.18</td>\n",
       "    </tr>\n",
       "    <tr>\n",
       "      <th>2</th>\n",
       "      <td>76.07</td>\n",
       "      <td>14.58</td>\n",
       "    </tr>\n",
       "    <tr>\n",
       "      <th>3</th>\n",
       "      <td>65.13</td>\n",
       "      <td>17.50</td>\n",
       "    </tr>\n",
       "    <tr>\n",
       "      <th>4</th>\n",
       "      <td>64.04</td>\n",
       "      <td>19.45</td>\n",
       "    </tr>\n",
       "  </tbody>\n",
       "</table>\n",
       "</div>"
      ],
      "text/plain": [
       "               Average Accuracy  Average Forgetting\n",
       "Approach Task                                      \n",
       "iCaRL    0                98.77                 NaN\n",
       "         1                83.49                9.18\n",
       "         2                76.07               14.58\n",
       "         3                65.13               17.50\n",
       "         4                64.04               19.45"
      ]
     },
     "execution_count": 88,
     "metadata": {},
     "output_type": "execute_result"
    }
   ],
   "source": [
    "data_icarl.groupby(['Approach', 'Task']).mean().apply(lambda x: round(x, 2))"
   ]
  },
  {
   "cell_type": "code",
   "execution_count": 89,
   "metadata": {},
   "outputs": [],
   "source": [
    "path_rere = '/home/karokaro/research-repositories/FACIL/results/fashionmnist_rere_lrp_final_fashionmnist'"
   ]
  },
  {
   "cell_type": "code",
   "execution_count": 90,
   "metadata": {},
   "outputs": [
    {
     "data": {
      "text/plain": [
       "['raw_log-2025-01-22-18-29.txt',\n",
       " 'raw_log-2025-01-22-09-27.txt',\n",
       " 'stdout-2025-01-22-20-13.txt',\n",
       " 'args-2025-01-22-21-59.txt',\n",
       " 'stderr-2025-01-22-17-06.txt',\n",
       " 'stdout-2025-01-22-12-27.txt',\n",
       " 'stderr-2025-01-22-21-59.txt',\n",
       " 'stdout-2025-01-22-21-59.txt',\n",
       " 'stdout-2025-01-22-11-01.txt',\n",
       " 'raw_log-2025-01-22-11-01.txt',\n",
       " 'stdout-2025-01-22-18-29.txt',\n",
       " 'stderr-2025-01-22-11-01.txt',\n",
       " 'raw_log-2025-01-22-15-33.txt',\n",
       " 'args-2025-01-22-17-06.txt',\n",
       " 'stderr-2025-01-22-13-58.txt',\n",
       " 'stderr-2025-01-22-20-13.txt',\n",
       " 'raw_log-2025-01-22-13-58.txt',\n",
       " 'stdout-2025-01-22-17-06.txt',\n",
       " 'stdout-2025-01-22-09-27.txt',\n",
       " 'args-2025-01-22-15-33.txt',\n",
       " 'stderr-2025-01-22-15-33.txt',\n",
       " 'args-2025-01-22-11-01.txt',\n",
       " 'args-2025-01-22-09-27.txt',\n",
       " 'stdout-2025-01-22-15-33.txt',\n",
       " 'raw_log-2025-01-22-12-27.txt',\n",
       " 'stderr-2025-01-22-09-27.txt',\n",
       " 'args-2025-01-22-12-27.txt',\n",
       " 'raw_log-2025-01-22-21-59.txt',\n",
       " 'args-2025-01-22-20-13.txt',\n",
       " 'args-2025-01-22-18-29.txt',\n",
       " 'stderr-2025-01-22-18-29.txt',\n",
       " 'raw_log-2025-01-22-17-06.txt',\n",
       " 'stderr-2025-01-22-12-27.txt',\n",
       " 'stdout-2025-01-22-13-58.txt',\n",
       " 'args-2025-01-22-13-58.txt',\n",
       " 'raw_log-2025-01-22-20-13.txt']"
      ]
     },
     "execution_count": 90,
     "metadata": {},
     "output_type": "execute_result"
    }
   ],
   "source": [
    "from os import listdir\n",
    "from os.path import isfile, join\n",
    "onlyfiles = [f for f in listdir(path_rere) if isfile(join(path_rere, f))]\n",
    "onlyfiles"
   ]
  },
  {
   "cell_type": "code",
   "execution_count": 91,
   "metadata": {},
   "outputs": [
    {
     "data": {
      "text/plain": [
       "9"
      ]
     },
     "execution_count": 91,
     "metadata": {},
     "output_type": "execute_result"
    }
   ],
   "source": [
    "args = [file for file in onlyfiles if 'args' in file ]\n",
    "len(args)"
   ]
  },
  {
   "cell_type": "code",
   "execution_count": 92,
   "metadata": {},
   "outputs": [],
   "source": [
    "import json\n",
    "arg_dict = {}\n",
    "for file in args:\n",
    "    with open(join(path_rere, file), 'r') as f:\n",
    "        # regex time! we need only the timestamp of the file\n",
    "        name = file.split('args-')[1]\n",
    "        arg_dict[name] = json.loads(f.read())"
   ]
  },
  {
   "cell_type": "code",
   "execution_count": 93,
   "metadata": {},
   "outputs": [],
   "source": [
    "import json\n",
    "\n",
    "logs = [file for file in onlyfiles if 'raw_log' in file ]\n",
    "\n",
    "res_dict = {}\n",
    "for file in logs:\n",
    "    with open(join(path_rere, file), 'r') as f:\n",
    "        name = file.split('raw_log-')[1]\n",
    "        res_dict[name] = []\n",
    "        for line in f:\n",
    "            res_dict[name].append(json.loads(line.strip()))"
   ]
  },
  {
   "cell_type": "code",
   "execution_count": 94,
   "metadata": {},
   "outputs": [],
   "source": [
    "import numpy as np\n",
    "seeds = [0, 1, 2]\n",
    "for seed in seeds:\n",
    "    small = [key for key in arg_dict if arg_dict[key][\"seed\"]==seed]\n",
    "    arg_means = {key:[np.mean([k[\"value\"] for k in res_dict[key] if k[\"name\"]==\"acc_tag\" and k[\"group\"]==\"test\" and k[\"task\"] == i]) for i in [4]] for key in small}\n",
    "    max_key = max(arg_means, key=arg_means.get)\n",
    "    small.remove(max_key)\n",
    "    for key in small:\n",
    "        res_dict.pop(key)\n",
    "        arg_dict.pop(key)"
   ]
  },
  {
   "cell_type": "code",
   "execution_count": 95,
   "metadata": {},
   "outputs": [
    {
     "name": "stderr",
     "output_type": "stream",
     "text": [
      "/home/karokaro/research-repositories/FACIL/venv/lib/python3.11/site-packages/numpy/_core/fromnumeric.py:3860: RuntimeWarning: Mean of empty slice.\n",
      "  return _methods._mean(a, axis=axis, dtype=dtype,\n",
      "/home/karokaro/research-repositories/FACIL/venv/lib/python3.11/site-packages/numpy/_core/_methods.py:145: RuntimeWarning: invalid value encountered in scalar divide\n",
      "  ret = ret.dtype.type(ret / rcount)\n"
     ]
    }
   ],
   "source": [
    "data_rere = pd.DataFrame({'Approach': list(chain.from_iterable([['ReReLRP' for i in range(5)] for key in res_dict.keys()])),\n",
    "                     'Task': list(chain.from_iterable([[i for i in range(5)] for key in res_dict.keys()])),\n",
    "                     'Average Accuracy': list(chain.from_iterable([[np.mean([k[\"value\"] for k in res_dict[key] if k[\"name\"]==\"acc_tag\" and k[\"group\"]==\"test\" and k[\"task\"] == i]) for i in range(5)] for key in res_dict.keys()])),\n",
    "                     'Average Forgetting': list(chain.from_iterable([[np.mean([k[\"value\"] for k in res_dict[key] if k[\"name\"]==\"forg_tag\" and k[\"group\"]==\"test\" and k[\"task\"] == i and k[\"iter\"] != k[\"task\"]]) for i in range(5)] for key in res_dict.keys()]))})"
   ]
  },
  {
   "cell_type": "code",
   "execution_count": 96,
   "metadata": {},
   "outputs": [
    {
     "data": {
      "text/plain": [
       "<Axes: xlabel='Task', ylabel='Average Accuracy'>"
      ]
     },
     "execution_count": 96,
     "metadata": {},
     "output_type": "execute_result"
    },
    {
     "data": {
      "image/png": "[encoded data removed]",
      "text/plain": [
       "<Figure size 640x480 with 1 Axes>"
      ]
     },
     "metadata": {},
     "output_type": "display_data"
    }
   ],
   "source": [
    "sns.lineplot( data_rere,  x='Task', y='Average Accuracy')"
   ]
  },
  {
   "cell_type": "code",
   "execution_count": 97,
   "metadata": {},
   "outputs": [
    {
     "data": {
      "text/html": [
       "<div>\n",
       "<style scoped>\n",
       "    .dataframe tbody tr th:only-of-type {\n",
       "        vertical-align: middle;\n",
       "    }\n",
       "\n",
       "    .dataframe tbody tr th {\n",
       "        vertical-align: top;\n",
       "    }\n",
       "\n",
       "    .dataframe thead th {\n",
       "        text-align: right;\n",
       "    }\n",
       "</style>\n",
       "<table border=\"1\" class=\"dataframe\">\n",
       "  <thead>\n",
       "    <tr style=\"text-align: right;\">\n",
       "      <th></th>\n",
       "      <th></th>\n",
       "      <th>Average Accuracy</th>\n",
       "      <th>Average Forgetting</th>\n",
       "    </tr>\n",
       "    <tr>\n",
       "      <th>Approach</th>\n",
       "      <th>Task</th>\n",
       "      <th></th>\n",
       "      <th></th>\n",
       "    </tr>\n",
       "  </thead>\n",
       "  <tbody>\n",
       "    <tr>\n",
       "      <th rowspan=\"5\" valign=\"top\">ReReLRP</th>\n",
       "      <th>0</th>\n",
       "      <td>98.82</td>\n",
       "      <td>NaN</td>\n",
       "    </tr>\n",
       "    <tr>\n",
       "      <th>1</th>\n",
       "      <td>81.47</td>\n",
       "      <td>14.82</td>\n",
       "    </tr>\n",
       "    <tr>\n",
       "      <th>2</th>\n",
       "      <td>73.80</td>\n",
       "      <td>16.52</td>\n",
       "    </tr>\n",
       "    <tr>\n",
       "      <th>3</th>\n",
       "      <td>63.34</td>\n",
       "      <td>17.43</td>\n",
       "    </tr>\n",
       "    <tr>\n",
       "      <th>4</th>\n",
       "      <td>63.54</td>\n",
       "      <td>14.94</td>\n",
       "    </tr>\n",
       "  </tbody>\n",
       "</table>\n",
       "</div>"
      ],
      "text/plain": [
       "               Average Accuracy  Average Forgetting\n",
       "Approach Task                                      \n",
       "ReReLRP  0                98.82                 NaN\n",
       "         1                81.47               14.82\n",
       "         2                73.80               16.52\n",
       "         3                63.34               17.43\n",
       "         4                63.54               14.94"
      ]
     },
     "execution_count": 97,
     "metadata": {},
     "output_type": "execute_result"
    }
   ],
   "source": [
    "data_rere.groupby(['Approach', 'Task']).mean().apply(lambda x: round(x, 2))"
   ]
  },
  {
   "cell_type": "code",
   "execution_count": 98,
   "metadata": {},
   "outputs": [],
   "source": [
    "path_lwm = '/home/karokaro/research-repositories/FACIL/results/fashionmnist_joint_final_fashionmnist'"
   ]
  },
  {
   "cell_type": "code",
   "execution_count": 99,
   "metadata": {},
   "outputs": [
    {
     "data": {
      "text/plain": [
       "['raw_log-2025-01-20-08-50.txt',\n",
       " 'stderr-2025-01-20-10-00.txt',\n",
       " 'stderr-2025-01-20-09-44.txt',\n",
       " 'stdout-2025-01-20-08-36.txt',\n",
       " 'stdout-2025-01-20-09-14.txt',\n",
       " 'stdout-2025-01-20-08-50.txt',\n",
       " 'stderr-2025-01-20-10-38.txt',\n",
       " 'stdout-2025-01-20-10-38.txt',\n",
       " 'args-2025-01-20-09-44.txt',\n",
       " 'stderr-2025-01-20-08-36.txt',\n",
       " 'stderr-2025-01-20-09-29.txt',\n",
       " 'args-2025-01-20-10-38.txt',\n",
       " 'args-2025-01-20-08-50.txt',\n",
       " 'stderr-2025-01-20-08-50.txt',\n",
       " 'args-2025-01-20-10-00.txt',\n",
       " 'args-2025-01-20-09-29.txt',\n",
       " 'raw_log-2025-01-20-09-03.txt',\n",
       " 'args-2025-01-20-09-14.txt',\n",
       " 'stdout-2025-01-20-10-00.txt',\n",
       " 'stdout-2025-01-20-09-03.txt',\n",
       " 'stderr-2025-01-20-09-03.txt',\n",
       " 'args-2025-01-20-10-20.txt',\n",
       " 'stderr-2025-01-20-10-20.txt',\n",
       " 'raw_log-2025-01-20-10-20.txt',\n",
       " 'stderr-2025-01-20-09-14.txt',\n",
       " 'raw_log-2025-01-20-10-38.txt',\n",
       " 'raw_log-2025-01-20-09-14.txt',\n",
       " 'raw_log-2025-01-20-09-29.txt',\n",
       " 'stdout-2025-01-20-10-20.txt',\n",
       " 'args-2025-01-20-09-03.txt',\n",
       " 'stdout-2025-01-20-09-44.txt',\n",
       " 'raw_log-2025-01-20-09-44.txt',\n",
       " 'raw_log-2025-01-20-10-00.txt',\n",
       " 'stdout-2025-01-20-09-29.txt',\n",
       " 'raw_log-2025-01-20-08-36.txt',\n",
       " 'args-2025-01-20-08-36.txt']"
      ]
     },
     "execution_count": 99,
     "metadata": {},
     "output_type": "execute_result"
    }
   ],
   "source": [
    "from os import listdir\n",
    "from os.path import isfile, join\n",
    "onlyfiles = [f for f in listdir(path_lwm) if isfile(join(path_lwm, f))]\n",
    "onlyfiles"
   ]
  },
  {
   "cell_type": "code",
   "execution_count": 100,
   "metadata": {},
   "outputs": [
    {
     "data": {
      "text/plain": [
       "9"
      ]
     },
     "execution_count": 100,
     "metadata": {},
     "output_type": "execute_result"
    }
   ],
   "source": [
    "args = [file for file in onlyfiles if 'args' in file ]\n",
    "len(args)"
   ]
  },
  {
   "cell_type": "code",
   "execution_count": 101,
   "metadata": {},
   "outputs": [],
   "source": [
    "import json\n",
    "arg_dict = {}\n",
    "for file in args:\n",
    "    with open(join(path_lwm, file), 'r') as f:\n",
    "        # regex time! we need only the timestamp of the file\n",
    "        name = file.split('args-')[1]\n",
    "        arg_dict[name] = json.loads(f.read())"
   ]
  },
  {
   "cell_type": "code",
   "execution_count": 102,
   "metadata": {},
   "outputs": [],
   "source": [
    "import json\n",
    "\n",
    "logs = [file for file in onlyfiles if 'raw_log' in file ]\n",
    "\n",
    "res_dict = {}\n",
    "for file in logs:\n",
    "    with open(join(path_lwm, file), 'r') as f:\n",
    "        name = file.split('raw_log-')[1]\n",
    "        res_dict[name] = []\n",
    "        for line in f:\n",
    "            res_dict[name].append(json.loads(line.strip()))"
   ]
  },
  {
   "cell_type": "code",
   "execution_count": 103,
   "metadata": {},
   "outputs": [],
   "source": [
    "import numpy as np\n",
    "seeds = [0, 1, 2]\n",
    "for seed in seeds:\n",
    "    small = [key for key in arg_dict if arg_dict[key][\"seed\"]==seed]\n",
    "    arg_means = {key:[np.mean([k[\"value\"] for k in res_dict[key] if k[\"name\"]==\"acc_tag\" and k[\"group\"]==\"test\" and k[\"task\"] == i]) for i in [4]] for key in small}\n",
    "    max_key = max(arg_means, key=arg_means.get)\n",
    "    small.remove(max_key)\n",
    "    for key in small:\n",
    "        res_dict.pop(key)\n",
    "        arg_dict.pop(key)"
   ]
  },
  {
   "cell_type": "code",
   "execution_count": 104,
   "metadata": {},
   "outputs": [
    {
     "name": "stderr",
     "output_type": "stream",
     "text": [
      "/home/karokaro/research-repositories/FACIL/venv/lib/python3.11/site-packages/numpy/_core/fromnumeric.py:3860: RuntimeWarning: Mean of empty slice.\n",
      "  return _methods._mean(a, axis=axis, dtype=dtype,\n",
      "/home/karokaro/research-repositories/FACIL/venv/lib/python3.11/site-packages/numpy/_core/_methods.py:145: RuntimeWarning: invalid value encountered in scalar divide\n",
      "  ret = ret.dtype.type(ret / rcount)\n"
     ]
    }
   ],
   "source": [
    "import pandas as pd\n",
    "import numpy as np\n",
    "from itertools import chain\n",
    "data_joint = pd.DataFrame({'Approach': list(chain.from_iterable([['Joint' for i in range(5)] for key in res_dict.keys()])),\n",
    "                     'Task': list(chain.from_iterable([[i for i in range(5)] for key in res_dict.keys()])),\n",
    "                     'Average Accuracy': list(chain.from_iterable([[np.mean([k[\"value\"] for k in res_dict[key] if k[\"name\"]==\"acc_tag\" and k[\"group\"]==\"test\" and k[\"task\"] == i]) for i in range(5)] for key in res_dict.keys()])),\n",
    "                     'Average Forgetting': list(chain.from_iterable([[np.mean([k[\"value\"] for k in res_dict[key] if k[\"name\"]==\"forg_tag\" and k[\"group\"]==\"test\" and k[\"task\"] == i and k[\"iter\"] != k[\"task\"]]) for i in range(5)] for key in res_dict.keys()]))})"
   ]
  },
  {
   "cell_type": "code",
   "execution_count": 105,
   "metadata": {},
   "outputs": [
    {
     "name": "stderr",
     "output_type": "stream",
     "text": [
      "/tmp/ipykernel_35340/2585113533.py:1: FutureWarning: \n",
      "\n",
      "The `ci` parameter is deprecated. Use `errorbar=None` for the same effect.\n",
      "\n",
      "  sns.lineplot( data_joint,  x='Task', y='Average Accuracy', ci=None)\n"
     ]
    },
    {
     "data": {
      "text/plain": [
       "<Axes: xlabel='Task', ylabel='Average Accuracy'>"
      ]
     },
     "execution_count": 105,
     "metadata": {},
     "output_type": "execute_result"
    },
    {
     "data": {
      "image/png": "[encoded data removed]",
      "text/plain": [
       "<Figure size 640x480 with 1 Axes>"
      ]
     },
     "metadata": {},
     "output_type": "display_data"
    }
   ],
   "source": [
    "sns.lineplot( data_joint,  x='Task', y='Average Accuracy', ci=None)"
   ]
  },
  {
   "cell_type": "code",
   "execution_count": 106,
   "metadata": {},
   "outputs": [
    {
     "data": {
      "text/html": [
       "<div>\n",
       "<style scoped>\n",
       "    .dataframe tbody tr th:only-of-type {\n",
       "        vertical-align: middle;\n",
       "    }\n",
       "\n",
       "    .dataframe tbody tr th {\n",
       "        vertical-align: top;\n",
       "    }\n",
       "\n",
       "    .dataframe thead th {\n",
       "        text-align: right;\n",
       "    }\n",
       "</style>\n",
       "<table border=\"1\" class=\"dataframe\">\n",
       "  <thead>\n",
       "    <tr style=\"text-align: right;\">\n",
       "      <th></th>\n",
       "      <th></th>\n",
       "      <th>Average Accuracy</th>\n",
       "      <th>Average Forgetting</th>\n",
       "    </tr>\n",
       "    <tr>\n",
       "      <th>Approach</th>\n",
       "      <th>Task</th>\n",
       "      <th></th>\n",
       "      <th></th>\n",
       "    </tr>\n",
       "  </thead>\n",
       "  <tbody>\n",
       "    <tr>\n",
       "      <th rowspan=\"5\" valign=\"top\">Joint</th>\n",
       "      <th>0</th>\n",
       "      <td>98.67</td>\n",
       "      <td>NaN</td>\n",
       "    </tr>\n",
       "    <tr>\n",
       "      <th>1</th>\n",
       "      <td>94.14</td>\n",
       "      <td>4.42</td>\n",
       "    </tr>\n",
       "    <tr>\n",
       "      <th>2</th>\n",
       "      <td>92.18</td>\n",
       "      <td>4.77</td>\n",
       "    </tr>\n",
       "    <tr>\n",
       "      <th>3</th>\n",
       "      <td>86.88</td>\n",
       "      <td>6.51</td>\n",
       "    </tr>\n",
       "    <tr>\n",
       "      <th>4</th>\n",
       "      <td>89.08</td>\n",
       "      <td>4.40</td>\n",
       "    </tr>\n",
       "  </tbody>\n",
       "</table>\n",
       "</div>"
      ],
      "text/plain": [
       "               Average Accuracy  Average Forgetting\n",
       "Approach Task                                      \n",
       "Joint    0                98.67                 NaN\n",
       "         1                94.14                4.42\n",
       "         2                92.18                4.77\n",
       "         3                86.88                6.51\n",
       "         4                89.08                4.40"
      ]
     },
     "execution_count": 106,
     "metadata": {},
     "output_type": "execute_result"
    }
   ],
   "source": [
    "data_joint.groupby(['Approach', 'Task']).mean().apply(lambda x: round(x, 2))"
   ]
  },
  {
   "cell_type": "code",
   "execution_count": 107,
   "metadata": {},
   "outputs": [],
   "source": [
    "data_all = pd.concat([data, data_ewc, data_icarl, data_rere, data_joint, data_lwm], ignore_index=True)"
   ]
  },
  {
   "cell_type": "code",
   "execution_count": 108,
   "metadata": {},
   "outputs": [
    {
     "name": "stderr",
     "output_type": "stream",
     "text": [
      "/tmp/ipykernel_35340/4230112662.py:5: FutureWarning: \n",
      "\n",
      "The `ci` parameter is deprecated. Use `errorbar=None` for the same effect.\n",
      "\n",
      "  g = sns.lineplot( data_all, hue='Approach', x='Task', y='Average Accuracy', hue_order=hue_order, ci=None)\n"
     ]
    },
    {
     "data": {
      "image/png": "[encoded data removed]",
      "text/plain": [
       "<Figure size 640x480 with 1 Axes>"
      ]
     },
     "metadata": {},
     "output_type": "display_data"
    }
   ],
   "source": [
    "import matplotlib.pyplot as plt\n",
    "hue_order = [\"LWM\", \"LWF\", \"EWC\", \"iCaRL\", \"ReReLRP\", \"Joint\"]\n",
    "paletter = sns.color_palette(\"colorblind\", 6)\n",
    "sns.set_theme(style=\"ticks\", font_scale=1.3) \n",
    "g = sns.lineplot( data_all, hue='Approach', x='Task', y='Average Accuracy', hue_order=hue_order, ci=None)\n",
    "g.set_xticks(range(5))\n",
    "g.set_xticklabels([i+1 for i in range(5)])\n",
    "import matplotlib.ticker as mtick\n",
    "g.yaxis.set_major_formatter(mtick.PercentFormatter())\n",
    "plt.savefig(\"fashionmnist.pdf\", format='pdf', bbox_inches='tight')"
   ]
  }
 ],
 "metadata": {
  "kernelspec": {
   "display_name": "venv",
   "language": "python",
   "name": "python3"
  },
  "language_info": {
   "codemirror_mode": {
    "name": "ipython",
    "version": 3
   },
   "file_extension": ".py",
   "mimetype": "text/x-python",
   "name": "python",
   "nbconvert_exporter": "python",
   "pygments_lexer": "ipython3",
   "version": "3.11.4"
  }
 },
 "nbformat": 4,
 "nbformat_minor": 2
}
