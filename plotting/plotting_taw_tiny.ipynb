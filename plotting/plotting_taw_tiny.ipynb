{
 "cells": [
  {
   "cell_type": "code",
   "execution_count": 1,
   "metadata": {},
   "outputs": [],
   "source": [
    "path_lwf = '/home/karokaro/research-repositories/FACIL/results/tiny-imagenet-200_lwf_final_tiny_img'"
   ]
  },
  {
   "cell_type": "code",
   "execution_count": null,
   "metadata": {},
   "outputs": [
    {
     "data": {
      "text/plain": [
       "['args-2025-01-24-18-10.txt',\n",
       " 'args-2025-01-24-17-27.txt',\n",
       " 'stdout-2025-01-24-19-11.txt',\n",
       " 'stderr-2025-01-24-17-27.txt',\n",
       " 'stdout-2025-01-24-19-38.txt',\n",
       " 'raw_log-2025-01-24-19-11.txt',\n",
       " 'raw_log-2025-01-24-18-33.txt',\n",
       " 'args-2025-01-24-17-50.txt',\n",
       " 'stdout-2025-01-24-17-01.txt',\n",
       " 'args-2025-01-24-19-11.txt',\n",
       " 'raw_log-2025-01-24-17-50.txt',\n",
       " 'stdout-2025-01-24-18-33.txt',\n",
       " 'args-2025-01-24-18-33.txt',\n",
       " 'stdout-2025-01-24-17-50.txt',\n",
       " 'raw_log-2025-01-24-18-10.txt',\n",
       " 'stderr-2025-01-24-17-01.txt',\n",
       " 'raw_log-2025-01-24-16-38.txt',\n",
       " 'stderr-2025-01-24-18-10.txt',\n",
       " 'raw_log-2025-01-24-19-38.txt',\n",
       " 'stdout-2025-01-24-16-38.txt',\n",
       " 'args-2025-01-24-18-50.txt',\n",
       " 'stderr-2025-01-24-18-33.txt',\n",
       " 'stderr-2025-01-24-16-38.txt',\n",
       " 'raw_log-2025-01-24-17-27.txt',\n",
       " 'stderr-2025-01-24-18-50.txt',\n",
       " 'raw_log-2025-01-24-18-50.txt',\n",
       " 'raw_log-2025-01-24-17-01.txt',\n",
       " 'args-2025-01-24-16-38.txt',\n",
       " 'args-2025-01-24-17-01.txt',\n",
       " 'stdout-2025-01-24-18-50.txt',\n",
       " 'stdout-2025-01-24-18-10.txt',\n",
       " 'stderr-2025-01-24-19-11.txt',\n",
       " 'stdout-2025-01-24-17-27.txt',\n",
       " 'stderr-2025-01-24-17-50.txt',\n",
       " 'args-2025-01-24-19-38.txt',\n",
       " 'stderr-2025-01-24-19-38.txt']"
      ]
     },
     "execution_count": 2,
     "metadata": {},
     "output_type": "execute_result"
    }
   ],
   "source": [
    "from os import listdir\n",
    "from os.path import isfile, join\n",
    "onlyfiles = [f for f in listdir(path_lwf) if isfile(join(path_lwf, f))]\n",
    "onlyfiles"
   ]
  },
  {
   "cell_type": "code",
   "execution_count": 3,
   "metadata": {},
   "outputs": [
    {
     "data": {
      "text/plain": [
       "9"
      ]
     },
     "execution_count": 3,
     "metadata": {},
     "output_type": "execute_result"
    }
   ],
   "source": [
    "args = [file for file in onlyfiles if 'args' in file ]\n",
    "len(args)"
   ]
  },
  {
   "cell_type": "code",
   "execution_count": 4,
   "metadata": {},
   "outputs": [],
   "source": [
    "import json\n",
    "arg_dict = {}\n",
    "for file in args:\n",
    "    with open(join(path_lwf, file), 'r') as f:\n",
    "        # regex time! we need only the timestamp of the file\n",
    "        name = file.split('args-')[1]\n",
    "        arg_dict[name] = json.loads(f.read())"
   ]
  },
  {
   "cell_type": "code",
   "execution_count": 5,
   "metadata": {},
   "outputs": [],
   "source": [
    "import json\n",
    "\n",
    "logs = [file for file in onlyfiles if 'raw_log' in file ]\n",
    "\n",
    "res_dict = {}\n",
    "for file in logs:\n",
    "    with open(join(path_lwf, file), 'r') as f:\n",
    "        name = file.split('raw_log-')[1]\n",
    "        res_dict[name] = []\n",
    "        for line in f:\n",
    "            res_dict[name].append(json.loads(line.strip()))"
   ]
  },
  {
   "cell_type": "code",
   "execution_count": 6,
   "metadata": {},
   "outputs": [],
   "source": [
    "import numpy as np\n",
    "seeds = [0, 1, 2]\n",
    "for seed in seeds:\n",
    "    small = [key for key in arg_dict if arg_dict[key][\"seed\"]==seed]\n",
    "    arg_means = {key:[np.mean([k[\"value\"] for k in res_dict[key] if k[\"name\"]==\"acc_tag\" and k[\"group\"]==\"test\" and k[\"task\"] == i]) for i in [4]] for key in small}\n",
    "    max_key = max(arg_means, key=arg_means.get)\n",
    "    small.remove(max_key)\n",
    "    for key in small:\n",
    "        res_dict.pop(key)\n",
    "        arg_dict.pop(key)"
   ]
  },
  {
   "cell_type": "code",
   "execution_count": 7,
   "metadata": {},
   "outputs": [
    {
     "name": "stderr",
     "output_type": "stream",
     "text": [
      "/home/karokaro/research-repositories/FACIL/venv/lib/python3.11/site-packages/numpy/_core/fromnumeric.py:3860: RuntimeWarning: Mean of empty slice.\n",
      "  return _methods._mean(a, axis=axis, dtype=dtype,\n",
      "/home/karokaro/research-repositories/FACIL/venv/lib/python3.11/site-packages/numpy/_core/_methods.py:145: RuntimeWarning: invalid value encountered in scalar divide\n",
      "  ret = ret.dtype.type(ret / rcount)\n"
     ]
    }
   ],
   "source": [
    "import pandas as pd\n",
    "import numpy as np\n",
    "from itertools import chain\n",
    "data = pd.DataFrame({'Approach': list(chain.from_iterable([['LWF' for i in range(5)] for key in res_dict.keys()])),\n",
    "                     'Task': list(chain.from_iterable([[i for i in range(5)] for key in res_dict.keys()])),\n",
    "                     'Average Accuracy': list(chain.from_iterable([[np.mean([k[\"value\"] for k in res_dict[key] if k[\"name\"]==\"acc_taw\" and k[\"group\"]==\"test\" and k[\"task\"] == i]) for i in range(5)] for key in res_dict.keys()])),\n",
    "                     'Average Forgetting': list(chain.from_iterable([[np.mean([k[\"value\"] for k in res_dict[key] if k[\"name\"]==\"forg_taw\" and k[\"group\"]==\"test\" and k[\"task\"] == i and k[\"iter\"] != k[\"task\"]]) for i in range(5)] for key in res_dict.keys()]))})"
   ]
  },
  {
   "cell_type": "code",
   "execution_count": 8,
   "metadata": {},
   "outputs": [
    {
     "name": "stderr",
     "output_type": "stream",
     "text": [
      "/tmp/ipykernel_41327/1207693049.py:2: FutureWarning: \n",
      "\n",
      "The `ci` parameter is deprecated. Use `errorbar=None` for the same effect.\n",
      "\n",
      "  sns.lineplot( data,  x='Task', y='Average Accuracy', ci=None)\n"
     ]
    },
    {
     "data": {
      "text/plain": [
       "<Axes: xlabel='Task', ylabel='Average Accuracy'>"
      ]
     },
     "execution_count": 8,
     "metadata": {},
     "output_type": "execute_result"
    },
    {
     "data": {
      "image/png": "[encoded data removed]",
      "text/plain": [
       "<Figure size 640x480 with 1 Axes>"
      ]
     },
     "metadata": {},
     "output_type": "display_data"
    }
   ],
   "source": [
    "import seaborn as sns\n",
    "sns.lineplot( data,  x='Task', y='Average Accuracy', ci=None)"
   ]
  },
  {
   "cell_type": "code",
   "execution_count": 9,
   "metadata": {},
   "outputs": [
    {
     "data": {
      "text/html": [
       "<div>\n",
       "<style scoped>\n",
       "    .dataframe tbody tr th:only-of-type {\n",
       "        vertical-align: middle;\n",
       "    }\n",
       "\n",
       "    .dataframe tbody tr th {\n",
       "        vertical-align: top;\n",
       "    }\n",
       "\n",
       "    .dataframe thead th {\n",
       "        text-align: right;\n",
       "    }\n",
       "</style>\n",
       "<table border=\"1\" class=\"dataframe\">\n",
       "  <thead>\n",
       "    <tr style=\"text-align: right;\">\n",
       "      <th></th>\n",
       "      <th></th>\n",
       "      <th>Average Accuracy</th>\n",
       "      <th>Average Forgetting</th>\n",
       "    </tr>\n",
       "    <tr>\n",
       "      <th>Approach</th>\n",
       "      <th>Task</th>\n",
       "      <th></th>\n",
       "      <th></th>\n",
       "    </tr>\n",
       "  </thead>\n",
       "  <tbody>\n",
       "    <tr>\n",
       "      <th rowspan=\"5\" valign=\"top\">LWF</th>\n",
       "      <th>0</th>\n",
       "      <td>40.42</td>\n",
       "      <td>NaN</td>\n",
       "    </tr>\n",
       "    <tr>\n",
       "      <th>1</th>\n",
       "      <td>41.02</td>\n",
       "      <td>2.37</td>\n",
       "    </tr>\n",
       "    <tr>\n",
       "      <th>2</th>\n",
       "      <td>39.81</td>\n",
       "      <td>4.04</td>\n",
       "    </tr>\n",
       "    <tr>\n",
       "      <th>3</th>\n",
       "      <td>38.46</td>\n",
       "      <td>5.69</td>\n",
       "    </tr>\n",
       "    <tr>\n",
       "      <th>4</th>\n",
       "      <td>38.96</td>\n",
       "      <td>5.17</td>\n",
       "    </tr>\n",
       "  </tbody>\n",
       "</table>\n",
       "</div>"
      ],
      "text/plain": [
       "               Average Accuracy  Average Forgetting\n",
       "Approach Task                                      \n",
       "LWF      0                40.42                 NaN\n",
       "         1                41.02                2.37\n",
       "         2                39.81                4.04\n",
       "         3                38.46                5.69\n",
       "         4                38.96                5.17"
      ]
     },
     "execution_count": 9,
     "metadata": {},
     "output_type": "execute_result"
    }
   ],
   "source": [
    "data.groupby(['Approach', 'Task']).mean().apply(lambda x: round(x, 2))"
   ]
  },
  {
   "cell_type": "code",
   "execution_count": 10,
   "metadata": {},
   "outputs": [],
   "source": [
    "path_ewc = '/home/karokaro/research-repositories/FACIL/results/tiny-imagenet-200_ewc_final_tiny_img'"
   ]
  },
  {
   "cell_type": "code",
   "execution_count": null,
   "metadata": {},
   "outputs": [
    {
     "data": {
      "text/plain": [
       "9"
      ]
     },
     "execution_count": 11,
     "metadata": {},
     "output_type": "execute_result"
    }
   ],
   "source": [
    "onlyfiles = [f for f in listdir(path_ewc) if isfile(join(path_ewc, f))]\n",
    "args = [file for file in onlyfiles if 'args' in file ]\n",
    "len(args)"
   ]
  },
  {
   "cell_type": "code",
   "execution_count": 12,
   "metadata": {},
   "outputs": [],
   "source": [
    "import json\n",
    "arg_dict = {}\n",
    "for file in args:\n",
    "    with open(join(path_ewc, file), 'r') as f:\n",
    "        # regex time! we need only the timestamp of the file\n",
    "        name = file.split('args-')[1]\n",
    "        arg_dict[name] = json.loads(f.read())"
   ]
  },
  {
   "cell_type": "code",
   "execution_count": 13,
   "metadata": {},
   "outputs": [],
   "source": [
    "import json\n",
    "\n",
    "logs = [file for file in onlyfiles if 'raw_log' in file ]\n",
    "\n",
    "res_dict = {}\n",
    "for file in logs:\n",
    "    with open(join(path_ewc, file), 'r') as f:\n",
    "        name = file.split('raw_log-')[1]\n",
    "        res_dict[name] = []\n",
    "        for line in f:\n",
    "            res_dict[name].append(json.loads(line.strip()))"
   ]
  },
  {
   "cell_type": "code",
   "execution_count": 14,
   "metadata": {},
   "outputs": [],
   "source": [
    "import numpy as np\n",
    "seeds = [0, 1, 2]\n",
    "for seed in seeds:\n",
    "    small = [key for key in arg_dict if arg_dict[key][\"seed\"]==seed]\n",
    "    arg_means = {key:[np.mean([k[\"value\"] for k in res_dict[key] if k[\"name\"]==\"acc_tag\" and k[\"group\"]==\"test\" and k[\"task\"] == i]) for i in [4]] for key in small}\n",
    "    max_key = max(arg_means, key=arg_means.get)\n",
    "    small.remove(max_key)\n",
    "    for key in small:\n",
    "        res_dict.pop(key)\n",
    "        arg_dict.pop(key)"
   ]
  },
  {
   "cell_type": "code",
   "execution_count": 15,
   "metadata": {},
   "outputs": [
    {
     "name": "stderr",
     "output_type": "stream",
     "text": [
      "/home/karokaro/research-repositories/FACIL/venv/lib/python3.11/site-packages/numpy/_core/fromnumeric.py:3860: RuntimeWarning: Mean of empty slice.\n",
      "  return _methods._mean(a, axis=axis, dtype=dtype,\n",
      "/home/karokaro/research-repositories/FACIL/venv/lib/python3.11/site-packages/numpy/_core/_methods.py:145: RuntimeWarning: invalid value encountered in scalar divide\n",
      "  ret = ret.dtype.type(ret / rcount)\n"
     ]
    }
   ],
   "source": [
    "data_ewc = pd.DataFrame({'Approach': list(chain.from_iterable([['EWC' for i in range(5)] for key in res_dict.keys()])),\n",
    "                     'Task': list(chain.from_iterable([[i for i in range(5)] for key in res_dict.keys()])),\n",
    "                     'Average Accuracy': list(chain.from_iterable([[np.mean([k[\"value\"] for k in res_dict[key] if k[\"name\"]==\"acc_taw\" and k[\"group\"]==\"test\" and k[\"task\"] == i]) for i in range(5)] for key in res_dict.keys()])),\n",
    "                     'Average Forgetting': list(chain.from_iterable([[np.mean([k[\"value\"] for k in res_dict[key] if k[\"name\"]==\"forg_taw\" and k[\"group\"]==\"test\" and k[\"task\"] == i and k[\"iter\"] != k[\"task\"]]) for i in range(5)] for key in res_dict.keys()]))})"
   ]
  },
  {
   "cell_type": "code",
   "execution_count": 16,
   "metadata": {},
   "outputs": [
    {
     "data": {
      "text/plain": [
       "<Axes: xlabel='Task', ylabel='Average Accuracy'>"
      ]
     },
     "execution_count": 16,
     "metadata": {},
     "output_type": "execute_result"
    },
    {
     "data": {
      "image/png": "[encoded data removed]",
      "text/plain": [
       "<Figure size 640x480 with 1 Axes>"
      ]
     },
     "metadata": {},
     "output_type": "display_data"
    }
   ],
   "source": [
    "sns.lineplot( data_ewc,  x='Task', y='Average Accuracy')"
   ]
  },
  {
   "cell_type": "code",
   "execution_count": 17,
   "metadata": {},
   "outputs": [
    {
     "data": {
      "text/html": [
       "<div>\n",
       "<style scoped>\n",
       "    .dataframe tbody tr th:only-of-type {\n",
       "        vertical-align: middle;\n",
       "    }\n",
       "\n",
       "    .dataframe tbody tr th {\n",
       "        vertical-align: top;\n",
       "    }\n",
       "\n",
       "    .dataframe thead th {\n",
       "        text-align: right;\n",
       "    }\n",
       "</style>\n",
       "<table border=\"1\" class=\"dataframe\">\n",
       "  <thead>\n",
       "    <tr style=\"text-align: right;\">\n",
       "      <th></th>\n",
       "      <th></th>\n",
       "      <th>Average Accuracy</th>\n",
       "      <th>Average Forgetting</th>\n",
       "    </tr>\n",
       "    <tr>\n",
       "      <th>Approach</th>\n",
       "      <th>Task</th>\n",
       "      <th></th>\n",
       "      <th></th>\n",
       "    </tr>\n",
       "  </thead>\n",
       "  <tbody>\n",
       "    <tr>\n",
       "      <th rowspan=\"5\" valign=\"top\">EWC</th>\n",
       "      <th>0</th>\n",
       "      <td>40.13</td>\n",
       "      <td>NaN</td>\n",
       "    </tr>\n",
       "    <tr>\n",
       "      <th>1</th>\n",
       "      <td>30.27</td>\n",
       "      <td>10.47</td>\n",
       "    </tr>\n",
       "    <tr>\n",
       "      <th>2</th>\n",
       "      <td>32.04</td>\n",
       "      <td>4.69</td>\n",
       "    </tr>\n",
       "    <tr>\n",
       "      <th>3</th>\n",
       "      <td>33.64</td>\n",
       "      <td>3.11</td>\n",
       "    </tr>\n",
       "    <tr>\n",
       "      <th>4</th>\n",
       "      <td>32.39</td>\n",
       "      <td>5.15</td>\n",
       "    </tr>\n",
       "  </tbody>\n",
       "</table>\n",
       "</div>"
      ],
      "text/plain": [
       "               Average Accuracy  Average Forgetting\n",
       "Approach Task                                      \n",
       "EWC      0                40.13                 NaN\n",
       "         1                30.27               10.47\n",
       "         2                32.04                4.69\n",
       "         3                33.64                3.11\n",
       "         4                32.39                5.15"
      ]
     },
     "execution_count": 17,
     "metadata": {},
     "output_type": "execute_result"
    }
   ],
   "source": [
    "data_ewc.groupby(['Approach', 'Task']).mean().apply(lambda x: round(x, 2))"
   ]
  },
  {
   "cell_type": "code",
   "execution_count": 18,
   "metadata": {},
   "outputs": [],
   "source": [
    "path_lwm = '/home/karokaro/research-repositories/FACIL/results/tiny-imagenet-200_lwm_final_tiny_img'"
   ]
  },
  {
   "cell_type": "code",
   "execution_count": 19,
   "metadata": {},
   "outputs": [
    {
     "data": {
      "text/plain": [
       "['stderr-2025-01-24-11-38.txt',\n",
       " 'raw_log-2025-01-24-13-49.txt',\n",
       " 'raw_log-2025-01-24-14-25.txt',\n",
       " 'stdout-2025-01-24-13-49.txt',\n",
       " 'stderr-2025-01-24-11-13.txt',\n",
       " 'args-2025-01-24-11-38.txt',\n",
       " 'stderr-2025-01-24-13-26.txt',\n",
       " 'stderr-2025-01-24-12-30.txt',\n",
       " 'args-2025-01-24-15-14.txt',\n",
       " 'stdout-2025-01-24-11-38.txt',\n",
       " 'stdout-2025-01-24-12-30.txt',\n",
       " 'raw_log-2025-01-24-12-04.txt',\n",
       " 'stdout-2025-01-24-12-59.txt',\n",
       " 'stdout-2025-01-24-15-14.txt',\n",
       " 'stdout-2025-01-24-11-13.txt',\n",
       " 'args-2025-01-24-14-25.txt',\n",
       " 'args-2025-01-24-12-04.txt',\n",
       " 'stderr-2025-01-24-12-59.txt',\n",
       " 'args-2025-01-24-12-30.txt',\n",
       " 'raw_log-2025-01-24-13-26.txt',\n",
       " 'stderr-2025-01-24-15-14.txt',\n",
       " 'stdout-2025-01-24-12-04.txt',\n",
       " 'stderr-2025-01-24-14-25.txt',\n",
       " 'raw_log-2025-01-24-15-14.txt',\n",
       " 'stderr-2025-01-24-13-49.txt',\n",
       " 'stdout-2025-01-24-14-25.txt',\n",
       " 'args-2025-01-24-11-13.txt',\n",
       " 'stdout-2025-01-24-13-26.txt',\n",
       " 'raw_log-2025-01-24-11-38.txt',\n",
       " 'args-2025-01-24-13-26.txt',\n",
       " 'args-2025-01-24-13-49.txt',\n",
       " 'raw_log-2025-01-24-11-13.txt',\n",
       " 'raw_log-2025-01-24-12-30.txt',\n",
       " 'args-2025-01-24-12-59.txt',\n",
       " 'stderr-2025-01-24-12-04.txt',\n",
       " 'raw_log-2025-01-24-12-59.txt']"
      ]
     },
     "execution_count": 19,
     "metadata": {},
     "output_type": "execute_result"
    }
   ],
   "source": [
    "from os import listdir\n",
    "from os.path import isfile, join\n",
    "onlyfiles = [f for f in listdir(path_lwm) if isfile(join(path_lwm, f))]\n",
    "onlyfiles"
   ]
  },
  {
   "cell_type": "code",
   "execution_count": 20,
   "metadata": {},
   "outputs": [
    {
     "data": {
      "text/plain": [
       "9"
      ]
     },
     "execution_count": 20,
     "metadata": {},
     "output_type": "execute_result"
    }
   ],
   "source": [
    "args = [file for file in onlyfiles if 'args' in file ]\n",
    "len(args)"
   ]
  },
  {
   "cell_type": "code",
   "execution_count": 21,
   "metadata": {},
   "outputs": [],
   "source": [
    "import json\n",
    "arg_dict = {}\n",
    "for file in args:\n",
    "    with open(join(path_lwm, file), 'r') as f:\n",
    "        # regex time! we need only the timestamp of the file\n",
    "        name = file.split('args-')[1]\n",
    "        arg_dict[name] = json.loads(f.read())"
   ]
  },
  {
   "cell_type": "code",
   "execution_count": 22,
   "metadata": {},
   "outputs": [],
   "source": [
    "import json\n",
    "\n",
    "logs = [file for file in onlyfiles if 'raw_log' in file ]\n",
    "\n",
    "res_dict = {}\n",
    "for file in logs:\n",
    "    with open(join(path_lwm, file), 'r') as f:\n",
    "        name = file.split('raw_log-')[1]\n",
    "        res_dict[name] = []\n",
    "        for line in f:\n",
    "            res_dict[name].append(json.loads(line.strip()))"
   ]
  },
  {
   "cell_type": "code",
   "execution_count": 23,
   "metadata": {},
   "outputs": [],
   "source": [
    "import numpy as np\n",
    "seeds = [0, 1, 2]\n",
    "for seed in seeds:\n",
    "    small = [key for key in arg_dict if arg_dict[key][\"seed\"]==seed]\n",
    "    arg_means = {key:[np.mean([k[\"value\"] for k in res_dict[key] if k[\"name\"]==\"acc_tag\" and k[\"group\"]==\"test\" and k[\"task\"] == i]) for i in [4]] for key in small}\n",
    "    max_key = max(arg_means, key=arg_means.get)\n",
    "    small.remove(max_key)\n",
    "    for key in small:\n",
    "        res_dict.pop(key)\n",
    "        arg_dict.pop(key)"
   ]
  },
  {
   "cell_type": "code",
   "execution_count": 24,
   "metadata": {},
   "outputs": [
    {
     "name": "stderr",
     "output_type": "stream",
     "text": [
      "/home/karokaro/research-repositories/FACIL/venv/lib/python3.11/site-packages/numpy/_core/fromnumeric.py:3860: RuntimeWarning: Mean of empty slice.\n",
      "  return _methods._mean(a, axis=axis, dtype=dtype,\n",
      "/home/karokaro/research-repositories/FACIL/venv/lib/python3.11/site-packages/numpy/_core/_methods.py:145: RuntimeWarning: invalid value encountered in scalar divide\n",
      "  ret = ret.dtype.type(ret / rcount)\n"
     ]
    }
   ],
   "source": [
    "import pandas as pd\n",
    "import numpy as np\n",
    "from itertools import chain\n",
    "data_lwm = pd.DataFrame({'Approach': list(chain.from_iterable([['LWM' for i in range(5)] for key in res_dict.keys()])),\n",
    "                     'Task': list(chain.from_iterable([[i for i in range(5)] for key in res_dict.keys()])),\n",
    "                     'Average Accuracy': list(chain.from_iterable([[np.mean([k[\"value\"] for k in res_dict[key] if k[\"name\"]==\"acc_taw\" and k[\"group\"]==\"test\" and k[\"task\"] == i]) for i in range(5)] for key in res_dict.keys()])),\n",
    "                     'Average Forgetting': list(chain.from_iterable([[np.mean([k[\"value\"] for k in res_dict[key] if k[\"name\"]==\"forg_taw\" and k[\"group\"]==\"test\" and k[\"task\"] == i and k[\"iter\"] != k[\"task\"]]) for i in range(5)] for key in res_dict.keys()]))})"
   ]
  },
  {
   "cell_type": "code",
   "execution_count": 25,
   "metadata": {},
   "outputs": [
    {
     "data": {
      "text/plain": [
       "<Axes: xlabel='Task', ylabel='Average Accuracy'>"
      ]
     },
     "execution_count": 25,
     "metadata": {},
     "output_type": "execute_result"
    },
    {
     "data": {
      "image/png": "[encoded data removed]",
      "text/plain": [
       "<Figure size 640x480 with 1 Axes>"
      ]
     },
     "metadata": {},
     "output_type": "display_data"
    }
   ],
   "source": [
    "sns.lineplot( data_lwm,  x='Task', y='Average Accuracy')"
   ]
  },
  {
   "cell_type": "code",
   "execution_count": 26,
   "metadata": {},
   "outputs": [
    {
     "data": {
      "text/html": [
       "<div>\n",
       "<style scoped>\n",
       "    .dataframe tbody tr th:only-of-type {\n",
       "        vertical-align: middle;\n",
       "    }\n",
       "\n",
       "    .dataframe tbody tr th {\n",
       "        vertical-align: top;\n",
       "    }\n",
       "\n",
       "    .dataframe thead th {\n",
       "        text-align: right;\n",
       "    }\n",
       "</style>\n",
       "<table border=\"1\" class=\"dataframe\">\n",
       "  <thead>\n",
       "    <tr style=\"text-align: right;\">\n",
       "      <th></th>\n",
       "      <th></th>\n",
       "      <th>Average Accuracy</th>\n",
       "      <th>Average Forgetting</th>\n",
       "    </tr>\n",
       "    <tr>\n",
       "      <th>Approach</th>\n",
       "      <th>Task</th>\n",
       "      <th></th>\n",
       "      <th></th>\n",
       "    </tr>\n",
       "  </thead>\n",
       "  <tbody>\n",
       "    <tr>\n",
       "      <th rowspan=\"5\" valign=\"top\">LWM</th>\n",
       "      <th>0</th>\n",
       "      <td>42.08</td>\n",
       "      <td>NaN</td>\n",
       "    </tr>\n",
       "    <tr>\n",
       "      <th>1</th>\n",
       "      <td>44.37</td>\n",
       "      <td>-0.25</td>\n",
       "    </tr>\n",
       "    <tr>\n",
       "      <th>2</th>\n",
       "      <td>44.42</td>\n",
       "      <td>0.15</td>\n",
       "    </tr>\n",
       "    <tr>\n",
       "      <th>3</th>\n",
       "      <td>44.28</td>\n",
       "      <td>0.74</td>\n",
       "    </tr>\n",
       "    <tr>\n",
       "      <th>4</th>\n",
       "      <td>44.51</td>\n",
       "      <td>1.19</td>\n",
       "    </tr>\n",
       "  </tbody>\n",
       "</table>\n",
       "</div>"
      ],
      "text/plain": [
       "               Average Accuracy  Average Forgetting\n",
       "Approach Task                                      \n",
       "LWM      0                42.08                 NaN\n",
       "         1                44.37               -0.25\n",
       "         2                44.42                0.15\n",
       "         3                44.28                0.74\n",
       "         4                44.51                1.19"
      ]
     },
     "execution_count": 26,
     "metadata": {},
     "output_type": "execute_result"
    }
   ],
   "source": [
    "data_lwm.groupby(['Approach', 'Task']).mean().apply(lambda x: round(x, 2))"
   ]
  },
  {
   "cell_type": "code",
   "execution_count": 27,
   "metadata": {},
   "outputs": [],
   "source": [
    "path_icarl = '/home/karokaro/research-repositories/FACIL/results/tiny-imagenet-200_icarl_final_tiny_img'"
   ]
  },
  {
   "cell_type": "code",
   "execution_count": 28,
   "metadata": {},
   "outputs": [
    {
     "data": {
      "text/plain": [
       "['stderr-2025-01-23-16-08.txt',\n",
       " 'stdout-2025-01-23-15-54.txt',\n",
       " 'raw_log-2025-01-23-16-08.txt',\n",
       " 'stdout-2025-01-23-16-21.txt',\n",
       " 'stdout-2025-01-23-15-39.txt',\n",
       " 'stderr-2025-01-23-15-22.txt',\n",
       " 'stderr-2025-01-23-15-54.txt',\n",
       " 'stdout-2025-01-23-16-33.txt',\n",
       " 'args-2025-01-23-15-39.txt',\n",
       " 'stdout-2025-01-23-15-22.txt',\n",
       " 'args-2025-01-23-16-33.txt',\n",
       " 'args-2025-01-23-15-22.txt',\n",
       " 'raw_log-2025-01-23-16-33.txt',\n",
       " 'stderr-2025-01-23-16-33.txt',\n",
       " 'args-2025-01-23-15-54.txt',\n",
       " 'args-2025-01-23-15-07.txt',\n",
       " 'stdout-2025-01-23-17-13.txt',\n",
       " 'raw_log-2025-01-23-15-54.txt',\n",
       " 'stderr-2025-01-23-17-27.txt',\n",
       " 'raw_log-2025-01-23-17-13.txt',\n",
       " 'stdout-2025-01-23-15-07.txt',\n",
       " 'stderr-2025-01-23-15-07.txt',\n",
       " 'stderr-2025-01-23-15-39.txt',\n",
       " 'raw_log-2025-01-23-15-22.txt',\n",
       " 'stderr-2025-01-23-16-21.txt',\n",
       " 'raw_log-2025-01-23-15-39.txt',\n",
       " 'raw_log-2025-01-23-16-21.txt',\n",
       " 'args-2025-01-23-16-21.txt',\n",
       " 'stderr-2025-01-23-17-13.txt',\n",
       " 'args-2025-01-23-17-13.txt',\n",
       " 'stdout-2025-01-23-16-08.txt',\n",
       " 'args-2025-01-23-17-27.txt',\n",
       " 'raw_log-2025-01-23-15-07.txt',\n",
       " 'args-2025-01-23-16-08.txt',\n",
       " 'stdout-2025-01-23-17-27.txt',\n",
       " 'raw_log-2025-01-23-17-27.txt']"
      ]
     },
     "execution_count": 28,
     "metadata": {},
     "output_type": "execute_result"
    }
   ],
   "source": [
    "from os import listdir\n",
    "from os.path import isfile, join\n",
    "onlyfiles = [f for f in listdir(path_icarl) if isfile(join(path_icarl, f))]\n",
    "onlyfiles"
   ]
  },
  {
   "cell_type": "code",
   "execution_count": 29,
   "metadata": {},
   "outputs": [
    {
     "data": {
      "text/plain": [
       "9"
      ]
     },
     "execution_count": 29,
     "metadata": {},
     "output_type": "execute_result"
    }
   ],
   "source": [
    "args = [file for file in onlyfiles if 'args' in file ]\n",
    "len(args)"
   ]
  },
  {
   "cell_type": "code",
   "execution_count": 30,
   "metadata": {},
   "outputs": [],
   "source": [
    "import json\n",
    "arg_dict = {}\n",
    "for file in args:\n",
    "    with open(join(path_icarl, file), 'r') as f:\n",
    "        # regex time! we need only the timestamp of the file\n",
    "        name = file.split('args-')[1]\n",
    "        arg_dict[name] = json.loads(f.read())"
   ]
  },
  {
   "cell_type": "code",
   "execution_count": 31,
   "metadata": {},
   "outputs": [],
   "source": [
    "import json\n",
    "\n",
    "logs = [file for file in onlyfiles if 'raw_log' in file ]\n",
    "\n",
    "res_dict = {}\n",
    "for file in logs:\n",
    "    with open(join(path_icarl, file), 'r') as f:\n",
    "        name = file.split('raw_log-')[1]\n",
    "        res_dict[name] = []\n",
    "        for line in f:\n",
    "            res_dict[name].append(json.loads(line.strip()))"
   ]
  },
  {
   "cell_type": "code",
   "execution_count": 32,
   "metadata": {},
   "outputs": [],
   "source": [
    "import numpy as np\n",
    "seeds = [0, 1, 2]\n",
    "for seed in seeds:\n",
    "    small = [key for key in arg_dict if arg_dict[key][\"seed\"]==seed]\n",
    "    arg_means = {key:[np.mean([k[\"value\"] for k in res_dict[key] if k[\"name\"]==\"acc_tag\" and k[\"group\"]==\"test\" and k[\"task\"] == i]) for i in [4]] for key in small}\n",
    "    max_key = max(arg_means, key=arg_means.get)\n",
    "    small.remove(max_key)\n",
    "    for key in small:\n",
    "        res_dict.pop(key)\n",
    "        arg_dict.pop(key)"
   ]
  },
  {
   "cell_type": "code",
   "execution_count": null,
   "metadata": {},
   "outputs": [
    {
     "name": "stderr",
     "output_type": "stream",
     "text": [
      "/home/karokaro/research-repositories/FACIL/venv/lib/python3.11/site-packages/numpy/_core/fromnumeric.py:3860: RuntimeWarning: Mean of empty slice.\n",
      "  return _methods._mean(a, axis=axis, dtype=dtype,\n",
      "/home/karokaro/research-repositories/FACIL/venv/lib/python3.11/site-packages/numpy/_core/_methods.py:145: RuntimeWarning: invalid value encountered in scalar divide\n",
      "  ret = ret.dtype.type(ret / rcount)\n"
     ]
    }
   ],
   "source": [
    "import pandas as pd\n",
    "import numpy as np\n",
    "from itertools import chain\n",
    "data_icarl = pd.DataFrame({'Approach': list(chain.from_iterable([['iCaRL' for i in range(5)] for key in res_dict.keys()])),\n",
    "                     'Task': list(chain.from_iterable([[i for i in range(5)] for key in res_dict.keys()])),\n",
    "                     'Average Accuracy': list(chain.from_iterable([[np.mean([k[\"value\"] for k in res_dict[key] if k[\"name\"]==\"acc_taw\" and k[\"group\"]==\"test\" and k[\"task\"] == i]) for i in range(5)] for key in res_dict.keys()])),\n",
    "                     'Average Forgetting': list(chain.from_iterable([[np.mean([k[\"value\"] for k in res_dict[key] if k[\"name\"]==\"forg_taw\" and k[\"group\"]==\"test\" and k[\"task\"] == i and k[\"iter\"] != k[\"task\"]]) for i in range(5)] for key in res_dict.keys()]))})"
   ]
  },
  {
   "cell_type": "code",
   "execution_count": 34,
   "metadata": {},
   "outputs": [
    {
     "data": {
      "text/html": [
       "<div>\n",
       "<style scoped>\n",
       "    .dataframe tbody tr th:only-of-type {\n",
       "        vertical-align: middle;\n",
       "    }\n",
       "\n",
       "    .dataframe tbody tr th {\n",
       "        vertical-align: top;\n",
       "    }\n",
       "\n",
       "    .dataframe thead th {\n",
       "        text-align: right;\n",
       "    }\n",
       "</style>\n",
       "<table border=\"1\" class=\"dataframe\">\n",
       "  <thead>\n",
       "    <tr style=\"text-align: right;\">\n",
       "      <th></th>\n",
       "      <th></th>\n",
       "      <th>Average Accuracy</th>\n",
       "      <th>Average Forgetting</th>\n",
       "    </tr>\n",
       "    <tr>\n",
       "      <th>Approach</th>\n",
       "      <th>Task</th>\n",
       "      <th></th>\n",
       "      <th></th>\n",
       "    </tr>\n",
       "  </thead>\n",
       "  <tbody>\n",
       "    <tr>\n",
       "      <th rowspan=\"5\" valign=\"top\">iCaRL</th>\n",
       "      <th>0</th>\n",
       "      <td>38.88</td>\n",
       "      <td>NaN</td>\n",
       "    </tr>\n",
       "    <tr>\n",
       "      <th>1</th>\n",
       "      <td>2.50</td>\n",
       "      <td>36.38</td>\n",
       "    </tr>\n",
       "    <tr>\n",
       "      <th>2</th>\n",
       "      <td>2.50</td>\n",
       "      <td>18.19</td>\n",
       "    </tr>\n",
       "    <tr>\n",
       "      <th>3</th>\n",
       "      <td>2.50</td>\n",
       "      <td>12.13</td>\n",
       "    </tr>\n",
       "    <tr>\n",
       "      <th>4</th>\n",
       "      <td>2.50</td>\n",
       "      <td>9.10</td>\n",
       "    </tr>\n",
       "  </tbody>\n",
       "</table>\n",
       "</div>"
      ],
      "text/plain": [
       "               Average Accuracy  Average Forgetting\n",
       "Approach Task                                      \n",
       "iCaRL    0                38.88                 NaN\n",
       "         1                 2.50               36.38\n",
       "         2                 2.50               18.19\n",
       "         3                 2.50               12.13\n",
       "         4                 2.50                9.10"
      ]
     },
     "execution_count": 34,
     "metadata": {},
     "output_type": "execute_result"
    }
   ],
   "source": [
    "data_icarl.groupby(['Approach', 'Task']).mean().apply(lambda x: round(x, 2))"
   ]
  },
  {
   "cell_type": "code",
   "execution_count": 35,
   "metadata": {},
   "outputs": [],
   "source": [
    "path_rere = '/home/karokaro/research-repositories/FACIL/results/tiny-imagenet-200_rere_lrp_final_tiny_img'"
   ]
  },
  {
   "cell_type": "code",
   "execution_count": 36,
   "metadata": {},
   "outputs": [
    {
     "data": {
      "text/plain": [
       "['stderr-2025-01-27-03-56.txt',\n",
       " 'stdout-2025-01-26-22-46.txt',\n",
       " 'raw_log-2025-01-26-16-18.txt',\n",
       " 'stderr-2025-01-26-16-18.txt',\n",
       " 'stderr-2025-01-26-05-57.txt',\n",
       " 'stderr-2025-01-25-23-46.txt',\n",
       " 'stdout-2025-01-25-23-46.txt',\n",
       " 'stderr-2025-01-25-23-47.txt',\n",
       " 'raw_log-2025-01-25-23-46.txt',\n",
       " 'stderr-2025-01-26-21-10.txt',\n",
       " 'args-2025-01-26-13-51.txt',\n",
       " 'args-2025-01-25-23-47.txt',\n",
       " 'stdout-2025-01-27-03-56.txt',\n",
       " 'raw_log-2025-01-25-23-47.txt',\n",
       " 'raw_log-2025-01-26-13-51.txt',\n",
       " 'stdout-2025-01-26-05-57.txt',\n",
       " 'args-2025-01-26-05-57.txt',\n",
       " 'stderr-2025-01-26-22-46.txt',\n",
       " 'stdout-2025-01-26-13-51.txt',\n",
       " 'args-2025-01-27-03-56.txt',\n",
       " 'stdout-2025-01-26-16-18.txt',\n",
       " 'args-2025-01-25-23-46.txt',\n",
       " 'raw_log-2025-01-26-22-46.txt',\n",
       " 'args-2025-01-26-16-18.txt',\n",
       " 'raw_log-2025-01-26-21-10.txt',\n",
       " 'stderr-2025-01-26-08-33.txt',\n",
       " 'raw_log-2025-01-26-05-57.txt',\n",
       " 'stderr-2025-01-26-13-51.txt',\n",
       " 'args-2025-01-26-08-33.txt',\n",
       " 'raw_log-2025-01-27-03-56.txt',\n",
       " 'args-2025-01-26-22-46.txt',\n",
       " 'stdout-2025-01-25-23-47.txt',\n",
       " 'args-2025-01-26-21-10.txt',\n",
       " 'stdout-2025-01-26-21-10.txt',\n",
       " 'raw_log-2025-01-26-08-33.txt',\n",
       " 'stdout-2025-01-26-08-33.txt']"
      ]
     },
     "execution_count": 36,
     "metadata": {},
     "output_type": "execute_result"
    }
   ],
   "source": [
    "from os import listdir\n",
    "from os.path import isfile, join\n",
    "onlyfiles = [f for f in listdir(path_rere) if isfile(join(path_rere, f))]\n",
    "onlyfiles"
   ]
  },
  {
   "cell_type": "code",
   "execution_count": 37,
   "metadata": {},
   "outputs": [
    {
     "data": {
      "text/plain": [
       "9"
      ]
     },
     "execution_count": 37,
     "metadata": {},
     "output_type": "execute_result"
    }
   ],
   "source": [
    "args = [file for file in onlyfiles if 'args' in file ]\n",
    "len(args)"
   ]
  },
  {
   "cell_type": "code",
   "execution_count": 38,
   "metadata": {},
   "outputs": [],
   "source": [
    "import json\n",
    "arg_dict = {}\n",
    "for file in args:\n",
    "    with open(join(path_rere, file), 'r') as f:\n",
    "        # regex time! we need only the timestamp of the file\n",
    "        name = file.split('args-')[1]\n",
    "        arg_dict[name] = json.loads(f.read())"
   ]
  },
  {
   "cell_type": "code",
   "execution_count": 39,
   "metadata": {},
   "outputs": [],
   "source": [
    "import json\n",
    "\n",
    "logs = [file for file in onlyfiles if 'raw_log' in file ]\n",
    "\n",
    "res_dict = {}\n",
    "for file in logs:\n",
    "    with open(join(path_rere, file), 'r') as f:\n",
    "        name = file.split('raw_log-')[1]\n",
    "        res_dict[name] = []\n",
    "        for line in f:\n",
    "            res_dict[name].append(json.loads(line.strip()))"
   ]
  },
  {
   "cell_type": "code",
   "execution_count": 40,
   "metadata": {},
   "outputs": [],
   "source": [
    "import numpy as np\n",
    "seeds = [0, 1, 2]\n",
    "for seed in seeds:\n",
    "    small = [key for key in arg_dict if arg_dict[key][\"seed\"]==seed]\n",
    "    arg_means = {key:[np.mean([k[\"value\"] for k in res_dict[key] if k[\"name\"]==\"acc_tag\" and k[\"group\"]==\"test\" and k[\"task\"] == i]) for i in [4]] for key in small}\n",
    "    max_key = max(arg_means, key=arg_means.get)\n",
    "    small.remove(max_key)\n",
    "    for key in small:\n",
    "        res_dict.pop(key)\n",
    "        arg_dict.pop(key)"
   ]
  },
  {
   "cell_type": "code",
   "execution_count": null,
   "metadata": {},
   "outputs": [
    {
     "name": "stderr",
     "output_type": "stream",
     "text": [
      "/home/karokaro/research-repositories/FACIL/venv/lib/python3.11/site-packages/numpy/_core/fromnumeric.py:3860: RuntimeWarning: Mean of empty slice.\n",
      "  return _methods._mean(a, axis=axis, dtype=dtype,\n",
      "/home/karokaro/research-repositories/FACIL/venv/lib/python3.11/site-packages/numpy/_core/_methods.py:145: RuntimeWarning: invalid value encountered in scalar divide\n",
      "  ret = ret.dtype.type(ret / rcount)\n"
     ]
    }
   ],
   "source": [
    "data_rere = pd.DataFrame({'Approach': list(chain.from_iterable([['ReReLRP' for i in range(5)] for key in res_dict.keys()])),\n",
    "                     'Task': list(chain.from_iterable([[i for i in range(5)] for key in res_dict.keys()])),\n",
    "                     'Average Accuracy': list(chain.from_iterable([[np.mean([k[\"value\"] for k in res_dict[key] if k[\"name\"]==\"acc_taw\" and k[\"group\"]==\"test\" and k[\"task\"] == i]) for i in range(5)] for key in res_dict.keys()])),\n",
    "                     'Average Forgetting': list(chain.from_iterable([[np.mean([k[\"value\"] for k in res_dict[key] if k[\"name\"]==\"forg_taw\" and k[\"group\"]==\"test\" and k[\"task\"] == i and k[\"iter\"] != k[\"task\"]]) for i in range(5)] for key in res_dict.keys()]))})"
   ]
  },
  {
   "cell_type": "code",
   "execution_count": 42,
   "metadata": {},
   "outputs": [
    {
     "data": {
      "text/plain": [
       "<Axes: xlabel='Task', ylabel='Average Accuracy'>"
      ]
     },
     "execution_count": 42,
     "metadata": {},
     "output_type": "execute_result"
    },
    {
     "data": {
      "image/png": "[encoded data removed]",
      "text/plain": [
       "<Figure size 640x480 with 1 Axes>"
      ]
     },
     "metadata": {},
     "output_type": "display_data"
    }
   ],
   "source": [
    "sns.lineplot( data_rere,  x='Task', y='Average Accuracy')"
   ]
  },
  {
   "cell_type": "code",
   "execution_count": 43,
   "metadata": {},
   "outputs": [
    {
     "data": {
      "text/html": [
       "<div>\n",
       "<style scoped>\n",
       "    .dataframe tbody tr th:only-of-type {\n",
       "        vertical-align: middle;\n",
       "    }\n",
       "\n",
       "    .dataframe tbody tr th {\n",
       "        vertical-align: top;\n",
       "    }\n",
       "\n",
       "    .dataframe thead th {\n",
       "        text-align: right;\n",
       "    }\n",
       "</style>\n",
       "<table border=\"1\" class=\"dataframe\">\n",
       "  <thead>\n",
       "    <tr style=\"text-align: right;\">\n",
       "      <th></th>\n",
       "      <th></th>\n",
       "      <th>Average Accuracy</th>\n",
       "      <th>Average Forgetting</th>\n",
       "    </tr>\n",
       "    <tr>\n",
       "      <th>Approach</th>\n",
       "      <th>Task</th>\n",
       "      <th></th>\n",
       "      <th></th>\n",
       "    </tr>\n",
       "  </thead>\n",
       "  <tbody>\n",
       "    <tr>\n",
       "      <th rowspan=\"5\" valign=\"top\">ReReLRP</th>\n",
       "      <th>0</th>\n",
       "      <td>40.45</td>\n",
       "      <td>NaN</td>\n",
       "    </tr>\n",
       "    <tr>\n",
       "      <th>1</th>\n",
       "      <td>36.77</td>\n",
       "      <td>1.25</td>\n",
       "    </tr>\n",
       "    <tr>\n",
       "      <th>2</th>\n",
       "      <td>25.41</td>\n",
       "      <td>0.62</td>\n",
       "    </tr>\n",
       "    <tr>\n",
       "      <th>3</th>\n",
       "      <td>19.65</td>\n",
       "      <td>0.42</td>\n",
       "    </tr>\n",
       "    <tr>\n",
       "      <th>4</th>\n",
       "      <td>16.22</td>\n",
       "      <td>0.31</td>\n",
       "    </tr>\n",
       "  </tbody>\n",
       "</table>\n",
       "</div>"
      ],
      "text/plain": [
       "               Average Accuracy  Average Forgetting\n",
       "Approach Task                                      \n",
       "ReReLRP  0                40.45                 NaN\n",
       "         1                36.77                1.25\n",
       "         2                25.41                0.62\n",
       "         3                19.65                0.42\n",
       "         4                16.22                0.31"
      ]
     },
     "execution_count": 43,
     "metadata": {},
     "output_type": "execute_result"
    }
   ],
   "source": [
    "data_rere.groupby(['Approach', 'Task']).mean().apply(lambda x: round(x, 2))"
   ]
  },
  {
   "cell_type": "code",
   "execution_count": 44,
   "metadata": {},
   "outputs": [],
   "source": [
    "path_lwm = '/home/karokaro/research-repositories/FACIL/results/tiny-imagenet-200_joint_final_tiny_img'"
   ]
  },
  {
   "cell_type": "code",
   "execution_count": 45,
   "metadata": {},
   "outputs": [
    {
     "data": {
      "text/plain": [
       "['stderr-2025-01-22-00-25.txt',\n",
       " 'raw_log-2025-01-21-22-11.txt',\n",
       " 'stderr-2025-01-22-00-49.txt',\n",
       " 'stdout-2025-01-21-22-39.txt',\n",
       " 'stdout-2025-01-22-00-49.txt',\n",
       " 'args-2025-01-22-00-25.txt',\n",
       " 'stdout-2025-01-22-01-55.txt',\n",
       " 'args-2025-01-22-01-22.txt',\n",
       " 'args-2025-01-22-00-49.txt',\n",
       " 'raw_log-2025-01-22-00-00.txt',\n",
       " 'stderr-2025-01-21-21-11.txt',\n",
       " 'stderr-2025-01-22-01-22.txt',\n",
       " 'stdout-2025-01-21-22-11.txt',\n",
       " 'stdout-2025-01-22-00-00.txt',\n",
       " 'raw_log-2025-01-22-01-22.txt',\n",
       " 'stderr-2025-01-21-22-39.txt',\n",
       " 'args-2025-01-22-00-00.txt',\n",
       " 'stdout-2025-01-22-01-22.txt',\n",
       " 'args-2025-01-21-21-41.txt',\n",
       " 'stdout-2025-01-22-00-25.txt',\n",
       " 'stderr-2025-01-22-00-00.txt',\n",
       " 'stderr-2025-01-21-22-11.txt',\n",
       " 'raw_log-2025-01-21-21-11.txt',\n",
       " 'stderr-2025-01-22-01-55.txt',\n",
       " 'stdout-2025-01-21-21-41.txt',\n",
       " 'stdout-2025-01-21-21-11.txt',\n",
       " 'args-2025-01-21-21-11.txt',\n",
       " 'args-2025-01-21-22-39.txt',\n",
       " 'raw_log-2025-01-21-21-41.txt',\n",
       " 'raw_log-2025-01-22-00-25.txt',\n",
       " 'stderr-2025-01-21-21-41.txt',\n",
       " 'raw_log-2025-01-22-01-55.txt',\n",
       " 'args-2025-01-21-22-11.txt',\n",
       " 'raw_log-2025-01-22-00-49.txt',\n",
       " 'args-2025-01-22-01-55.txt',\n",
       " 'raw_log-2025-01-21-22-39.txt']"
      ]
     },
     "execution_count": 45,
     "metadata": {},
     "output_type": "execute_result"
    }
   ],
   "source": [
    "from os import listdir\n",
    "from os.path import isfile, join\n",
    "onlyfiles = [f for f in listdir(path_lwm) if isfile(join(path_lwm, f))]\n",
    "onlyfiles"
   ]
  },
  {
   "cell_type": "code",
   "execution_count": 46,
   "metadata": {},
   "outputs": [
    {
     "data": {
      "text/plain": [
       "9"
      ]
     },
     "execution_count": 46,
     "metadata": {},
     "output_type": "execute_result"
    }
   ],
   "source": [
    "args = [file for file in onlyfiles if 'args' in file ]\n",
    "len(args)"
   ]
  },
  {
   "cell_type": "code",
   "execution_count": 47,
   "metadata": {},
   "outputs": [],
   "source": [
    "import json\n",
    "arg_dict = {}\n",
    "for file in args:\n",
    "    with open(join(path_lwm, file), 'r') as f:\n",
    "        # regex time! we need only the timestamp of the file\n",
    "        name = file.split('args-')[1]\n",
    "        arg_dict[name] = json.loads(f.read())"
   ]
  },
  {
   "cell_type": "code",
   "execution_count": 48,
   "metadata": {},
   "outputs": [],
   "source": [
    "import json\n",
    "\n",
    "logs = [file for file in onlyfiles if 'raw_log' in file ]\n",
    "\n",
    "res_dict = {}\n",
    "for file in logs:\n",
    "    with open(join(path_lwm, file), 'r') as f:\n",
    "        name = file.split('raw_log-')[1]\n",
    "        res_dict[name] = []\n",
    "        for line in f:\n",
    "            res_dict[name].append(json.loads(line.strip()))"
   ]
  },
  {
   "cell_type": "code",
   "execution_count": 49,
   "metadata": {},
   "outputs": [],
   "source": [
    "import numpy as np\n",
    "seeds = [0, 1, 2]\n",
    "for seed in seeds:\n",
    "    small = [key for key in arg_dict if arg_dict[key][\"seed\"]==seed]\n",
    "    arg_means = {key:[np.mean([k[\"value\"] for k in res_dict[key] if k[\"name\"]==\"acc_tag\" and k[\"group\"]==\"test\" and k[\"task\"] == i]) for i in [4]] for key in small}\n",
    "    max_key = max(arg_means, key=arg_means.get)\n",
    "    small.remove(max_key)\n",
    "    for key in small:\n",
    "        res_dict.pop(key)\n",
    "        arg_dict.pop(key)"
   ]
  },
  {
   "cell_type": "code",
   "execution_count": 50,
   "metadata": {},
   "outputs": [
    {
     "name": "stderr",
     "output_type": "stream",
     "text": [
      "/home/karokaro/research-repositories/FACIL/venv/lib/python3.11/site-packages/numpy/_core/fromnumeric.py:3860: RuntimeWarning: Mean of empty slice.\n",
      "  return _methods._mean(a, axis=axis, dtype=dtype,\n",
      "/home/karokaro/research-repositories/FACIL/venv/lib/python3.11/site-packages/numpy/_core/_methods.py:145: RuntimeWarning: invalid value encountered in scalar divide\n",
      "  ret = ret.dtype.type(ret / rcount)\n"
     ]
    }
   ],
   "source": [
    "import pandas as pd\n",
    "import numpy as np\n",
    "from itertools import chain\n",
    "data_joint = pd.DataFrame({'Approach': list(chain.from_iterable([['Joint' for i in range(5)] for key in res_dict.keys()])),\n",
    "                     'Task': list(chain.from_iterable([[i for i in range(5)] for key in res_dict.keys()])),\n",
    "                     'Average Accuracy': list(chain.from_iterable([[np.mean([k[\"value\"] for k in res_dict[key] if k[\"name\"]==\"acc_taw\" and k[\"group\"]==\"test\" and k[\"task\"] == i]) for i in range(5)] for key in res_dict.keys()])),\n",
    "                     'Average Forgetting': list(chain.from_iterable([[np.mean([k[\"value\"] for k in res_dict[key] if k[\"name\"]==\"forg_taw\" and k[\"group\"]==\"test\" and k[\"task\"] == i and k[\"iter\"] != k[\"task\"]]) for i in range(5)] for key in res_dict.keys()]))})"
   ]
  },
  {
   "cell_type": "code",
   "execution_count": 51,
   "metadata": {},
   "outputs": [
    {
     "name": "stderr",
     "output_type": "stream",
     "text": [
      "/tmp/ipykernel_41327/2585113533.py:1: FutureWarning: \n",
      "\n",
      "The `ci` parameter is deprecated. Use `errorbar=None` for the same effect.\n",
      "\n",
      "  sns.lineplot( data_joint,  x='Task', y='Average Accuracy', ci=None)\n"
     ]
    },
    {
     "data": {
      "text/plain": [
       "<Axes: xlabel='Task', ylabel='Average Accuracy'>"
      ]
     },
     "execution_count": 51,
     "metadata": {},
     "output_type": "execute_result"
    },
    {
     "data": {
      "image/png": "[encoded data removed]",
      "text/plain": [
       "<Figure size 640x480 with 1 Axes>"
      ]
     },
     "metadata": {},
     "output_type": "display_data"
    }
   ],
   "source": [
    "sns.lineplot( data_joint,  x='Task', y='Average Accuracy', ci=None)"
   ]
  },
  {
   "cell_type": "code",
   "execution_count": 52,
   "metadata": {},
   "outputs": [
    {
     "data": {
      "text/html": [
       "<div>\n",
       "<style scoped>\n",
       "    .dataframe tbody tr th:only-of-type {\n",
       "        vertical-align: middle;\n",
       "    }\n",
       "\n",
       "    .dataframe tbody tr th {\n",
       "        vertical-align: top;\n",
       "    }\n",
       "\n",
       "    .dataframe thead th {\n",
       "        text-align: right;\n",
       "    }\n",
       "</style>\n",
       "<table border=\"1\" class=\"dataframe\">\n",
       "  <thead>\n",
       "    <tr style=\"text-align: right;\">\n",
       "      <th></th>\n",
       "      <th></th>\n",
       "      <th>Average Accuracy</th>\n",
       "      <th>Average Forgetting</th>\n",
       "    </tr>\n",
       "    <tr>\n",
       "      <th>Approach</th>\n",
       "      <th>Task</th>\n",
       "      <th></th>\n",
       "      <th></th>\n",
       "    </tr>\n",
       "  </thead>\n",
       "  <tbody>\n",
       "    <tr>\n",
       "      <th rowspan=\"5\" valign=\"top\">Joint</th>\n",
       "      <th>0</th>\n",
       "      <td>38.15</td>\n",
       "      <td>NaN</td>\n",
       "    </tr>\n",
       "    <tr>\n",
       "      <th>1</th>\n",
       "      <td>41.55</td>\n",
       "      <td>-4.77</td>\n",
       "    </tr>\n",
       "    <tr>\n",
       "      <th>2</th>\n",
       "      <td>42.56</td>\n",
       "      <td>-2.17</td>\n",
       "    </tr>\n",
       "    <tr>\n",
       "      <th>3</th>\n",
       "      <td>42.35</td>\n",
       "      <td>-1.25</td>\n",
       "    </tr>\n",
       "    <tr>\n",
       "      <th>4</th>\n",
       "      <td>42.43</td>\n",
       "      <td>-0.84</td>\n",
       "    </tr>\n",
       "  </tbody>\n",
       "</table>\n",
       "</div>"
      ],
      "text/plain": [
       "               Average Accuracy  Average Forgetting\n",
       "Approach Task                                      \n",
       "Joint    0                38.15                 NaN\n",
       "         1                41.55               -4.77\n",
       "         2                42.56               -2.17\n",
       "         3                42.35               -1.25\n",
       "         4                42.43               -0.84"
      ]
     },
     "execution_count": 52,
     "metadata": {},
     "output_type": "execute_result"
    }
   ],
   "source": [
    "data_joint.groupby(['Approach', 'Task']).mean().apply(lambda x: round(x, 2))"
   ]
  },
  {
   "cell_type": "code",
   "execution_count": 53,
   "metadata": {},
   "outputs": [],
   "source": [
    "data_all = pd.concat([data, data_ewc, data_icarl, data_rere, data_joint, data_lwm], ignore_index=True)"
   ]
  },
  {
   "cell_type": "code",
   "execution_count": 54,
   "metadata": {},
   "outputs": [
    {
     "name": "stderr",
     "output_type": "stream",
     "text": [
      "/tmp/ipykernel_41327/2809554026.py:5: FutureWarning: \n",
      "\n",
      "The `ci` parameter is deprecated. Use `errorbar=None` for the same effect.\n",
      "\n",
      "  g = sns.lineplot( data_all, hue='Approach', x='Task', y='Average Accuracy', hue_order=hue_order, ci=None)\n"
     ]
    },
    {
     "data": {
      "image/png": "[encoded data removed]",
      "text/plain": [
       "<Figure size 640x480 with 1 Axes>"
      ]
     },
     "metadata": {},
     "output_type": "display_data"
    }
   ],
   "source": [
    "import matplotlib.pyplot as plt\n",
    "hue_order = [\"LWM\", \"LWF\", \"EWC\", \"iCaRL\", \"ReReLRP\", \"Joint\"]\n",
    "paletter = sns.color_palette(\"colorblind\", 6)\n",
    "sns.set_theme(style=\"ticks\", font_scale=1.3) \n",
    "g = sns.lineplot( data_all, hue='Approach', x='Task', y='Average Accuracy', hue_order=hue_order, ci=None)\n",
    "g.set_xticks(range(5))\n",
    "g.set_xticklabels([i+1 for i in range(5)])\n",
    "import matplotlib.ticker as mtick\n",
    "g.yaxis.set_major_formatter(mtick.PercentFormatter(decimals=0))\n",
    "\n",
    "plt.savefig(\"tiny_taw.pdf\", format='pdf', bbox_inches='tight')"
   ]
  }
 ],
 "metadata": {
  "kernelspec": {
   "display_name": "venv",
   "language": "python",
   "name": "python3"
  },
  "language_info": {
   "codemirror_mode": {
    "name": "ipython",
    "version": 3
   },
   "file_extension": ".py",
   "mimetype": "text/x-python",
   "name": "python",
   "nbconvert_exporter": "python",
   "pygments_lexer": "ipython3",
   "version": "3.11.4"
  }
 },
 "nbformat": 4,
 "nbformat_minor": 2
}
